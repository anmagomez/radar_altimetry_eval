{
 "cells": [
  {
   "cell_type": "code",
   "execution_count": null,
   "id": "fbceb0ed-79f9-4ffb-9068-635f505fba63",
   "metadata": {},
   "outputs": [],
   "source": []
  }
 ],
 "metadata": {
  "kernelspec": {
   "display_name": "Python 3",
   "language": "python",
   "name": "python3"
  },
  "language_info": {
   "name": ""
  }
 },
 "nbformat": 4,
 "nbformat_minor": 5
}
