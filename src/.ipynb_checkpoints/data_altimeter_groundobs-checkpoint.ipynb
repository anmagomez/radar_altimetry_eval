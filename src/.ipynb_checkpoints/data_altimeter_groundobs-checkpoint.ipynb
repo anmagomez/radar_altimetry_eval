{
 "cells": [
  {
   "cell_type": "markdown",
   "id": "59d36087-3783-41ab-ad95-178cdff8b889",
   "metadata": {},
   "source": [
    "This script will\n",
    "- Get data from stations\n",
    "- Get processed altimeter data\n",
    "- Plot data location\n",
    "- Plot time series altimeter and station\n",
    "- Calculate and Plot accuracies\n",
    "- Separate low level from high levels"
   ]
  },
  {
   "cell_type": "code",
   "execution_count": 2,
   "id": "5f815326-284a-4969-871a-0f9cfc65f989",
   "metadata": {},
   "outputs": [],
   "source": [
    "from ground_data import GroundObservations\n",
    "import importlib\n",
    "import pandas as pd\n",
    "import os\n",
    "import datetime as dt\n",
    "%load_ext autoreload\n",
    "%autoreload 2"
   ]
  },
  {
   "cell_type": "code",
   "execution_count": 31,
   "id": "b579671f-0198-49aa-a32c-f75b2d71e876",
   "metadata": {},
   "outputs": [
    {
     "name": "stdout",
     "output_type": "stream",
     "text": [
      "['BTN2' 'HMT2' 'KHB2' 'PHN2' 'RAW2' 'SAW2']\n",
      "     gauge_id           name       date      time  height  \\\n",
      "3739     BTN2  Bay Tree Lake 2017-06-12  18:36:14    1.35   \n",
      "3740     BTN2  Bay Tree Lake 2017-04-18  12:24:13    1.74   \n",
      "\n",
      "     is_bubble_level_okay                                              notes  \\\n",
      "3739                  Yes  Text read: current height around 1.35 wavy bet...   \n",
      "3740                  Yes                                    Initial reading   \n",
      "\n",
      "          phone_no  min_height  max_height  unit source  \n",
      "3739   19193458623         0.0        3.33  FEET  LOCSS  \n",
      "3740  +19192728167         0.0        3.33  FEET  LOCSS  \n",
      "['2830' '1830' '2832' '2028' '2231' '2234' '2300' '2316']\n",
      "/n..................../n          Fecha y Hora  Altura [m] source gauge_id\n",
      "0 2010-03-01 12:00:00         2.3   ARHN     2830\n",
      "1 2010-03-02 12:00:00         2.3   ARHN     2830\n",
      "['2464800' '6903880' '6604000']\n",
      "   Unnamed: 0 agency_cd  site_no       Date  X_00065_00003 X_00065_00003_cd  \\\n",
      "0           1      USGS  2464800 2002-07-04         223.73                A   \n",
      "1           2      USGS  2464800 2002-07-05         223.66                A   \n",
      "\n",
      "  source  \n",
      "0   USGS  \n",
      "1   USGS  \n"
     ]
    }
   ],
   "source": [
    "#Test Getting data from stations\n",
    "#So far what works\n",
    "# Getting locss stations\n",
    "# Getting ARHN stations \n",
    "# Getting USGS stations from file. Still working on R script connection\n",
    "go=GroundObservations()\n",
    "lc_lakes=['KHB2','HMT2','PHN2','SAW2','RAW2','BTN2']\n",
    "df_locss=go.read_ground_data('LOCSS', station_id=lc_lakes)\n",
    "print(df_locss.gauge_id.unique())\n",
    "print(df_locss.head(2))\n",
    "\n",
    "ar_lakes=['1805', '1819', '1824', '2830', '1830','2832', '2028','2102','2231','2234','2300','2316']\n",
    "skip_rows=1\n",
    "df_arhn=go.read_ground_data('ARHN', skip_rows=skip_rows, station_id=ar_lakes)\n",
    "print(df_arhn.gauge_id.unique())\n",
    "print('/n..................../n',df_arhn.head(2))\n",
    "\n",
    "us_lakes=['2464800','6903880','6604000']\n",
    "df_usgs=go.read_ground_data('USGS',station_id=us_lakes)\n",
    "print(df_usgs.site_no.unique())\n",
    "print(df_usgs.head(2))\n"
   ]
  }
 ],
 "metadata": {
  "kernelspec": {
   "display_name": "Python 3",
   "language": "python",
   "name": "python3"
  },
  "language_info": {
   "codemirror_mode": {
    "name": "ipython",
    "version": 3
   },
   "file_extension": ".py",
   "mimetype": "text/x-python",
   "name": "python",
   "nbconvert_exporter": "python",
   "pygments_lexer": "ipython3",
   "version": "3.9.10"
  }
 },
 "nbformat": 4,
 "nbformat_minor": 5
}
