{
 "cells": [
  {
   "cell_type": "markdown",
   "metadata": {},
   "source": [
    "# Basic filtering dataset LOCSS"
   ]
  },
  {
   "cell_type": "code",
   "execution_count": 44,
   "metadata": {},
   "outputs": [
    {
     "data": {
      "text/plain": [
       "'/home/angelica/Dropbox/apps/python_pychm/locss/src'"
      ]
     },
     "execution_count": 44,
     "metadata": {},
     "output_type": "execute_result"
    }
   ],
   "source": [
    "import pandas as pd\n",
    "import os\n",
    "\n",
    "\n",
    "current_dir=os.getcwd()\n",
    "current_dir"
   ]
  },
  {
   "cell_type": "markdown",
   "metadata": {},
   "source": [
    "Read coodinates and data"
   ]
  },
  {
   "cell_type": "code",
   "execution_count": 45,
   "metadata": {},
   "outputs": [],
   "source": [
    "df_locss=pd.read_csv('../data/readings.csv')\n",
    "df_coord_locss=pd.read_csv('../data/Gauges_Coordinates.csv')"
   ]
  },
  {
   "cell_type": "markdown",
   "metadata": {},
   "source": [
    "Get number of records by station "
   ]
  },
  {
   "cell_type": "code",
   "execution_count": 46,
   "metadata": {},
   "outputs": [],
   "source": [
    "#filter stations 119 \n",
    "df_locss=df_locss.loc[df_locss['gauge_id']!='119']"
   ]
  },
  {
   "cell_type": "code",
   "execution_count": 47,
   "metadata": {},
   "outputs": [],
   "source": [
    "#Define functions\n",
    "\n",
    "#format dataframe\n",
    "def format_df_stats(stat_df, id_fd, df_base_fd):\n",
    "    stats_fd=['count','mean','std','min','25c','50c','75c','max']\n",
    "    name_vs=[]\n",
    "    for vfd in df_base_fd:\n",
    "        name_vs=name_vs+[vfd+'_'+sfd for sfd in stats_fd]\n",
    "    new_colnames=id_fd+name_vs\n",
    "    stat_df.columns=new_colnames\n",
    "    return stat_df"
   ]
  },
  {
   "cell_type": "code",
   "execution_count": 48,
   "metadata": {},
   "outputs": [],
   "source": [
    "#how many data per station do we have \n",
    "df_locss_records=df_locss.groupby('gauge_id').describe().reset_index()\n",
    "df_locss_records\n",
    "id_fd=['gauge_id']\n",
    "df_base_fd=['height']\n",
    "df_locss_stats=format_df_stats(df_locss_records, id_fd, df_base_fd)\n"
   ]
  },
  {
   "cell_type": "code",
   "execution_count": 49,
   "metadata": {},
   "outputs": [],
   "source": [
    "## Lakes to filter \n",
    "\n",
    "#Test gauges 119, MFN2 and BPN2\n",
    "#Total  gauges without enough data New york: 9, total from Bangladesh: 26\n",
    "filter_lakes=[\"MFN2\",\"BPN2\",\"119\",\n",
    "              \"BRK2\",\"CQK2\",\"CHK2\",\"CSK2\",\"DPK2\",\"LNK2\",\"LPK2\",\"NAK2\",\"RLK2\",\n",
    "\"ABB2\",\n",
    "\"ADB2\",\n",
    "\"BBB2\",\n",
    "\"BHB2\",\n",
    "\"BNB2\",\n",
    "\"BPB2\",\n",
    "\"BTB2\",\n",
    "\"CCB2\",\n",
    "\"CGB2\",\n",
    "\"CRB2\",\n",
    "\"CTB2\",\n",
    "\"DAB2\",\n",
    "\"DCB2\",\n",
    "\"DHB2\",\n",
    "\"DLB2\",\n",
    "\"EDB2\",\n",
    "\"GBB2\",\n",
    "\"JSB2\",\n",
    "\"KJB2\",\n",
    "\"KSB2\",\n",
    "\"KTB2\",\n",
    "\"MGB2\",\n",
    "\"MKB2\",\n",
    "\"PTB2\",\n",
    "\"RMB2\",\n",
    "\"RUB2\",\n",
    "\"SBB2\"]"
   ]
  },
  {
   "cell_type": "code",
   "execution_count": 50,
   "metadata": {},
   "outputs": [],
   "source": [
    "df_locss_f=df_locss.loc[~df_locss['gauge_id'].isin(filter_lakes)]\n"
   ]
  },
  {
   "cell_type": "code",
   "execution_count": null,
   "metadata": {},
   "outputs": [],
   "source": [
    "df_locss_stats_f=df_locss_stats.loc[~df_locss_stats['gauge_id'].isin(filter_lakes)]\n",
    "df_locss_stats_f.to_csv('../data/stats_station.csv')"
   ]
  },
  {
   "cell_type": "code",
   "execution_count": 2,
   "metadata": {},
   "outputs": [],
   "source": [
    "#Last 2 digits indicating state/region/country...can it be standarized to represent the country?\n",
    "#What the two first digits mean?\n",
    "\n",
    "#Names of sites\n",
    "#NC: N2, New York K2, Washinton W2, Illinois L2, Massachusetts A2, New Hampshire H2, \n",
    "\n",
    "#Canada T2, France R2, Bangladesh B2, Indian D2, Pakistan P2, Nepal V2\n"
   ]
  },
  {
   "cell_type": "code",
   "execution_count": 51,
   "metadata": {},
   "outputs": [
    {
     "data": {
      "text/plain": [
       "(19553, 8)"
      ]
     },
     "execution_count": 51,
     "metadata": {},
     "output_type": "execute_result"
    }
   ],
   "source": [
    "df_locss_f.shape"
   ]
  },
  {
   "cell_type": "code",
   "execution_count": 64,
   "metadata": {},
   "outputs": [],
   "source": [
    "#Add the country\n",
    "regions={'N2':'US', 'K2':'US','W2':'US','L2':'US','A2':'US','H2':'US',\n",
    "        'T2':'CA', 'R2':'FR','B2':'BD','D2':'IN','P2':'PK', 'V2':'NP'}\n",
    "\n",
    "subregions={'N2':'NC', 'K2':'NY','W2':'WA','L2':'IL','A2':'MA','H2':'NH'}\n",
    "df_new=df_locss_f.copy()\n",
    "variable=pd.Series([regions[id[2:4]] for id in df_locss_f['gauge_id']])"
   ]
  },
  {
   "cell_type": "code",
   "execution_count": 66,
   "metadata": {},
   "outputs": [],
   "source": [
    "df_new['country']=variable"
   ]
  },
  {
   "cell_type": "code",
   "execution_count": 67,
   "metadata": {},
   "outputs": [
    {
     "data": {
      "text/html": [
       "<div>\n",
       "<style scoped>\n",
       "    .dataframe tbody tr th:only-of-type {\n",
       "        vertical-align: middle;\n",
       "    }\n",
       "\n",
       "    .dataframe tbody tr th {\n",
       "        vertical-align: top;\n",
       "    }\n",
       "\n",
       "    .dataframe thead th {\n",
       "        text-align: right;\n",
       "    }\n",
       "</style>\n",
       "<table border=\"1\" class=\"dataframe\">\n",
       "  <thead>\n",
       "    <tr style=\"text-align: right;\">\n",
       "      <th></th>\n",
       "      <th>gauge_id</th>\n",
       "      <th>name</th>\n",
       "      <th>date</th>\n",
       "      <th>time</th>\n",
       "      <th>height</th>\n",
       "      <th>is_bubble_level_okay</th>\n",
       "      <th>notes</th>\n",
       "      <th>phone_no</th>\n",
       "      <th>country</th>\n",
       "    </tr>\n",
       "  </thead>\n",
       "  <tbody>\n",
       "    <tr>\n",
       "      <th>8</th>\n",
       "      <td>AFR2</td>\n",
       "      <td>Étang de Fontargente - 1</td>\n",
       "      <td>2021-08-05</td>\n",
       "      <td>12:00:00</td>\n",
       "      <td>2195.045</td>\n",
       "      <td>Yes</td>\n",
       "      <td>NaN</td>\n",
       "      <td>NaN</td>\n",
       "      <td>FR</td>\n",
       "    </tr>\n",
       "    <tr>\n",
       "      <th>9</th>\n",
       "      <td>AFR2</td>\n",
       "      <td>Étang de Fontargente - 1</td>\n",
       "      <td>2021-08-05</td>\n",
       "      <td>12:00:00</td>\n",
       "      <td>2195.045</td>\n",
       "      <td>Yes</td>\n",
       "      <td>NaN</td>\n",
       "      <td>33669458621</td>\n",
       "      <td>FR</td>\n",
       "    </tr>\n",
       "    <tr>\n",
       "      <th>10</th>\n",
       "      <td>AFR2</td>\n",
       "      <td>Étang de Fontargente - 1</td>\n",
       "      <td>2021-07-11</td>\n",
       "      <td>12:00:00</td>\n",
       "      <td>2195.000</td>\n",
       "      <td>Yes</td>\n",
       "      <td>NaN</td>\n",
       "      <td>33699261282</td>\n",
       "      <td>FR</td>\n",
       "    </tr>\n",
       "    <tr>\n",
       "      <th>11</th>\n",
       "      <td>AFR2</td>\n",
       "      <td>Étang de Fontargente - 1</td>\n",
       "      <td>2021-07-14</td>\n",
       "      <td>13:00:00</td>\n",
       "      <td>2194.976</td>\n",
       "      <td>Yes</td>\n",
       "      <td>NaN</td>\n",
       "      <td>33609072718</td>\n",
       "      <td>FR</td>\n",
       "    </tr>\n",
       "    <tr>\n",
       "      <th>12</th>\n",
       "      <td>AFR2</td>\n",
       "      <td>Étang de Fontargente - 1</td>\n",
       "      <td>2021-07-16</td>\n",
       "      <td>13:00:00</td>\n",
       "      <td>2194.970</td>\n",
       "      <td>Yes</td>\n",
       "      <td>NaN</td>\n",
       "      <td>33688424709</td>\n",
       "      <td>FR</td>\n",
       "    </tr>\n",
       "  </tbody>\n",
       "</table>\n",
       "</div>"
      ],
      "text/plain": [
       "   gauge_id                      name        date      time    height  \\\n",
       "8      AFR2  Étang de Fontargente - 1  2021-08-05  12:00:00  2195.045   \n",
       "9      AFR2  Étang de Fontargente - 1  2021-08-05  12:00:00  2195.045   \n",
       "10     AFR2  Étang de Fontargente - 1  2021-07-11  12:00:00  2195.000   \n",
       "11     AFR2  Étang de Fontargente - 1  2021-07-14  13:00:00  2194.976   \n",
       "12     AFR2  Étang de Fontargente - 1  2021-07-16  13:00:00  2194.970   \n",
       "\n",
       "   is_bubble_level_okay notes     phone_no country  \n",
       "8                   Yes   NaN          NaN      FR  \n",
       "9                   Yes   NaN  33669458621      FR  \n",
       "10                  Yes   NaN  33699261282      FR  \n",
       "11                  Yes   NaN  33609072718      FR  \n",
       "12                  Yes   NaN  33688424709      FR  "
      ]
     },
     "execution_count": 67,
     "metadata": {},
     "output_type": "execute_result"
    }
   ],
   "source": [
    "from plotly.subplots import make_subplots\n",
    "import plotly.graph_objects as go\n",
    "\n",
    "fig = make_subplots(rows=3, cols=1)\n",
    "for r in regions:\n",
    "    df_subset=df_new.loc[df_new['country']==regions[r]]\n",
    "    "
   ]
  },
  {
   "cell_type": "code",
   "execution_count": 3,
   "metadata": {},
   "outputs": [
    {
     "data": {
      "text/plain": [
       "array(['R2', 'H2', 'K2', 'B2', 'D2', 'N2', 'W2', 'A2', 'L2', 'T2', 'V2',\n",
       "       'P2'], dtype=object)"
      ]
     },
     "execution_count": 3,
     "metadata": {},
     "output_type": "execute_result"
    }
   ],
   "source": [
    "df_locss=pd.read_csv('../data/readings.csv')\n",
    "df_locss_f=df_locss.loc[~df_locss['gauge_id'].isin(filter_lakes)]\n",
    "df_locss_f="
   ]
  }
 ],
 "metadata": {
  "kernelspec": {
   "display_name": "Python 3 (ipykernel)",
   "language": "python",
   "name": "python3"
  },
  "language_info": {
   "codemirror_mode": {
    "name": "ipython",
    "version": 3
   },
   "file_extension": ".py",
   "mimetype": "text/x-python",
   "name": "python",
   "nbconvert_exporter": "python",
   "pygments_lexer": "ipython3",
   "version": "3.8.11"
  }
 },
 "nbformat": 4,
 "nbformat_minor": 4
}
