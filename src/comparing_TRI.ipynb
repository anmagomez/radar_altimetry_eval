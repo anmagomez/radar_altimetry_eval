{
 "cells": [
  {
   "cell_type": "markdown",
   "id": "b1e8ce96-34f0-4bc5-987c-ca1e2d108171",
   "metadata": {},
   "source": [
    "To compare TRI\n",
    "\n",
    "Read each raster a X buffer \n",
    "Get the R2 and the RMSE from the metrics (error result file)\n",
    "Plot each TRI histogram shape\n",
    "Sumarize median\n"
   ]
  },
  {
   "cell_type": "code",
   "execution_count": 3,
   "id": "bcaf8e45-1e25-409b-a8de-40f5f401e79f",
   "metadata": {},
   "outputs": [],
   "source": [
    "#Test\n",
    "\n",
    "import matplotlib.pyplot as plt\n",
    "\n",
    "tif_file='C:/Users/amgomez/Dropbox/Research/LOCSS/other_lakes/Selected_lakes/SRTM/STRM_Buffer/TRI_1km_660400.tif'\n",
    "img = plt.imread(tif_file)\n",
    "\n",
    "# img.plot.hist(ax=ax,\n",
    "#                        color=\"purple\",\n",
    "#                        bins=30)"
   ]
  },
  {
   "cell_type": "code",
   "execution_count": 7,
   "id": "9eba13d1-45ea-412f-af15-6e1648109056",
   "metadata": {},
   "outputs": [
    {
     "data": {
      "text/plain": [
       "(304, 356, 4)"
      ]
     },
     "execution_count": 7,
     "metadata": {},
     "output_type": "execute_result"
    }
   ],
   "source": [
    "img.shape"
   ]
  },
  {
   "cell_type": "code",
   "execution_count": 11,
   "id": "bd50037a-b6cc-4045-a6c3-d1a93992b32f",
   "metadata": {},
   "outputs": [
    {
     "name": "stdout",
     "output_type": "stream",
     "text": [
      "Band range: 1164.8879394531 - 0.0\n",
      "Band mean, stddev: 17.385876995194, 105.86717671767\n",
      "\n"
     ]
    }
   ],
   "source": [
    "from osgeo import gdal\n",
    "\n",
    "dataset = gdal.Open(tif_file, gdal.GA_ReadOnly)\n",
    "band = dataset.GetRasterBand(1)\n",
    "array = band.ReadAsArray()\n",
    " # How about some band statistics?\n",
    "band_max, band_min, band_mean, band_stddev = band.GetStatistics(0, 1)\n",
    "print('Band range: {minimum} - {maximum}'.format(maximum=band_max,\n",
    "                                                 minimum=band_min))\n",
    "print('Band mean, stddev: {m}, {s}\\n'.format(m=band_mean, s=band_stddev))"
   ]
  }
 ],
 "metadata": {
  "kernelspec": {
   "display_name": "Python 3 (ipykernel)",
   "language": "python",
   "name": "python3"
  },
  "language_info": {
   "codemirror_mode": {
    "name": "ipython",
    "version": 3
   },
   "file_extension": ".py",
   "mimetype": "text/x-python",
   "name": "python",
   "nbconvert_exporter": "python",
   "pygments_lexer": "ipython3",
   "version": "3.9.11"
  }
 },
 "nbformat": 4,
 "nbformat_minor": 5
}
