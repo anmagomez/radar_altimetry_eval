{
 "cells": [
  {
   "cell_type": "markdown",
   "id": "b1e8ce96-34f0-4bc5-987c-ca1e2d108171",
   "metadata": {},
   "source": [
    "To compare TRI\n",
    "\n",
    "Read each raster a X buffer \n",
    "Get the R2 and the RMSE from the metrics (error result file)\n",
    "Plot each TRI histogram shape\n",
    "Sumarize median\n"
   ]
  },
  {
   "cell_type": "code",
   "execution_count": 12,
   "id": "bcaf8e45-1e25-409b-a8de-40f5f401e79f",
   "metadata": {},
   "outputs": [],
   "source": [
    "#Test\n",
    "\n",
    "import matplotlib.pyplot as plt\n",
    "\n",
    "tif_file='C:/Users/amgomez/Dropbox/Research/LOCSS/other_lakes/Selected_lakes/SRTM/STRM_Buffer/TRI_1km_660400.tif'\n",
    "img = plt.imread(tif_file)\n",
    "\n",
    "# img.plot.hist(ax=ax,\n",
    "#                        color=\"purple\",\n",
    "#                        bins=30)"
   ]
  },
  {
   "cell_type": "code",
   "execution_count": 13,
   "id": "9eba13d1-45ea-412f-af15-6e1648109056",
   "metadata": {},
   "outputs": [
    {
     "data": {
      "text/plain": [
       "(304, 356, 4)"
      ]
     },
     "execution_count": 13,
     "metadata": {},
     "output_type": "execute_result"
    }
   ],
   "source": [
    "img.shape"
   ]
  },
  {
   "cell_type": "code",
   "execution_count": 47,
   "id": "2bdd3fbe-22e2-4d20-8bc3-0dcb1dc66590",
   "metadata": {},
   "outputs": [
    {
     "data": {
      "text/plain": [
       "108224"
      ]
     },
     "execution_count": 47,
     "metadata": {},
     "output_type": "execute_result"
    }
   ],
   "source": [
    "304*356"
   ]
  },
  {
   "cell_type": "code",
   "execution_count": 21,
   "id": "dabc6368-5083-46b6-8b65-1fc045db4e20",
   "metadata": {},
   "outputs": [
    {
     "ename": "ModuleNotFoundError",
     "evalue": "No module named 'skimage'",
     "output_type": "error",
     "traceback": [
      "\u001b[1;31m---------------------------------------------------------------------------\u001b[0m",
      "\u001b[1;31mModuleNotFoundError\u001b[0m                       Traceback (most recent call last)",
      "Input \u001b[1;32mIn [21]\u001b[0m, in \u001b[0;36m<cell line: 2>\u001b[1;34m()\u001b[0m\n\u001b[0;32m      1\u001b[0m \u001b[38;5;28;01mfrom\u001b[39;00m \u001b[38;5;21;01mmatplotlib\u001b[39;00m\u001b[38;5;21;01m.\u001b[39;00m\u001b[38;5;21;01mpyplot\u001b[39;00m \u001b[38;5;28;01mimport\u001b[39;00m imread, imshow, show, subplot, title, get_cmap, hist\n\u001b[1;32m----> 2\u001b[0m \u001b[38;5;28;01mfrom\u001b[39;00m \u001b[38;5;21;01mskimage\u001b[39;00m\u001b[38;5;21;01m.\u001b[39;00m\u001b[38;5;21;01mexposure\u001b[39;00m \u001b[38;5;28;01mimport\u001b[39;00m equalize_hist\n",
      "\u001b[1;31mModuleNotFoundError\u001b[0m: No module named 'skimage'"
     ]
    }
   ],
   "source": [
    "from matplotlib.pyplot import imread, imshow, show, subplot, title, get_cmap, hist\n",
    "from skimage.exposure import equalize_hist\n"
   ]
  },
  {
   "cell_type": "code",
   "execution_count": 28,
   "id": "bd50037a-b6cc-4045-a6c3-d1a93992b32f",
   "metadata": {},
   "outputs": [
    {
     "name": "stdout",
     "output_type": "stream",
     "text": [
      "Band range: 0.0 - 1164.8879394531\n",
      "Band mean, stddev: 17.385876995194, 105.86717671767\n",
      "\n"
     ]
    }
   ],
   "source": [
    "from osgeo import gdal\n",
    "import numpy as np\n",
    "\n",
    "dataset = gdal.Open(tif_file, gdal.GA_ReadOnly)\n",
    "band = dataset.GetRasterBand(1)\n",
    "array = band.ReadAsArray()\n",
    " # How about some band statistics?\n",
    "band_min, band_max, band_mean, band_stddev = band.GetStatistics(0, 1)\n",
    "print('Band range: {minimum} - {maximum}'.format(maximum=band_max,\n",
    "                                                 minimum=band_min))\n",
    "print('Band mean, stddev: {m}, {s}\\n'.format(m=band_mean, s=band_stddev))"
   ]
  },
  {
   "cell_type": "code",
   "execution_count": 63,
   "id": "713cb39c-32a9-4996-ac81-95f232f6f0f7",
   "metadata": {},
   "outputs": [
    {
     "ename": "AttributeError",
     "evalue": "'numpy.ndarray' object has no attribute 'median_grouped'",
     "output_type": "error",
     "traceback": [
      "\u001b[1;31m---------------------------------------------------------------------------\u001b[0m",
      "\u001b[1;31mAttributeError\u001b[0m                            Traceback (most recent call last)",
      "Input \u001b[1;32mIn [63]\u001b[0m, in \u001b[0;36m<cell line: 1>\u001b[1;34m()\u001b[0m\n\u001b[1;32m----> 1\u001b[0m \u001b[43marray\u001b[49m\u001b[38;5;241;43m.\u001b[39;49m\u001b[43mmedian_grouped\u001b[49m()\n",
      "\u001b[1;31mAttributeError\u001b[0m: 'numpy.ndarray' object has no attribute 'median_grouped'"
     ]
    }
   ],
   "source": [
    "array.median_grouped()"
   ]
  },
  {
   "cell_type": "code",
   "execution_count": null,
   "id": "89968ce3-d003-4ded-8788-bb92c960036f",
   "metadata": {},
   "outputs": [],
   "source": []
  },
  {
   "cell_type": "code",
   "execution_count": 20,
   "id": "f310adfe-b133-4ed7-89e2-0590f453f970",
   "metadata": {},
   "outputs": [
    {
     "ename": "NameError",
     "evalue": "name 'equalize_hist' is not defined",
     "output_type": "error",
     "traceback": [
      "\u001b[1;31m---------------------------------------------------------------------------\u001b[0m",
      "\u001b[1;31mNameError\u001b[0m                                 Traceback (most recent call last)",
      "Input \u001b[1;32mIn [20]\u001b[0m, in \u001b[0;36m<cell line: 1>\u001b[1;34m()\u001b[0m\n\u001b[1;32m----> 1\u001b[0m eq \u001b[38;5;241m=\u001b[39m np\u001b[38;5;241m.\u001b[39masarray(\u001b[43mequalize_hist\u001b[49m(img) \u001b[38;5;241m*\u001b[39m \u001b[38;5;241m255\u001b[39m, dtype\u001b[38;5;241m=\u001b[39m\u001b[38;5;124m'\u001b[39m\u001b[38;5;124muint8\u001b[39m\u001b[38;5;124m'\u001b[39m)\n\u001b[0;32m      3\u001b[0m subplot(\u001b[38;5;241m221\u001b[39m); imshow(img, cmap\u001b[38;5;241m=\u001b[39mget_cmap(\u001b[38;5;124m'\u001b[39m\u001b[38;5;124mgray\u001b[39m\u001b[38;5;124m'\u001b[39m)); title(\u001b[38;5;124m'\u001b[39m\u001b[38;5;124mOriginal\u001b[39m\u001b[38;5;124m'\u001b[39m)\n\u001b[0;32m      4\u001b[0m subplot(\u001b[38;5;241m222\u001b[39m); hist(img\u001b[38;5;241m.\u001b[39mflatten(), \u001b[38;5;241m256\u001b[39m, \u001b[38;5;28mrange\u001b[39m\u001b[38;5;241m=\u001b[39m(\u001b[38;5;241m0\u001b[39m,\u001b[38;5;241m256\u001b[39m)); title(\u001b[38;5;124m'\u001b[39m\u001b[38;5;124mHistogram of      origianl\u001b[39m\u001b[38;5;124m'\u001b[39m)\n",
      "\u001b[1;31mNameError\u001b[0m: name 'equalize_hist' is not defined"
     ]
    }
   ],
   "source": [
    "eq = np.asarray(equalize_hist(img) * 255, dtype='uint8')\n",
    "\n",
    "subplot(221); imshow(img, cmap=get_cmap('gray')); title('Original')\n",
    "subplot(222); hist(img.flatten(), 256, range=(0,256)); title('Histogram of      origianl')\n",
    "subplot(223); imshow(eq, cmap=get_cmap('gray'));  title('Histogram Equalized')\n",
    "subplot(224); hist(eq.flatten(), 256, range=(0,256));\n",
    "\n",
    "show()"
   ]
  },
  {
   "cell_type": "code",
   "execution_count": 27,
   "id": "289b4b51-c96a-4f6f-8c60-fc93d5c8b833",
   "metadata": {},
   "outputs": [
    {
     "data": {
      "text/plain": [
       "0.0"
      ]
     },
     "execution_count": 27,
     "metadata": {},
     "output_type": "execute_result"
    }
   ],
   "source": [
    "band_max"
   ]
  },
  {
   "cell_type": "code",
   "execution_count": 59,
   "id": "26b69e3c-3401-42f6-b9a1-d7f0ffba4bfa",
   "metadata": {},
   "outputs": [
    {
     "data": {
      "image/png": "[encoded data removed]",
      "text/plain": [
       "<Figure size 432x288 with 2 Axes>"
      ]
     },
     "metadata": {
      "needs_background": "light"
     },
     "output_type": "display_data"
    }
   ],
   "source": [
    "plt.subplot(1,2,1)\n",
    "# plt.imshow(img,cmap='gray')\n",
    "plt.title('image')\n",
    "plt.xticks([])\n",
    "plt.yticks([])\n",
    "\n",
    "plt.subplot(1,2,2)\n",
    "hist,bin = np.histogram(img.ravel(),500,[0,150])\n",
    "plt.xlim([band_min,100])\n",
    "plt.ylim([0,50000])\n",
    "plt.plot(hist)\n",
    "plt.title('histogram')\n",
    "\n",
    "plt.show()"
   ]
  },
  {
   "cell_type": "code",
   "execution_count": 64,
   "id": "9c5265f9-2749-4ab3-99a7-e5494d0d7c9d",
   "metadata": {},
   "outputs": [
    {
     "ename": "ModuleNotFoundError",
     "evalue": "No module named 'rasterio'",
     "output_type": "error",
     "traceback": [
      "\u001b[1;31m---------------------------------------------------------------------------\u001b[0m",
      "\u001b[1;31mModuleNotFoundError\u001b[0m                       Traceback (most recent call last)",
      "Input \u001b[1;32mIn [64]\u001b[0m, in \u001b[0;36m<cell line: 1>\u001b[1;34m()\u001b[0m\n\u001b[1;32m----> 1\u001b[0m \u001b[38;5;28;01mimport\u001b[39;00m \u001b[38;5;21;01mrasterio\u001b[39;00m\n\u001b[0;32m      2\u001b[0m \u001b[38;5;28;01mfrom\u001b[39;00m \u001b[38;5;21;01mrasterio\u001b[39;00m\u001b[38;5;21;01m.\u001b[39;00m\u001b[38;5;21;01mplot\u001b[39;00m \u001b[38;5;28;01mimport\u001b[39;00m show\n\u001b[0;32m      4\u001b[0m \u001b[38;5;66;03m# open the two rasters \u001b[39;00m\n",
      "\u001b[1;31mModuleNotFoundError\u001b[0m: No module named 'rasterio'"
     ]
    }
   ],
   "source": [
    "import rasterio\n",
    "from rasterio.plot import show\n",
    "\n",
    "# open the two rasters \n",
    "path='C:/Users/amgomez/Dropbox/Research/LOCSS/other_lakes/Selected_lakes/SRTM/STRM_Buffer/'\n",
    "dsm = rasterio.open(path+'TRI_1km_660400.tif', driver=\"GTiff\")\n",
    "dtm = rasterio.open(path+\"TRI_3km_PHN2.tif\", driver=\"GTiff\")\n",
    "\n",
    "# metadata functions from rasterio\n",
    "print(dsm.meta)\n",
    "print(dtm.meta)\n",
    "\n",
    "# plot with rasterio.plot, which provides matplotlib functionality\n",
    "show(dsm, title='Digital Surface Model', cmap='gist_ncar')"
   ]
  }
 ],
 "metadata": {
  "kernelspec": {
   "display_name": "Python 3 (ipykernel)",
   "language": "python",
   "name": "python3"
  },
  "language_info": {
   "codemirror_mode": {
    "name": "ipython",
    "version": 3
   },
   "file_extension": ".py",
   "mimetype": "text/x-python",
   "name": "python",
   "nbconvert_exporter": "python",
   "pygments_lexer": "ipython3",
   "version": "3.9.11"
  }
 },
 "nbformat": 4,
 "nbformat_minor": 5
}
