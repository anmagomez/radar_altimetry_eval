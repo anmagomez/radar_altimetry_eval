{
 "cells": [
  {
   "cell_type": "markdown",
   "id": "8c27403c-7ee8-4fd2-beeb-a8039024f7fb",
   "metadata": {},
   "source": [
    "This script prepares the data for the evaluation of importance factor, but also analyze the metrics and variables involved in that analysis\n",
    "In this script\n",
    "0. Format all the variables together \n",
    "1. Plot the summary results \n",
    "1.1. For section 2.1 in the paper\n",
    "1.2 For all the lakes\n",
    "2. Plot relation RMSE/Lake Variability\n",
    "3. Plot all the variables"
   ]
  },
  {
   "cell_type": "code",
   "execution_count": null,
   "id": "0a55146e-30cc-4779-85da-f730571afaae",
   "metadata": {},
   "outputs": [],
   "source": [
    "\n",
    "import statsmodels.api as sm\n",
    "import pandas as pd\n",
    "import numpy as np\n",
    "from sklearn.metrics import mean_squared_error\n",
    "from sklearn.model_selection import train_test_split\n",
    "from sklearn.feature_selection import SequentialFeatureSelector\n",
    "from sklearn.linear_model import LinearRegression\n",
    "from sklearn.datasets import load_iris\n",
    "from sklearn.ensemble import GradientBoostingRegressor\n",
    "import platform\n",
    "import geopandas as gpd\n",
    "import matplotlib.pyplot as plt\n",
    "import seaborn as sns\n",
    "import matplotlib as plt\n",
    "from datetime import datetime\n",
    "import os\n",
    "import itertools\n",
    "import time\n",
    "import statsmodels.api as sm\n",
    "# from sklearn import linear_model\n",
    "\n",
    "# import dtale\n",
    "from icecream import ic\n",
    "#Importing tqdm for the progress bar\n",
    "from tqdm import tnrange, tqdm_notebook\n",
    "%matplotlib inline\n",
    "plt.style.use('ggplot')\n",
    "%matplotlib inline"
   ]
  },
  {
   "cell_type": "code",
   "execution_count": null,
   "id": "8f6d5c70-e74a-4ef3-8457-16b600b43762",
   "metadata": {},
   "outputs": [],
   "source": [
    "#Get all lakes \n",
    "if platform.system()=='Linux':\n",
    "    base_path='/home/angelica/Documents/py_linux/'\n",
    "else:\n",
    "    base_path='C:/Users/amgomez/Documents/PythonScripts/'"
   ]
  },
  {
   "cell_type": "code",
   "execution_count": null,
   "id": "8fc64cad-2392-406c-9782-db7e3041ed14",
   "metadata": {},
   "outputs": [],
   "source": [
    "### Predictors I should pick\n",
    "1. Length of the orbit crossing the lake: orbit_leng\n",
    "2. Area of the lake influence by the orbit: area_buffe\n",
    "3. Lake area: Lake_area\n",
    "4. Topography roughness: TRI_mdn\n",
    "5. Variability of Lake surface water elevation (Option 1): APL\n",
    "6. Variability of Lake surface water elevation (Option 2 flashiness index Baker 2004): rb_index\n",
    "7. Variance of observations?? roughness. Standard deviation of the differences, based on https://stats.stackexchange.com/questions/24607/how-to-measure-smoothness-of-a-time-series-in-r. I have std_diff and mean_diff. To calculate the variability it should be std_diff/abs(mean_diff) if mean diff!=0\n",
    "8. Standard deviation of the observations std_obs\n",
    "9. Probablility of ICE ??\n",
    "10. No Samples from altimeter data\n",
    "##3 Reponse variables to try"
   ]
  },
  {
   "cell_type": "code",
   "execution_count": null,
   "id": "37a17213-cefe-4d21-bc2b-defc3a01b422",
   "metadata": {},
   "outputs": [],
   "source": [
    "## 1. Length of the orbit crossing the lake \n",
    "## To get the total length\n",
    "### - Get the lakes\n",
    "### - Open sd file\n",
    "### - Link lakes to sd file\n",
    "### - Filter only the evaluation lakes\n",
    "### - Group lakes by lake_id and orbit to sum the length (sum the projected and non projected length"
   ]
  },
  {
   "cell_type": "code",
   "execution_count": null,
   "id": "e474a605-18c0-4596-86f5-c44c8977b3f0",
   "metadata": {},
   "outputs": [],
   "source": [
    "# Function to get Karina's station data \n",
    "def get_us_ca_data(df_results, gauge_id_fd, path_to_obs, folder_sep):\n",
    "    list_gauges=df_results[gauge_id_fd].unique()\n",
    "    #TODO validate empty list\n",
    "    df_files=pd.DataFrame()\n",
    "    for folder,details in folder_sep.items():\n",
    "        path=path_to_obs+folder+'/'\n",
    "        sep=details['sep']\n",
    "        org_col_fd=details['fields'].values()\n",
    "        new_col_fd={v: k for k, v in details['fields'].items()} \n",
    "        # print(sep, new_col_fd)\n",
    "        files = [f for f in os.listdir(path) if os.path.isfile(os.path.join(path, f))&(f.endswith('.dat'))&(f[:-4] in list_gauges)]\n",
    "         \n",
    "        for f in files:\n",
    "            f_name=path+f\n",
    "            df_file=pd.read_csv(f_name, sep=sep)\n",
    "            df_file=df_file[org_col_fd]\n",
    "            df_file=df_file.rename(columns=new_col_fd)\n",
    "            df_file['gauge_id']=f[:-4]\n",
    "            df_file['location']=details['location']\n",
    "            df_files=pd.concat([df_files, df_file], axis=0)\n",
    "\n",
    "    return df_files\n",
    "def aggregage_values_by_group(df, group_by_fds, sum_dict):\n",
    "    \n",
    "    df = df.groupby(group_by_fds).aggregate(sum_dict)\n",
    "    df.columns = ['_'.join([str(c) for c in col]).strip() for col in df.columns.values]\n",
    "    if isinstance(df, (pd.DatetimeIndex, pd.MultiIndex)):\n",
    "        df = df.to_frame(index=False)\n",
    "    return df.reset_index()\n",
    "\n",
    "def change_df_col_names(df, new_colnames):\n",
    "    '''Change all the names of a dataframe by the names in new_colnames. The columns are changed in the same order of new_colnames'''\n",
    "    for nn in new_colnames:\n",
    "        df.rename(columns={df.columns[new_colnames.index(nn)]:nn}, inplace=True) \n",
    "    return df\n",
    " "
   ]
  },
  {
   "cell_type": "code",
   "execution_count": null,
   "id": "7436a82d-3334-484a-b046-b8162a7ce6a9",
   "metadata": {},
   "outputs": [],
   "source": [
    "# open lakes\n",
    "if platform.system()=='Linux':\n",
    "    path_lakes='/home/angelica/Dropbox/Research/LOCSS/other_lakes/Selected_lakes/all_lakes_paper.shp'\n",
    "else:\n",
    "    path_lakes='D:/SWOT_ANGELICA/GDrive_Angelica/copy_db/Dropbox/Research/LOCSS/other_lakes/Selected_lakes/all_lakes_paper.shp'\n",
    "df_sel_lakes=gpd.read_file(path_lakes)\n",
    "\n",
    "# open orbit files for karina and SylvainDennis (this last ones are for evaluation)\n",
    "\n",
    "path_orbits_ka= base_path+'pylocss/data/area_orbits_in_lakes/orbit_length_cross_ka.csv'\n",
    "path_orbits_sd= base_path+'pylocss/data/area_orbits_in_lakes/orbit_length_cross_sd.csv'\n",
    "      \n",
    "\n",
    "df_orbits_ka=pd.read_csv(path_orbits_ka, sep=',')\n",
    "df_orbits_sd=pd.read_csv(path_orbits_sd, sep=',')\n",
    "\n",
    "# open resulting evaluation file \n",
    "# Final results for paper changed comparison__20230503_14_09 which are the old ones by comparison__20240222_11_38\n",
    "path_results_eval='../data/results/comparison__20240222_11_38.csv'\n",
    "df_results=pd.read_csv(path_results_eval, sep=',')\n",
    "df_results.rename(columns={'station':'gauge_id'}, inplace=True)\n",
    "# Mark the dataframe to be part of the evaluation in the paper\n",
    "df_results['section']='eval'\n",
    "\n",
    "# # open TRI resulting file\n",
    "\n",
    "path_TRI_summary_95= base_path+'pylocss/data/results/TRI_stats_95_5km_20230330_12_35.csv'\n",
    "path_TRI_summary_all=base_path+'pylocss/data/results/TRI_stats_all_5km_20230330_12_35.csv'\n",
    "\n",
    "df_TRI_95=pd.read_csv(path_TRI_summary_95, sep=',')\n",
    "df_TRI_all=pd.read_csv(path_TRI_summary_all, sep=',')\n",
    "\n",
    "# # open stations from Karina's work\n",
    "path_results_karina=base_path+'pylocss/data/karina/result_karina/results_karina_US_CA.shp'\n",
    "df_results_ka=gpd.read_file(path_results_karina)\n",
    "df_results_ka['section']='fact' #fact refers to using the dataset only for factor of importance\n",
    "\n",
    "# #open original data from karina\n",
    "path_to_obs_ka=base_path+'pylocss/data/karina/gauge_observations/'\n",
    "gauge_id_fd='gaugeid'\n",
    "folder_sep={'gaugedatUS':{'sep':' ','fields':{'date':'date', 'elev':'elev', 'decimal_time':'time'}, 'location':'US'},\n",
    "            'gaugedatahist':{'sep':',','fields':{'date':'Date', 'elev':'Value', 'decimal_time':'time'}, 'location':'Canada'}}\n",
    "df_gauges_data_ka=get_us_ca_data(df_results_ka, gauge_id_fd, path_to_obs_ka, folder_sep)\n",
    "\n",
    "# # area of water in the surrondings. The folder contains buffers each 1km from 1 to 5km\n",
    "path_to_aw=base_path+'pylocss/data/area_water/'\n",
    "files = [f for f in os.listdir(path_to_aw) if os.path.isfile(os.path.join(path_to_aw, f))&(f.endswith('.csv'))]\n",
    "sep=','         \n",
    "df_bf_wa=pd.DataFrame()\n",
    "for f in files:\n",
    "    f_name=path_to_aw+f\n",
    "    df_file=pd.read_csv(f_name, sep=sep)\n",
    "    bff=f.split('_')[2]\n",
    "    # df_file.columns[5:] = [c+'_'+km for c in df_file.columns.values]\n",
    "    # ren_col=df_file.columns[5:].values\n",
    "    # df_file.rename(columns={c:c.split('_')[0]+'_bff_'+bff for c in ren_col}, inplace=True)\n",
    "    #calculate the ratio of water to total area\n",
    "    water_ratio_fd='water_2_total'\n",
    "    no_water_bff_fd='no_water_bff'\n",
    "    df_file[water_ratio_fd]=df_file['waterArea_PA_km2']/df_file['totalArea_PA_km2']\n",
    "    df_file[no_water_bff_fd]=df_file['totalArea_PA_km2']-df_file['waterArea_PA_km2']\n",
    "    df_melt=pd.melt(df_file, id_vars=['lake_id','lake_name','l_area_org','l_area_wsg','gauge_id'], value_vars=df_file.columns[5:].values,\n",
    "                    var_name='buffer', value_name='area')\n",
    "    df_melt.loc[df_melt['buffer'].str.contains('waterArea'), 'type_pixel']='water'\n",
    "    df_melt.loc[df_melt['buffer'].str.contains('totalArea'), 'type_pixel']='total'\n",
    "    df_melt.loc[df_melt['buffer'].str.contains('water_2_total'), 'type_pixel']='water_2_total'\n",
    "    df_melt.loc[df_melt['buffer'].str.contains('no_water_bff'), 'type_pixel']='no_water_pixel'\n",
    "    df_melt['buffer']=bff\n",
    "    # ic(df_melt)\n",
    "    df_bf_wa=pd.concat([df_bf_wa, df_melt], axis=0)\n",
    "df_bf_wa['type_pixel'].unique()"
   ]
  },
  {
   "cell_type": "code",
   "execution_count": null,
   "id": "987190b3-ffb2-41c6-ba42-9a2bed0c3108",
   "metadata": {},
   "outputs": [],
   "source": [
    "## Process the orbit lengths\n",
    "### 1. Group the orbits by lake_id and orbit number and summarize the length\n",
    "### 2. Plot the length against lake area\n",
    "### 3. Join the orbit with RMSE results and R results \n",
    "### 4. Plot RMSE and R results against orbit length"
   ]
  },
  {
   "cell_type": "code",
   "execution_count": null,
   "id": "6d4cc6d0-1934-4648-86b0-8f9b84624f54",
   "metadata": {},
   "outputs": [],
   "source": [
    "# Calculate orbit length for each projected and not projected orbit but also in Aviso and SylvainDennis orbit\n",
    "\n",
    "\n",
    "output_fields=['orbit','lake_id','lake_area','sat','olength_wgs','olength_proj', 'orbit_count']\n",
    "group_by_fds=['Relative_O', 'lake_id', 'Lake_area','Satellite']\n",
    "sum_dict={'length_cross_wsg': ['sum'], \n",
    "         'length_cross_proj': ['sum'],\n",
    "         'Relative_O': ['count']}\n",
    "df_orbits_length_ka=aggregage_values_by_group(df_orbits_ka, group_by_fds, sum_dict)\n",
    "df_orbits_length_ka=change_df_col_names(df_orbits_length_ka, output_fields)\n",
    "df_orbits_length_ka.loc[df_orbits_length_ka['sat']=='Sentinel-3A', 'sat']= 'S3A'\n",
    "df_orbits_length_ka.loc[df_orbits_length_ka['sat']=='Sentinel-3B', 'sat']= 'S3B'\n",
    "df_orbits_length_ka.loc[df_orbits_length_ka['sat']=='Jason-3', 'sat']= 'J3'\n",
    "# ic(df_orbits_length_ka.loc[df_orbits_length_ka['orbit_count']>1])\n",
    "\n",
    "group_by_fds=['Orbit', 'lake_id','Lake_area', 'mission']\n",
    "sum_dict={'length_cross_wsg': ['sum'], \n",
    "         'length_cross_proj': ['sum'],\n",
    "         'Orbit': ['count']}\n",
    "df_orbits_length_sd=aggregage_values_by_group(df_orbits_sd, group_by_fds, sum_dict)\n",
    "df_orbits_length_sd=change_df_col_names(df_orbits_length_sd, output_fields)\n",
    "df_orbits_length_sd.loc[df_orbits_length_sd['sat']=='sentinel3a', 'sat']= 'S3A'\n",
    "df_orbits_length_sd.loc[df_orbits_length_sd['sat']=='sentinel3b', 'sat']= 'S3B'\n",
    "df_orbits_length_sd.loc[df_orbits_length_sd['sat']=='jason', 'sat']= 'J3'\n",
    "# df_orbits_length_sd.loc[df_orbits_length_sd['orbit_count']>1]\n"
   ]
  },
  {
   "cell_type": "code",
   "execution_count": null,
   "id": "622febba-1115-44d5-989d-13107b624c9c",
   "metadata": {},
   "outputs": [],
   "source": [
    "# Filter only evaluacion results that will be part of the analysis \n",
    "# To filter out\n",
    "# Old numbers before correction 1, 5, 19, 37. These numbers are for file comparison__20230503_14_09.csv\n",
    "# result_id=2 Repeat orbit of Acude Araras [2\t12030\tAÃ§ude Araras\t12030_AlTiS_TimeSeries_Jason-3_GDR_F_0087_S0420]\n",
    "# result_id=5 Shortest time series of the same lake [5\t12036\tAÃ§ude Atalho\t12036_AlTiS_TimeSeries_Jason-3_GDR_FallTest_0163_S0764]\n",
    "# result_id=19 Repeat of lacar lake [20\t2028\tLago Lacar\t2028_AlTiS_TimeSeries_Jason-3_0215_S4017]\n",
    "# result_id=37 repeart time series [38\t19069\tUHE Machadinho\t19069_AlTiS_TimeSeries_Sentinel-3A_0190_S2751]\n",
    "df_results_eval=df_results.loc[~df_results['result_id'].isin([2,5,20, 38])].copy()\n"
   ]
  },
  {
   "cell_type": "code",
   "execution_count": null,
   "id": "4aba0a08-a815-4258-98f9-c59b0124efaa",
   "metadata": {},
   "outputs": [],
   "source": [
    "df_results_eval.loc[df_results_eval['gauge_id'].isin(['6604000', '6903880']), ['gauge_id','R','PR_pvalue', 'RMSE']]"
   ]
  },
  {
   "cell_type": "code",
   "execution_count": null,
   "id": "af9dbce0-3f80-4f67-9138-be3035a208a5",
   "metadata": {},
   "outputs": [],
   "source": [
    "df_results_eval.loc[df_results_eval['PR_pvalue']>=0.05, 'gauge_id'].unique()"
   ]
  },
  {
   "cell_type": "code",
   "execution_count": null,
   "id": "b503b852-a554-4077-85df-cd8987c23622",
   "metadata": {},
   "outputs": [],
   "source": [
    "df_results_eval.loc[df_results_eval['PR_pvalue']<0.05, \"R\"].mean()"
   ]
  },
  {
   "cell_type": "code",
   "execution_count": null,
   "id": "6a15d43e-ab89-42ab-adaf-9e55747d1b8b",
   "metadata": {},
   "outputs": [],
   "source": [
    "# to extract the relevant columns\n",
    "relevant_col_ds=['result_id', 'gauge_id', 'lake_name', 'altis',\n",
    "       'name_altis', 'source', 'method', 'n_obs_altis', 'R', 'PR_pvalue',\n",
    "       'RHO', 'RHO_pvalue', 'NSF', 'RMSE', 'APL', 'ME', 'ME_Bias_Cor', 'VE',\n",
    "       'cv_obs', 'std_obs', 'mean_obs', 'n_obs', 'rb_index', 'std_diff',\n",
    "       'mean_diff', 'sat_min_utcdate', 'sat_max_utcdate', 'grd_min_utcdate',\n",
    "       'grd_max_utcdate']\n",
    "relevant_col_ka=['gaugeid', 'lakeid', 'track', 'sat', 'retracker', 'RMSE', 'nRMSE',\n",
    "       'bias', 'corr', 'nvalid', 'nobs', 'pvalid', 'medSD', 'minOCval',\n",
    "       'maxOCval', 'sigmaObs', 'sigmaRW', 'conv', 'mindist', 'maxdist',\n",
    "       'meandist', 'lat', 'lon', 'myindex', 'class', 'lakearea', 'source',\n",
    "       'layer', 'path', 'geometry']"
   ]
  },
  {
   "cell_type": "code",
   "execution_count": null,
   "id": "210ee919-194d-414d-922f-2ac247494103",
   "metadata": {},
   "outputs": [],
   "source": [
    "#rename cols to unify \n",
    "df_results_ka.rename(columns={'gaugeid':'gauge_id','lakeid':'lake_id', 'corr':'R', 'nobs':'n_v_obs', 'sigmaObs':'VE'}, inplace=True)\n",
    "df_results_eval.rename(columns={'n_obs_altis':'n_v_obs', 'n_obs':'nRMSE'}, inplace=True)"
   ]
  },
  {
   "cell_type": "code",
   "execution_count": null,
   "id": "ed188ffd-8be8-41ef-b674-081390ea77f0",
   "metadata": {},
   "outputs": [],
   "source": [
    "df_results_eval['sat']=[x.split('_')[3] for x in df_results_eval['altis']]\n",
    "df_results_eval.loc[df_results_eval['sat']=='Sentinel-3A', 'sat']= 'S3A'\n",
    "df_results_eval.loc[df_results_eval['sat']=='Sentinel-3B', 'sat']= 'S3B'\n",
    "df_results_eval.loc[df_results_eval['sat']=='Jason-3', 'sat']= 'J3'\n",
    "# df_results_eval['sat']"
   ]
  },
  {
   "cell_type": "code",
   "execution_count": null,
   "id": "43c4c39a-e830-46be-8385-d0135a1543b2",
   "metadata": {},
   "outputs": [],
   "source": [
    "# Calculate the APL and std_obs of the original data in Karina, for station\n",
    "df_gauges_data_ka.columns\n",
    "list_gauges=df_gauges_data_ka['gauge_id'].unique()\n",
    "list_gauges\n",
    "group_by_fds=['gauge_id']\n",
    "sum_dict={'elev': ['max','min','std']}\n",
    "# df_gauges_data_ka.\n",
    "df_variability_obs=aggregage_values_by_group(df_gauges_data_ka,group_by_fds,sum_dict)\n",
    "df_variability_obs['APL']=df_variability_obs['elev_max']-df_variability_obs['elev_min']\n",
    "df_variability_obs.rename(columns={'elev_std':'std_obs'}, inplace=True)\n",
    "# df_variability_obs"
   ]
  },
  {
   "cell_type": "code",
   "execution_count": null,
   "id": "31847fc9-45c0-4cba-876f-1845391a1c6c",
   "metadata": {},
   "outputs": [],
   "source": [
    "#Join lake variability to Karina's result dataset\n",
    "#TO-DO pending to change with other data\n",
    "df_results_ka_var=pd.merge(df_results_ka,df_variability_obs, on='gauge_id', how='right')\n",
    "# df_results_ka_var"
   ]
  },
  {
   "cell_type": "code",
   "execution_count": null,
   "id": "9ca6a898-7d25-40c2-b5a3-99580123936a",
   "metadata": {},
   "outputs": [],
   "source": [
    "# df_results_eval.loc[df_results_eval['source']=='ARHN']\n",
    "df_results_ka_var=df_results_ka_var.rename(columns={'track':'orbit'})"
   ]
  },
  {
   "cell_type": "code",
   "execution_count": null,
   "id": "262c7921-be3f-494f-a069-8aa8989f2b05",
   "metadata": {},
   "outputs": [],
   "source": [
    "# Merge both datasets\n",
    "### 1. Dataset from evaluation RHO pvalue <0.05\n",
    "### 2. Dataset from Karina's work"
   ]
  },
  {
   "cell_type": "code",
   "execution_count": null,
   "id": "6ca43024-6d23-4539-9b05-f1ca4d85f44f",
   "metadata": {},
   "outputs": [],
   "source": [
    "df_results_eval_pv=df_results_eval.loc[df_results_eval['RHO_pvalue']<0.05].copy()"
   ]
  },
  {
   "cell_type": "code",
   "execution_count": null,
   "id": "72bfd773-4fe4-4c61-b585-bb05f456fcaf",
   "metadata": {},
   "outputs": [],
   "source": [
    "# joining results together\n",
    "col_fds=['gauge_id', 'lake_id', 'sat','orbit', 'RMSE','nRMSE', 'R','source','std_obs','APL', 'VE', 'n_v_obs']\n",
    "df_ka=df_results_ka_var[col_fds].copy()\n",
    "df_ka['GDR_Processor']='Nielsen'\n",
    "df_ev=df_results_eval_pv[col_fds].copy()\n",
    "df_ev['GDR_Processor']='Biancamaria'\n"
   ]
  },
  {
   "cell_type": "code",
   "execution_count": null,
   "id": "ce09cae9-db98-46aa-8c3a-4f28a57c2d65",
   "metadata": {},
   "outputs": [],
   "source": [
    "### Correction of orbits (in the mean time)\n",
    "#### 1. Read file with wrong and corrected orbits\n",
    "#### 2. Replace the values in results df"
   ]
  },
  {
   "cell_type": "code",
   "execution_count": null,
   "id": "e6b200bc-eeaa-46ae-8471-dd09987845af",
   "metadata": {},
   "outputs": [],
   "source": [
    "df_correction_tracks=pd.read_csv('../data/results/lakes_with_other_orbit_number.csv', sep=',')\n",
    "dfx=df_correction_tracks.copy()\n",
    "\n",
    "['0'+x[0] for i,x in dfx.iterrows() if ((len(x[0])==7) &(~any(c.isalpha() for c in x[0])))]"
   ]
  },
  {
   "cell_type": "code",
   "execution_count": null,
   "id": "a525d125-0fda-445c-91b6-4e6936c9f267",
   "metadata": {},
   "outputs": [],
   "source": [
    "for i,x in df_correction_tracks.iterrows():\n",
    "    df_results_all.loc[(df_results_all['gauge_id']==x[0])&(df_results_all['lake_id']==x[1])&(df_results_all['sat']==x[2]), 'orbit']=x[4]\n",
    "  \n"
   ]
  },
  {
   "cell_type": "code",
   "execution_count": null,
   "id": "3e9885c0-ef5e-4d78-b945-8ac60916bb7c",
   "metadata": {},
   "outputs": [],
   "source": [
    "### End of correction"
   ]
  },
  {
   "cell_type": "code",
   "execution_count": null,
   "id": "92fe69c8-31c9-4c5f-a3ff-18bb4afb7582",
   "metadata": {},
   "outputs": [],
   "source": [
    "# Merge with TRI, orbit Length, lake_area"
   ]
  },
  {
   "cell_type": "code",
   "execution_count": null,
   "id": "2cecd2ec-73a1-4669-8770-9ac93c91cff0",
   "metadata": {},
   "outputs": [],
   "source": [
    "df=df_TRI_95[['lake_id','50%']].copy()\n",
    "df.rename(columns={'50%':'TRI_median_95'}, inplace=True)\n",
    "\n",
    "# df_orbits_length_sd df_orbits_length_ka\n",
    "df_temp=df_TRI_all[['lake_id','50%']].copy()\n",
    "df_temp.rename(columns={'50%':'TRI_median_all'}, inplace=True)\n",
    "\n",
    "df_all_orbit=pd.merge(df_results_all, df_orbits_length_sd, on=['lake_id', 'sat', 'orbit'], how='left')\n",
    "df_all_TRI95=pd.merge(df_all_orbit, df, on='lake_id', how='left')\n",
    "df_all=pd.merge(df_all_TRI95, df_temp, on='lake_id', how='left')\n",
    "# df_all\n"
   ]
  },
  {
   "cell_type": "code",
   "execution_count": null,
   "id": "e18bb86f-f637-4144-aab1-56bac2b38112",
   "metadata": {},
   "outputs": [],
   "source": [
    "df_results_all.loc[df_results_all['lake_id']==7110017272]\n",
    "df_results_all.loc[df_results_all['lake_id']==7110062262]\n",
    "# dtale.show(df_all_orbit.loc[df_all_orbit['lake_area'].isna()])\n",
    "# df_all_orbit.loc[df_all_orbit['lake_area'].isna()].to_csv('../data/results/temp_df_all_orbit_incorrect.csv', sep=',')"
   ]
  },
  {
   "cell_type": "code",
   "execution_count": null,
   "id": "5ff78960-73c6-4553-a0c0-730894fcf3a1",
   "metadata": {},
   "outputs": [],
   "source": [
    "df_all_orbit.loc[df_all_orbit['gauge_id']=='2234']\n",
    "# df_orbits_length_sd.loc[df_orbits_length_sd['lake_id']==6620000613]\n",
    "# df_results_all.loc[df_results_all['lake_id']==6610149612]\n",
    "# df_results_all.loc[df_results_all['gauge_id']=='2234']\n",
    "# df_orbits_sd['mission'].unique()"
   ]
  },
  {
   "cell_type": "code",
   "execution_count": null,
   "id": "153c629c-3d13-498f-8dcd-9ce5e06201e4",
   "metadata": {},
   "outputs": [],
   "source": [
    "#CFN2\n",
    "df_all.loc[df_all['gauge_id']=='CFN2',['olength_wgs','olength_proj','lake_area']]=[0,0, 3.72]\n",
    "# YSL2\n",
    "df_all.loc[df_all['gauge_id']=='YSL2',['olength_wgs','olength_proj','lake_area']]=[0,0, 0.27]\n"
   ]
  },
  {
   "cell_type": "code",
   "execution_count": null,
   "id": "1134e671-05ea-4598-8447-236e7f7a582d",
   "metadata": {},
   "outputs": [],
   "source": [
    "cols_bff_water=['water','water_2_total','no_water_pixel']\n",
    "bff=['1km','2km','3km','4km','5km']\n",
    "df=df_bf_wa.copy()\n",
    "df_final=df_all.copy()\n",
    "for bf in bff:\n",
    "    for c in cols_bff_water:\n",
    "        df_temp=df.loc[(df['buffer']==bf)&(df['type_pixel']==c), ['lake_id', 'type_pixel', 'area']].copy()\n",
    "        df_temp.rename(columns={'area':c+'_'+bf}, inplace=True)\n",
    "        out_w_2_lake_fd='outwater_to_lake_'+bf\n",
    "        df_final=pd.merge(df_final, df_temp[['lake_id',c+'_'+bf]], on='lake_id', how='left') \n",
    "        df_final[out_w_2_lake_fd]=df_final[c+'_'+bf]/df_final['lake_area']"
   ]
  },
  {
   "cell_type": "code",
   "execution_count": null,
   "id": "72cb6e1c-802c-420c-ac67-dadd1e3a485b",
   "metadata": {},
   "outputs": [],
   "source": [
    "df=df_final.loc[df_final['source'].isin(['RVBR', 'ARHN', 'USGS', 'LOCSS'])].copy()\n",
    "df.gauge_id.unique()"
   ]
  },
  {
   "cell_type": "code",
   "execution_count": null,
   "id": "8374eba1-d3d4-4fae-bc44-cd32fe6e675a",
   "metadata": {},
   "outputs": [],
   "source": [
    "## Plot results only first part paper "
   ]
  },
  {
   "cell_type": "code",
   "execution_count": null,
   "id": "dc8cb164-847e-4c44-ba5e-264e65fb9db5",
   "metadata": {},
   "outputs": [],
   "source": [
    "from matplotlib.ticker import FormatStrFormatter\n",
    "import matplotlib.pyplot as plt\n",
    "sns.set_style('white')\n",
    "\n",
    "plt.style.use('default')\n",
    "plt.rcParams[\"figure.figsize\"] = (15,5)\n",
    "plt.rcParams['font.family']='Arial'\n",
    "# plt.style.use('classic')\n",
    "\n",
    "# print(df.head())\n",
    "# df=df_final.loc[(df_final['lake_area']<=20)|(df_final['source']=='RVBR')].copy()#.sort_values(by=['sat']).copy()\n",
    "df=df_final.loc[df_final['source'].isin(['RVBR', 'ARHN', 'USGS', 'LOCSS'])].copy()#.sort_values(by=['sat']).copy()\n",
    "\n",
    "# df.loc[df['lake_area']<=20, 'labels']='Area <=20 km2'\n",
    "df.loc[df['source']=='RVBR', 'labels']='Reservoirs'\n",
    "df.loc[df['source']=='LOCSS', 'labels']='LOCSS'\n",
    "df.loc[df['source'].isin(['ARHN','USGS']), 'labels']='National Dataset'\n",
    "# df.loc[df['source']=='RVBR', 'labels']='Represas'\n",
    "# df.loc[df['source']=='LOCSS', 'labels']='LOCSS'\n",
    "# df.loc[df['source'].isin(['ARHN','USGS']), 'labels']='Sistema nacional'\n",
    "df=df.sort_values(by='labels')\n",
    "# df=df.loc[df['variable'].isin(['RMSE','lakearea'])]\n",
    "fig, axes = plt.subplots(1,2)\n",
    "x_fd='labels'\n",
    "# y_fd='RHO'\n",
    "# y_label=['$\\\\rho$', 'RMSE (m)']\n",
    "y_fd='R'\n",
    "y_label=['R', 'RMSE (m)']\n",
    "\n",
    "hue='labels'#'method'\n",
    "\n",
    "#     # col='variable'\n",
    "#     # size=\"Lake_area\"\n",
    "pal=sns.color_palette([\"#7570b3\", \"#1b9e77\", \"#d95f02\"], as_cmap=False)\n",
    "# pal=sns.color_palette([\"#7570b3\",  \"#d95f02\"], as_cmap=False)\n",
    "color=[\"#7570b3\", \"#d95f02\",\"#1b9e77\"]\n",
    "# color=[\"#7570b3\", \"#d95f02\"]\n",
    "facet_kws={'sharey': True, 'sharex': False}\n",
    "\n",
    "#     # for i in ['r2', 'RMSE']:\n",
    "#     # df=df.loc[df[col]==i]\n",
    "\n",
    "\n",
    "# g = sns.relplot(data=df,facet_kws=facet_kws,\n",
    "#             x=x_fd, y=y_fd,#palette=pal,\n",
    "#             hue=hue,# col=col,size=size,\n",
    "#             row=row,# col_wrap=2,\n",
    "#             kind=\"scatter\", height=4, aspect=10/4)#,\n",
    "                #join=False)#,\n",
    "            #dodge=True)\n",
    "    #                height=4, aspect=.7)\n",
    "# Iterating through axes and names\n",
    "# names=['Lake area <=20 $km^{2}$', 'Reservoirs']\n",
    "\n",
    "# names=['LOCSS', 'Sistema nacional','Represas']\n",
    "names=['LOCSS', 'National Dataset','Reservoirs']\n",
    "i=0\n",
    "pred=['R','RMSE']\n",
    "\n",
    "# xlabels=df[hue].unique()\n",
    "# print(xlabels)\n",
    "for name, ax in zip(pred, axes.flatten()):\n",
    "    # sns.boxplot(y=name, x= \"a\", data=df, orient='v', ax=ax)\n",
    "    # if type(name)==list:\n",
    "    #     d_to_plot=df.loc[df[row].isin(name)]\n",
    "    # else:\n",
    "    y_fd=name\n",
    "    d_to_plot=df#.loc[df[row].isin([name])]\n",
    "    g = sns.boxplot(data=d_to_plot,#facet_kws=facet_kws,\n",
    "            y=y_fd,\n",
    "            palette=pal,\n",
    "            x=hue,\n",
    "            ax=ax, linewidth=.5)\n",
    "    # if name=='ME':\n",
    "        # g.set(ylim=(-0.01, 0.01))\n",
    "    # else: \n",
    "    sns.stripplot(x=hue, y=y_fd, data=d_to_plot, marker=\"o\", alpha=0.3, color=\"black\", ax=ax)\n",
    "    ax.set_ylabel(y_label[i], fontsize=18)\n",
    "    ax.set_xlabel('', fontsize=18)\n",
    "    # ax.set_xlabel(names[i], fontsize=14)\n",
    "    ax.set_yticklabels(ax.get_yticks(), size = 16)\n",
    "    ax.set_xticklabels(names, size = 16)\n",
    "    ax.yaxis.set_major_formatter(FormatStrFormatter('%.1f'))\n",
    "    i=i+1\n",
    "fig2=plt.gcf()\n",
    "plt.show()"
   ]
  },
  {
   "cell_type": "code",
   "execution_count": null,
   "id": "205a350e-3a62-49f8-b52d-b03daff4d5bd",
   "metadata": {},
   "outputs": [],
   "source": [
    "fig2.savefig('../data/results/Fig2_ResultsSection1_paper_0222_rho_significant.png', dpi=400)"
   ]
  },
  {
   "cell_type": "code",
   "execution_count": null,
   "id": "ced9d7de-2867-445d-8c33-fe4ea8f74449",
   "metadata": {},
   "outputs": [],
   "source": []
  },
  {
   "cell_type": "code",
   "execution_count": 85,
   "id": "158c0213-92e0-427f-86c9-bb6b6e824d82",
   "metadata": {},
   "outputs": [
    {
     "data": {
      "text/plain": [
       "0.25    0.93975\n",
       "0.50    0.98000\n",
       "0.75    0.99300\n",
       "Name: R, dtype: float64"
      ]
     },
     "execution_count": 85,
     "metadata": {},
     "output_type": "execute_result"
    }
   ],
   "source": [
    "df.loc[df['labels']=='Reservoirs', 'R'].quantile([0.25, 0.5, 0.75])\n",
    "# df['labels'].unique()"
   ]
  },
  {
   "cell_type": "code",
   "execution_count": 35,
   "id": "0f633be2-e255-460d-a79a-88c214a0f0ec",
   "metadata": {},
   "outputs": [
    {
     "data": {
      "text/html": [
       "<div>\n",
       "<style scoped>\n",
       "    .dataframe tbody tr th:only-of-type {\n",
       "        vertical-align: middle;\n",
       "    }\n",
       "\n",
       "    .dataframe tbody tr th {\n",
       "        vertical-align: top;\n",
       "    }\n",
       "\n",
       "    .dataframe thead th {\n",
       "        text-align: right;\n",
       "    }\n",
       "</style>\n",
       "<table border=\"1\" class=\"dataframe\">\n",
       "  <thead>\n",
       "    <tr style=\"text-align: right;\">\n",
       "      <th></th>\n",
       "      <th>gauge_id</th>\n",
       "      <th>lake_id</th>\n",
       "      <th>sat</th>\n",
       "      <th>orbit</th>\n",
       "      <th>RMSE</th>\n",
       "      <th>nRMSE</th>\n",
       "      <th>R</th>\n",
       "      <th>source</th>\n",
       "      <th>std_obs</th>\n",
       "      <th>APL</th>\n",
       "      <th>...</th>\n",
       "      <th>no_water_pixel_3km</th>\n",
       "      <th>water_4km</th>\n",
       "      <th>outwater_to_lake_4km</th>\n",
       "      <th>water_2_total_4km</th>\n",
       "      <th>no_water_pixel_4km</th>\n",
       "      <th>water_5km</th>\n",
       "      <th>outwater_to_lake_5km</th>\n",
       "      <th>water_2_total_5km</th>\n",
       "      <th>no_water_pixel_5km</th>\n",
       "      <th>labels</th>\n",
       "    </tr>\n",
       "  </thead>\n",
       "  <tbody>\n",
       "    <tr>\n",
       "      <th>44</th>\n",
       "      <td>12030</td>\n",
       "      <td>12030.0</td>\n",
       "      <td>S3A</td>\n",
       "      <td>131</td>\n",
       "      <td>2.73</td>\n",
       "      <td>78</td>\n",
       "      <td>0.922</td>\n",
       "      <td>RVBR</td>\n",
       "      <td>6.602417</td>\n",
       "      <td>18.239</td>\n",
       "      <td>...</td>\n",
       "      <td>268.098364</td>\n",
       "      <td>0.0</td>\n",
       "      <td>5.132898</td>\n",
       "      <td>0.0</td>\n",
       "      <td>344.109459</td>\n",
       "      <td>0.0</td>\n",
       "      <td>6.347265</td>\n",
       "      <td>0.0</td>\n",
       "      <td>425.52067</td>\n",
       "      <td>Represas</td>\n",
       "    </tr>\n",
       "  </tbody>\n",
       "</table>\n",
       "<p>1 rows × 40 columns</p>\n",
       "</div>"
      ],
      "text/plain": [
       "   gauge_id  lake_id  sat  orbit  RMSE  nRMSE      R source   std_obs     APL  \\\n",
       "44    12030  12030.0  S3A    131  2.73     78  0.922   RVBR  6.602417  18.239   \n",
       "\n",
       "    ...  no_water_pixel_3km  water_4km outwater_to_lake_4km  \\\n",
       "44  ...          268.098364        0.0             5.132898   \n",
       "\n",
       "    water_2_total_4km  no_water_pixel_4km  water_5km  outwater_to_lake_5km  \\\n",
       "44                0.0          344.109459        0.0              6.347265   \n",
       "\n",
       "    water_2_total_5km  no_water_pixel_5km    labels  \n",
       "44                0.0           425.52067  Represas  \n",
       "\n",
       "[1 rows x 40 columns]"
      ]
     },
     "execution_count": 35,
     "metadata": {},
     "output_type": "execute_result"
    }
   ],
   "source": [
    "df.loc[(df['labels']=='Represas')&(df['RMSE']==df['RMSE'].max())]"
   ]
  },
  {
   "cell_type": "code",
   "execution_count": 102,
   "id": "25e5c174-5afc-4c63-8eff-a2ac6c99ab31",
   "metadata": {},
   "outputs": [
    {
     "data": {
      "text/html": [
       "<div>\n",
       "<style scoped>\n",
       "    .dataframe tbody tr th:only-of-type {\n",
       "        vertical-align: middle;\n",
       "    }\n",
       "\n",
       "    .dataframe tbody tr th {\n",
       "        vertical-align: top;\n",
       "    }\n",
       "\n",
       "    .dataframe thead th {\n",
       "        text-align: right;\n",
       "    }\n",
       "</style>\n",
       "<table border=\"1\" class=\"dataframe\">\n",
       "  <thead>\n",
       "    <tr style=\"text-align: right;\">\n",
       "      <th></th>\n",
       "      <th>gauge_id</th>\n",
       "      <th>lake_id</th>\n",
       "      <th>sat</th>\n",
       "      <th>orbit</th>\n",
       "      <th>RMSE</th>\n",
       "      <th>nRMSE</th>\n",
       "      <th>R</th>\n",
       "      <th>source</th>\n",
       "      <th>std_obs</th>\n",
       "      <th>APL</th>\n",
       "      <th>...</th>\n",
       "      <th>no_water_pixel_3km</th>\n",
       "      <th>water_4km</th>\n",
       "      <th>outwater_to_lake_4km</th>\n",
       "      <th>water_2_total_4km</th>\n",
       "      <th>no_water_pixel_4km</th>\n",
       "      <th>water_5km</th>\n",
       "      <th>outwater_to_lake_5km</th>\n",
       "      <th>water_2_total_5km</th>\n",
       "      <th>no_water_pixel_5km</th>\n",
       "      <th>labels</th>\n",
       "    </tr>\n",
       "  </thead>\n",
       "  <tbody>\n",
       "    <tr>\n",
       "      <th>42</th>\n",
       "      <td>12030</td>\n",
       "      <td>12030.0</td>\n",
       "      <td>J3</td>\n",
       "      <td>44</td>\n",
       "      <td>1.016</td>\n",
       "      <td>205</td>\n",
       "      <td>0.990</td>\n",
       "      <td>RVBR</td>\n",
       "      <td>6.755851</td>\n",
       "      <td>23.423</td>\n",
       "      <td>...</td>\n",
       "      <td>268.098364</td>\n",
       "      <td>0.0</td>\n",
       "      <td>5.132898</td>\n",
       "      <td>0.0</td>\n",
       "      <td>344.109459</td>\n",
       "      <td>0.0</td>\n",
       "      <td>6.347265</td>\n",
       "      <td>0.0</td>\n",
       "      <td>425.52067</td>\n",
       "      <td>Reservoirs</td>\n",
       "    </tr>\n",
       "    <tr>\n",
       "      <th>44</th>\n",
       "      <td>12030</td>\n",
       "      <td>12030.0</td>\n",
       "      <td>S3A</td>\n",
       "      <td>131</td>\n",
       "      <td>2.730</td>\n",
       "      <td>78</td>\n",
       "      <td>0.922</td>\n",
       "      <td>RVBR</td>\n",
       "      <td>6.602417</td>\n",
       "      <td>18.239</td>\n",
       "      <td>...</td>\n",
       "      <td>268.098364</td>\n",
       "      <td>0.0</td>\n",
       "      <td>5.132898</td>\n",
       "      <td>0.0</td>\n",
       "      <td>344.109459</td>\n",
       "      <td>0.0</td>\n",
       "      <td>6.347265</td>\n",
       "      <td>0.0</td>\n",
       "      <td>425.52067</td>\n",
       "      <td>Reservoirs</td>\n",
       "    </tr>\n",
       "    <tr>\n",
       "      <th>43</th>\n",
       "      <td>12030</td>\n",
       "      <td>12030.0</td>\n",
       "      <td>S3A</td>\n",
       "      <td>52</td>\n",
       "      <td>1.854</td>\n",
       "      <td>77</td>\n",
       "      <td>0.969</td>\n",
       "      <td>RVBR</td>\n",
       "      <td>6.534899</td>\n",
       "      <td>16.456</td>\n",
       "      <td>...</td>\n",
       "      <td>268.098364</td>\n",
       "      <td>0.0</td>\n",
       "      <td>5.132898</td>\n",
       "      <td>0.0</td>\n",
       "      <td>344.109459</td>\n",
       "      <td>0.0</td>\n",
       "      <td>6.347265</td>\n",
       "      <td>0.0</td>\n",
       "      <td>425.52067</td>\n",
       "      <td>Reservoirs</td>\n",
       "    </tr>\n",
       "  </tbody>\n",
       "</table>\n",
       "<p>3 rows × 40 columns</p>\n",
       "</div>"
      ],
      "text/plain": [
       "   gauge_id  lake_id  sat  orbit   RMSE  nRMSE      R source   std_obs  \\\n",
       "42    12030  12030.0   J3     44  1.016    205  0.990   RVBR  6.755851   \n",
       "44    12030  12030.0  S3A    131  2.730     78  0.922   RVBR  6.602417   \n",
       "43    12030  12030.0  S3A     52  1.854     77  0.969   RVBR  6.534899   \n",
       "\n",
       "       APL  ...  no_water_pixel_3km  water_4km outwater_to_lake_4km  \\\n",
       "42  23.423  ...          268.098364        0.0             5.132898   \n",
       "44  18.239  ...          268.098364        0.0             5.132898   \n",
       "43  16.456  ...          268.098364        0.0             5.132898   \n",
       "\n",
       "    water_2_total_4km  no_water_pixel_4km  water_5km  outwater_to_lake_5km  \\\n",
       "42                0.0          344.109459        0.0              6.347265   \n",
       "44                0.0          344.109459        0.0              6.347265   \n",
       "43                0.0          344.109459        0.0              6.347265   \n",
       "\n",
       "    water_2_total_5km  no_water_pixel_5km      labels  \n",
       "42                0.0           425.52067  Reservoirs  \n",
       "44                0.0           425.52067  Reservoirs  \n",
       "43                0.0           425.52067  Reservoirs  \n",
       "\n",
       "[3 rows x 40 columns]"
      ]
     },
     "execution_count": 103,
     "metadata": {},
     "output_type": "execute_result"
    }
   ],
   "source": [
    "df.loc[df['gauge_id']=='12030]"
   ]
  },
  {
   "cell_type": "code",
   "execution_count": 67,
   "id": "7e0960c9-b44a-4dba-bab1-af5cd693ec9a",
   "metadata": {},
   "outputs": [
    {
     "data": {
      "text/plain": [
       "[0.102, 2.73]"
      ]
     },
     "execution_count": 67,
     "metadata": {},
     "output_type": "execute_result"
    }
   ],
   "source": [
    "[df.loc[df['labels']=='Reservoirs', 'RMSE'].min(),df.loc[df['labels']=='Reservoirs', 'RMSE'].max()]"
   ]
  },
  {
   "cell_type": "code",
   "execution_count": 97,
   "id": "14274c4c-7ca1-485f-9630-5ae76cf9b8ee",
   "metadata": {},
   "outputs": [
    {
     "data": {
      "text/plain": [
       "[0.093, 0.243]"
      ]
     },
     "execution_count": 97,
     "metadata": {},
     "output_type": "execute_result"
    }
   ],
   "source": [
    "[df.loc[df['labels']=='National Dataset', 'RMSE'].min(),df.loc[df['labels']=='National Dataset', 'RMSE'].max()]"
   ]
  },
  {
   "cell_type": "code",
   "execution_count": 98,
   "id": "a565d94e-7b61-418f-b437-a882fa2bcae8",
   "metadata": {},
   "outputs": [
    {
     "data": {
      "text/plain": [
       "[0.068, 0.776]"
      ]
     },
     "execution_count": 98,
     "metadata": {},
     "output_type": "execute_result"
    }
   ],
   "source": [
    "[df.loc[df['labels']=='LOCSS', 'RMSE'].min(),df.loc[df['labels']=='LOCSS', 'RMSE'].max()]"
   ]
  },
  {
   "cell_type": "code",
   "execution_count": 86,
   "id": "e6403609-045b-4323-889f-cc193c99d307",
   "metadata": {},
   "outputs": [
    {
     "data": {
      "text/plain": [
       "0.25    0.804\n",
       "0.50    0.871\n",
       "0.75    0.923\n",
       "Name: R, dtype: float64"
      ]
     },
     "execution_count": 86,
     "metadata": {},
     "output_type": "execute_result"
    }
   ],
   "source": [
    "df.loc[df['labels']=='National Dataset', 'R'].quantile([0.25, 0.5, 0.75])\n"
   ]
  },
  {
   "cell_type": "code",
   "execution_count": 87,
   "id": "f2132378-14cd-48af-9263-51ab1f072825",
   "metadata": {},
   "outputs": [
    {
     "data": {
      "text/plain": [
       "0.25    0.624\n",
       "0.50    0.689\n",
       "0.75    0.833\n",
       "Name: R, dtype: float64"
      ]
     },
     "execution_count": 87,
     "metadata": {},
     "output_type": "execute_result"
    }
   ],
   "source": [
    "df.loc[df['labels']=='LOCSS', 'R'].quantile([0.25, 0.5, 0.75])"
   ]
  },
  {
   "cell_type": "code",
   "execution_count": 94,
   "id": "a374b081-769c-401d-99fc-c7f163af43a7",
   "metadata": {},
   "outputs": [
    {
     "data": {
      "text/plain": [
       "[0.41596428571428573, 0.826714285714286]"
      ]
     },
     "execution_count": 94,
     "metadata": {},
     "output_type": "execute_result"
    }
   ],
   "source": [
    "[df.RMSE.mean(), df.R.mean()]"
   ]
  },
  {
   "cell_type": "code",
   "execution_count": 93,
   "id": "b88c1000-ee6d-4d67-a7c7-76e114513f55",
   "metadata": {},
   "outputs": [
    {
     "data": {
      "text/plain": [
       "0.8148148148148148"
      ]
     },
     "execution_count": 93,
     "metadata": {},
     "output_type": "execute_result"
    }
   ],
   "source": [
    "22/27"
   ]
  },
  {
   "cell_type": "code",
   "execution_count": 33,
   "id": "1d04bba4-53eb-4876-b013-28867efc9978",
   "metadata": {},
   "outputs": [
    {
     "data": {
      "text/plain": [
       "0.5390285714285713"
      ]
     },
     "execution_count": 33,
     "metadata": {},
     "output_type": "execute_result"
    }
   ],
   "source": [
    "df.RMSE.mean()"
   ]
  },
  {
   "cell_type": "code",
   "execution_count": 38,
   "id": "f5fff56c-10d8-4df7-8a60-387be82d88e3",
   "metadata": {},
   "outputs": [
    {
     "data": {
      "text/plain": [
       "54    515190.032\n",
       "55      3107.204\n",
       "66       219.940\n",
       "53     41832.077\n",
       "52     35817.032\n",
       "51       765.480\n",
       "49      2657.227\n",
       "50       187.202\n",
       "63      1605.727\n",
       "64      1524.489\n",
       "72     32959.039\n",
       "65      1314.490\n",
       "74      2477.169\n",
       "62      1607.094\n",
       "68    304783.551\n",
       "60    466025.761\n",
       "61    466060.972\n",
       "59    681607.731\n",
       "57    438449.031\n",
       "56    889704.353\n",
       "71      1078.069\n",
       "73    155338.702\n",
       "58    437287.163\n",
       "67       878.643\n",
       "69        23.529\n",
       "70        31.701\n",
       "42       235.311\n",
       "48        33.293\n",
       "47    110378.841\n",
       "46        96.508\n",
       "45       102.928\n",
       "44       199.799\n",
       "43       206.837\n",
       "75        36.975\n",
       "76       104.674\n",
       "Name: VE, dtype: float64"
      ]
     },
     "execution_count": 38,
     "metadata": {},
     "output_type": "execute_result"
    }
   ],
   "source": [
    "df.VE"
   ]
  },
  {
   "cell_type": "markdown",
   "id": "acf1cbb8-ed94-479f-8b7d-8c3d4696a4ba",
   "metadata": {},
   "source": [
    "### Only lakes less than 20 km2"
   ]
  },
  {
   "cell_type": "code",
   "execution_count": 38,
   "id": "8bb95330-844c-4580-a31e-e676a79b3cbc",
   "metadata": {},
   "outputs": [
    {
     "name": "stderr",
     "output_type": "stream",
     "text": [
      "C:\\Users\\amgomez\\AppData\\Local\\Temp\\ipykernel_23280\\2550677065.py:78: UserWarning: FixedFormatter should only be used together with FixedLocator\n",
      "  ax.set_yticklabels(ax.get_yticks(), size = 16)\n",
      "C:\\Users\\amgomez\\AppData\\Local\\Temp\\ipykernel_23280\\2550677065.py:78: UserWarning: FixedFormatter should only be used together with FixedLocator\n",
      "  ax.set_yticklabels(ax.get_yticks(), size = 16)\n"
     ]
    },
    {
     "data": {
      "image/png": "[encoded data removed]",
      "text/plain": [
       "<Figure size 1200x400 with 2 Axes>"
      ]
     },
     "metadata": {},
     "output_type": "display_data"
    }
   ],
   "source": [
    "from matplotlib.ticker import FormatStrFormatter\n",
    "import matplotlib.pyplot as plt\n",
    "# sns.set_style('white')\n",
    "# plt.style.use('dark_background')\n",
    "plt.style.use('default')\n",
    "plt.rcParams[\"figure.figsize\"] = (12,4)\n",
    "# plt.rcParams['font.family']='Arial'\n",
    "\n",
    "\n",
    "# print(df.head())\n",
    "# df=df_final.loc[(df_final['lake_area']<=20)|(df_final['source']=='RVBR')].copy()#.sort_values(by=['sat']).copy()\n",
    "df=df_final.loc[df_final['lake_area']<=20].copy()#.sort_values(by=['sat']).copy()\n",
    "\n",
    "df.loc[df['lake_area']<=20, 'labels']='Area <=20 km2'\n",
    "# df.loc[df['source']=='RVBR', 'labels']='Reservoirs'\n",
    "# df.loc[df['source']=='LOCSS', 'labels']='LOCSS'\n",
    "# df.loc[df['source'].isin(['ARHN','USGS']), 'labels']='National Dataset'\n",
    "df=df.sort_values(by='labels')\n",
    "# df=df.loc[df['variable'].isin(['RMSE','lakearea'])]\n",
    "fig, axes = plt.subplots(1,2)\n",
    "x_fd='labels'\n",
    "# y_fd='RHO'\n",
    "# y_label=['$\\\\rho$', 'RMSE (m)']\n",
    "y_fd='R'\n",
    "y_label=['R', 'RMSE (m)']\n",
    "\n",
    "hue='labels'#'method'\n",
    "\n",
    "#     # col='variable'\n",
    "#     # size=\"Lake_area\"\n",
    "# pal=sns.color_palette([\"#7570b3\", \"#1b9e77\", \"#d95f02\"], as_cmap=False)\n",
    "pal=sns.color_palette([\"#7570b3\"], as_cmap=False)\n",
    "# pal=sns.color_palette([\"#7570b3\",  \"#d95f02\"], as_cmap=False)\n",
    "# color=[\"#7570b3\", \"#d95f02\",\"#1b9e77\"]\n",
    "# color=[\"#7570b3\", \"#d95f02\"]\n",
    "color=[\"#7570b3\"]\n",
    "facet_kws={'sharey': True, 'sharex': False}\n",
    "\n",
    "#     # for i in ['r2', 'RMSE']:\n",
    "#     # df=df.loc[df[col]==i]\n",
    "\n",
    "\n",
    "# g = sns.relplot(data=df,facet_kws=facet_kws,\n",
    "#             x=x_fd, y=y_fd,#palette=pal,\n",
    "#             hue=hue,# col=col,size=size,\n",
    "#             row=row,# col_wrap=2,\n",
    "#             kind=\"scatter\", height=4, aspect=10/4)#,\n",
    "                #join=False)#,\n",
    "            #dodge=True)\n",
    "    #                height=4, aspect=.7)\n",
    "# Iterating through axes and names\n",
    "# names=['Lake area <=20 $km^{2}$', 'Reservoirs']\n",
    "names=['LOCSS']\n",
    "i=0\n",
    "pred=['R','RMSE']\n",
    "\n",
    "# xlabels=df[hue].unique()\n",
    "# print(xlabels)\n",
    "for name, ax in zip(pred, axes.flatten()):\n",
    "    # sns.boxplot(y=name, x= \"a\", data=df, orient='v', ax=ax)\n",
    "    # if type(name)==list:\n",
    "    #     d_to_plot=df.loc[df[row].isin(name)]\n",
    "    # else:\n",
    "    y_fd=name\n",
    "    d_to_plot=df#.loc[df[row].isin([name])]\n",
    "    g = sns.boxplot(data=d_to_plot,#facet_kws=facet_kws,\n",
    "            y=y_fd,\n",
    "            palette=pal,\n",
    "            x=hue,\n",
    "            ax=ax, linewidth=.5)\n",
    "    # if name=='ME':\n",
    "        # g.set(ylim=(-0.01, 0.01))\n",
    "    # else: \n",
    "    sns.stripplot(x=hue, y=y_fd, data=d_to_plot, marker=\"o\", alpha=0.3, color=\"black\", ax=ax)\n",
    "    ax.set_ylabel(y_label[i], fontsize=18)\n",
    "    ax.set_xlabel('', fontsize=18)\n",
    "    # ax.set_xlabel(names[i], fontsize=14)\n",
    "    ax.set_yticklabels(ax.get_yticks(), size = 16)\n",
    "    ax.set_xticklabels(names, size = 16)\n",
    "    ax.yaxis.set_major_formatter(FormatStrFormatter('%.1f'))\n",
    "    i=i+1\n",
    "fig2=plt.gcf()\n",
    "plt.show()"
   ]
  },
  {
   "cell_type": "markdown",
   "id": "deeb0238-4ac6-4ac2-abf0-6c1e3ad7fd15",
   "metadata": {},
   "source": [
    "## Supplemental figure of figure 2 with all the lakes divided into LOCSS, Additional lakes from National Datasets and Reservoirs\n"
   ]
  },
  {
   "cell_type": "code",
   "execution_count": null,
   "id": "680b0453-4412-497d-9dae-ecb73cc063cf",
   "metadata": {},
   "outputs": [],
   "source": []
  },
  {
   "cell_type": "code",
   "execution_count": 105,
   "id": "c1c40faf-d88c-407a-82ad-c4f930b7b0e7",
   "metadata": {},
   "outputs": [
    {
     "name": "stderr",
     "output_type": "stream",
     "text": [
      "C:\\Users\\amgomez\\AppData\\Local\\Temp\\ipykernel_21120\\3990585435.py:77: UserWarning:\n",
      "\n",
      "set_ticklabels() should only be used with a fixed number of ticks, i.e. after set_ticks() or using a FixedLocator.\n",
      "\n",
      "C:\\Users\\amgomez\\AppData\\Local\\Temp\\ipykernel_21120\\3990585435.py:77: UserWarning:\n",
      "\n",
      "set_ticklabels() should only be used with a fixed number of ticks, i.e. after set_ticks() or using a FixedLocator.\n",
      "\n"
     ]
    },
    {
     "data": {
      "image/png": "[encoded data removed]",
      "text/plain": [
       "<Figure size 2000x500 with 2 Axes>"
      ]
     },
     "metadata": {},
     "output_type": "display_data"
    }
   ],
   "source": [
    "from matplotlib.ticker import FormatStrFormatter\n",
    "import matplotlib.pyplot as plt\n",
    "# sns.set_style('white')\n",
    "# plt.style.use('dark_background')\n",
    "plt.style.use('default')\n",
    "plt.rcParams[\"figure.figsize\"] = (20,5)\n",
    "# plt.rcParams['font.family']='Arial'\n",
    "\n",
    "\n",
    "# print(df.head())\n",
    "df=df_final.copy()#.sort_values(by=['sat']).copy()\n",
    "\n",
    "# df.loc[df['lake_area']<=20, 'labels']='Area <=20 km2'\n",
    "# df.loc[~((df['lake_area']<=20)|(df['source']=='RVBR')), 'labels']='Other additional lakes'\n",
    "df.loc[df['source']=='LOCSS', 'labels']='LOCSS'\n",
    "df.loc[df['source']=='RVBR', 'labels']='Reservoirs'\n",
    "df.loc[~df['source'].isin(['RVBR','LOCSS']), 'labels']='National Datasets'\n",
    "# df.loc[df['source'].isin(['ARHN','USGS']), 'labels']='National Dataset'\n",
    "df=df.sort_values(by='labels')\n",
    "# df=df.loc[df['variable'].isin(['RMSE','lakearea'])]\n",
    "fig, axes = plt.subplots(1,2)\n",
    "x_fd='labels'\n",
    "# y_fd='RHO'\n",
    "# y_label=['$\\\\rho$', 'RMSE (m)']\n",
    "y_fd='R'\n",
    "y_label=['R', 'RMSE (m)']\n",
    "\n",
    "hue='labels'#'method'\n",
    "\n",
    "#     # col='variable'\n",
    "#     # size=\"Lake_area\"\n",
    "pal=sns.color_palette([\"#7570b3\", \"#1b9e77\", \"#d95f02\"], as_cmap=False)\n",
    "# pal=sns.color_palette([\"#7570b3\",  \"#d95f02\"], as_cmap=False)\n",
    "color=[\"#7570b3\", \"#1b9e77\",\"#d95f02\"]\n",
    "# color=[\"#7570b3\", \"#d95f02\"]\n",
    "facet_kws={'sharey': True, 'sharex': False}\n",
    "\n",
    "#     # for i in ['r2', 'RMSE']:\n",
    "#     # df=df.loc[df[col]==i]\n",
    "\n",
    "\n",
    "# g = sns.relplot(data=df,facet_kws=facet_kws,\n",
    "#             x=x_fd, y=y_fd,#palette=pal,\n",
    "#             hue=hue,# col=col,size=size,\n",
    "#             row=row,# col_wrap=2,\n",
    "#             kind=\"scatter\", height=4, aspect=10/4)#,\n",
    "                #join=False)#,\n",
    "            #dodge=True)\n",
    "    #                height=4, aspect=.7)\n",
    "# Iterating through axes and names\n",
    "# names=['Lake area <=20 $km^{2}$','Additional lakes', 'Reservoirs']\n",
    "names=['LOCSS','National Datasets','Reservoirs']\n",
    "i=0\n",
    "pred=['R','RMSE']\n",
    "\n",
    "# xlabels=df[hue].unique()\n",
    "# print(xlabels)\n",
    "for name, ax in zip(pred, axes.flatten()):\n",
    "    # sns.boxplot(y=name, x= \"a\", data=df, orient='v', ax=ax)\n",
    "    # if type(name)==list:\n",
    "    #     d_to_plot=df.loc[df[row].isin(name)]\n",
    "    # else:\n",
    "    y_fd=name\n",
    "    d_to_plot=df#.loc[df[row].isin([name])]\n",
    "    g = sns.boxplot(data=d_to_plot,#facet_kws=facet_kws,\n",
    "            y=y_fd,\n",
    "            palette=pal,\n",
    "            x=hue,\n",
    "            ax=ax, linewidth=.5)\n",
    "    # if name=='ME':\n",
    "        # g.set(ylim=(-0.01, 0.01))\n",
    "    # else: \n",
    "    sns.stripplot(x=hue, y=y_fd, data=d_to_plot, marker=\"o\", alpha=0.3, color=\"black\", ax=ax)\n",
    "    ax.set_ylabel(y_label[i], fontsize=20)\n",
    "    ax.set_xlabel('', fontsize=20)\n",
    "    # ax.set_xlabel(names[i], fontsize=14)\n",
    "    ax.set_yticklabels(ax.get_yticks(), size = 18)\n",
    "    ax.set_xticklabels(names, size = 18)\n",
    "    ax.yaxis.set_major_formatter(FormatStrFormatter('%.1f'))\n",
    "    i=i+1\n",
    "plt.tight_layout()\n",
    "fig2supl=plt.gcf()\n",
    "plt.show()"
   ]
  },
  {
   "cell_type": "code",
   "execution_count": 106,
   "id": "0a127b8a-24b9-420b-9e89-035f75c02d50",
   "metadata": {},
   "outputs": [],
   "source": [
    "fig2supl.savefig('../data/results/Fig_Supplemental_Results_R_RMSE_all_rho_significant.png', dpi=300)"
   ]
  },
  {
   "cell_type": "code",
   "execution_count": 31,
   "id": "c09bf2f3-e506-41f1-b7a4-fa7581b5f449",
   "metadata": {},
   "outputs": [
    {
     "data": {
      "text/html": [
       "<div>\n",
       "<style scoped>\n",
       "    .dataframe tbody tr th:only-of-type {\n",
       "        vertical-align: middle;\n",
       "    }\n",
       "\n",
       "    .dataframe tbody tr th {\n",
       "        vertical-align: top;\n",
       "    }\n",
       "\n",
       "    .dataframe thead th {\n",
       "        text-align: right;\n",
       "    }\n",
       "</style>\n",
       "<table border=\"1\" class=\"dataframe\">\n",
       "  <thead>\n",
       "    <tr style=\"text-align: right;\">\n",
       "      <th></th>\n",
       "      <th>gauge_id</th>\n",
       "      <th>lake_id</th>\n",
       "      <th>sat</th>\n",
       "      <th>orbit</th>\n",
       "      <th>RMSE</th>\n",
       "      <th>nRMSE</th>\n",
       "      <th>R</th>\n",
       "      <th>source</th>\n",
       "      <th>std_obs</th>\n",
       "      <th>APL</th>\n",
       "      <th>...</th>\n",
       "      <th>water_2_total_3km</th>\n",
       "      <th>no_water_pixel_3km</th>\n",
       "      <th>water_4km</th>\n",
       "      <th>outwater_to_lake_4km</th>\n",
       "      <th>water_2_total_4km</th>\n",
       "      <th>no_water_pixel_4km</th>\n",
       "      <th>water_5km</th>\n",
       "      <th>outwater_to_lake_5km</th>\n",
       "      <th>water_2_total_5km</th>\n",
       "      <th>no_water_pixel_5km</th>\n",
       "    </tr>\n",
       "  </thead>\n",
       "  <tbody>\n",
       "    <tr>\n",
       "      <th>60</th>\n",
       "      <td>2234</td>\n",
       "      <td>6.610150e+09</td>\n",
       "      <td>S3A</td>\n",
       "      <td>318</td>\n",
       "      <td>0.123</td>\n",
       "      <td>73</td>\n",
       "      <td>0.658</td>\n",
       "      <td>ARHN</td>\n",
       "      <td>0.117996</td>\n",
       "      <td>0.686</td>\n",
       "      <td>...</td>\n",
       "      <td>0.000187</td>\n",
       "      <td>87.433872</td>\n",
       "      <td>0.016384</td>\n",
       "      <td>13.871792</td>\n",
       "      <td>0.000128</td>\n",
       "      <td>128.452798</td>\n",
       "      <td>0.016384</td>\n",
       "      <td>18.961603</td>\n",
       "      <td>0.000093</td>\n",
       "      <td>175.584446</td>\n",
       "    </tr>\n",
       "    <tr>\n",
       "      <th>61</th>\n",
       "      <td>2234</td>\n",
       "      <td>6.610150e+09</td>\n",
       "      <td>S3A</td>\n",
       "      <td>338</td>\n",
       "      <td>0.175</td>\n",
       "      <td>72</td>\n",
       "      <td>0.560</td>\n",
       "      <td>ARHN</td>\n",
       "      <td>0.113700</td>\n",
       "      <td>1.025</td>\n",
       "      <td>...</td>\n",
       "      <td>0.000187</td>\n",
       "      <td>87.433872</td>\n",
       "      <td>0.016384</td>\n",
       "      <td>13.871792</td>\n",
       "      <td>0.000128</td>\n",
       "      <td>128.452798</td>\n",
       "      <td>0.016384</td>\n",
       "      <td>18.961603</td>\n",
       "      <td>0.000093</td>\n",
       "      <td>175.584446</td>\n",
       "    </tr>\n",
       "  </tbody>\n",
       "</table>\n",
       "<p>2 rows × 39 columns</p>\n",
       "</div>"
      ],
      "text/plain": [
       "   gauge_id       lake_id  sat  orbit   RMSE  nRMSE      R source   std_obs  \\\n",
       "60     2234  6.610150e+09  S3A    318  0.123     73  0.658   ARHN  0.117996   \n",
       "61     2234  6.610150e+09  S3A    338  0.175     72  0.560   ARHN  0.113700   \n",
       "\n",
       "      APL  ...  water_2_total_3km  no_water_pixel_3km water_4km  \\\n",
       "60  0.686  ...           0.000187           87.433872  0.016384   \n",
       "61  1.025  ...           0.000187           87.433872  0.016384   \n",
       "\n",
       "    outwater_to_lake_4km  water_2_total_4km  no_water_pixel_4km  water_5km  \\\n",
       "60             13.871792           0.000128          128.452798   0.016384   \n",
       "61             13.871792           0.000128          128.452798   0.016384   \n",
       "\n",
       "    outwater_to_lake_5km  water_2_total_5km  no_water_pixel_5km  \n",
       "60             18.961603           0.000093          175.584446  \n",
       "61             18.961603           0.000093          175.584446  \n",
       "\n",
       "[2 rows x 39 columns]"
      ]
     },
     "execution_count": 31,
     "metadata": {},
     "output_type": "execute_result"
    }
   ],
   "source": [
    "df_final.loc[df_final['gauge_id']=='2234']"
   ]
  },
  {
   "cell_type": "code",
   "execution_count": null,
   "id": "d9f1c330-0a6f-4571-ade3-6435352b30e4",
   "metadata": {},
   "outputs": [],
   "source": []
  },
  {
   "cell_type": "raw",
   "id": "0a5b9f98-7795-4c3e-b464-94f60f883bd1",
   "metadata": {},
   "source": []
  },
  {
   "cell_type": "code",
   "execution_count": 107,
   "id": "afce647c-68cc-44b1-be83-3d7722a7797b",
   "metadata": {},
   "outputs": [],
   "source": [
    "df_final.to_csv('../data/results/order_importance_02_22_24.csv', sep=',')"
   ]
  }
 ],
 "metadata": {
  "kernelspec": {
   "display_name": "Python 3 (ipykernel)",
   "language": "python",
   "name": "python3"
  },
  "language_info": {
   "codemirror_mode": {
    "name": "ipython",
    "version": 3
   },
   "file_extension": ".py",
   "mimetype": "text/x-python",
   "name": "python",
   "nbconvert_exporter": "python",
   "pygments_lexer": "ipython3",
   "version": "3.9.18"
  }
 },
 "nbformat": 4,
 "nbformat_minor": 5
}
