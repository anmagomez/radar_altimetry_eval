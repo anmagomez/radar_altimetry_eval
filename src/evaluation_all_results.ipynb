{
 "cells": [
  {
   "cell_type": "markdown",
   "id": "8c27403c-7ee8-4fd2-beeb-a8039024f7fb",
   "metadata": {},
   "source": [
    "This script prepares the data for the evaluation of importance factor, but also analyze the metrics and variables involved in that analysis\n",
    "In this script\n",
    "0. Format all the variables together \n",
    "1. Plot the summary results \n",
    "1.1. For section 2.1 in the paper\n",
    "1.2 For all the lakes\n",
    "2. Plot relation RMSE/Lake Variability\n",
    "3. Plot all the variables"
   ]
  },
  {
   "cell_type": "code",
   "execution_count": null,
   "id": "0a55146e-30cc-4779-85da-f730571afaae",
   "metadata": {},
   "outputs": [],
   "source": [
    "\n",
    "import statsmodels.api as sm\n",
    "import pandas as pd\n",
    "import numpy as np\n",
    "from sklearn.metrics import mean_squared_error\n",
    "from sklearn.model_selection import train_test_split\n",
    "from sklearn.feature_selection import SequentialFeatureSelector\n",
    "from sklearn.linear_model import LinearRegression\n",
    "from sklearn.datasets import load_iris\n",
    "from sklearn.ensemble import GradientBoostingRegressor\n",
    "import platform\n",
    "import geopandas as gpd\n",
    "import matplotlib.pyplot as plt\n",
    "import seaborn as sns\n",
    "import matplotlib as plt\n",
    "from datetime import datetime\n",
    "import os\n",
    "import itertools\n",
    "import time\n",
    "import statsmodels.api as sm\n",
    "# from sklearn import linear_model\n",
    "\n",
    "# import dtale\n",
    "from icecream import ic\n",
    "#Importing tqdm for the progress bar\n",
    "from tqdm import tnrange, tqdm_notebook\n",
    "%matplotlib inline\n",
    "plt.style.use('ggplot')\n",
    "%matplotlib inline"
   ]
  },
  {
   "cell_type": "code",
   "execution_count": null,
   "id": "8f6d5c70-e74a-4ef3-8457-16b600b43762",
   "metadata": {},
   "outputs": [],
   "source": [
    "#Get all lakes \n",
    "if platform.system()=='Linux':\n",
    "    base_path='/home/angelica/Documents/py_linux/'\n",
    "else:\n",
    "    base_path='C:/Users/amgomez/Documents/PythonScripts/'"
   ]
  },
  {
   "cell_type": "code",
   "execution_count": null,
   "id": "8fc64cad-2392-406c-9782-db7e3041ed14",
   "metadata": {},
   "outputs": [],
   "source": [
    "### Predictors I should pick\n",
    "1. Length of the orbit crossing the lake: orbit_leng\n",
    "2. Area of the lake influence by the orbit: area_buffe\n",
    "3. Lake area: Lake_area\n",
    "4. Topography roughness: TRI_mdn\n",
    "5. Variability of Lake surface water elevation (Option 1): APL\n",
    "6. Variability of Lake surface water elevation (Option 2 flashiness index Baker 2004): rb_index\n",
    "7. Variance of observations?? roughness. Standard deviation of the differences, based on https://stats.stackexchange.com/questions/24607/how-to-measure-smoothness-of-a-time-series-in-r. I have std_diff and mean_diff. To calculate the variability it should be std_diff/abs(mean_diff) if mean diff!=0\n",
    "8. Standard deviation of the observations std_obs\n",
    "9. Probablility of ICE ??\n",
    "10. No Samples from altimeter data\n",
    "##3 Reponse variables to try"
   ]
  },
  {
   "cell_type": "code",
   "execution_count": null,
   "id": "37a17213-cefe-4d21-bc2b-defc3a01b422",
   "metadata": {},
   "outputs": [],
   "source": [
    "## 1. Length of the orbit crossing the lake \n",
    "## To get the total length\n",
    "### - Get the lakes\n",
    "### - Open sd file\n",
    "### - Link lakes to sd file\n",
    "### - Filter only the evaluation lakes\n",
    "### - Group lakes by lake_id and orbit to sum the length (sum the projected and non projected length"
   ]
  },
  {
   "cell_type": "code",
   "execution_count": null,
   "id": "e474a605-18c0-4596-86f5-c44c8977b3f0",
   "metadata": {},
   "outputs": [],
   "source": [
    "# Function to get Karina's station data \n",
    "def get_us_ca_data(df_results, gauge_id_fd, path_to_obs, folder_sep):\n",
    "    list_gauges=df_results[gauge_id_fd].unique()\n",
    "    #TODO validate empty list\n",
    "    df_files=pd.DataFrame()\n",
    "    for folder,details in folder_sep.items():\n",
    "        path=path_to_obs+folder+'/'\n",
    "        sep=details['sep']\n",
    "        org_col_fd=details['fields'].values()\n",
    "        new_col_fd={v: k for k, v in details['fields'].items()} \n",
    "        # print(sep, new_col_fd)\n",
    "        files = [f for f in os.listdir(path) if os.path.isfile(os.path.join(path, f))&(f.endswith('.dat'))&(f[:-4] in list_gauges)]\n",
    "         \n",
    "        for f in files:\n",
    "            f_name=path+f\n",
    "            df_file=pd.read_csv(f_name, sep=sep)\n",
    "            df_file=df_file[org_col_fd]\n",
    "            df_file=df_file.rename(columns=new_col_fd)\n",
    "            df_file['gauge_id']=f[:-4]\n",
    "            df_file['location']=details['location']\n",
    "            df_files=pd.concat([df_files, df_file], axis=0)\n",
    "\n",
    "    return df_files\n",
    "def aggregage_values_by_group(df, group_by_fds, sum_dict):\n",
    "    \n",
    "    df = df.groupby(group_by_fds).aggregate(sum_dict)\n",
    "    df.columns = ['_'.join([str(c) for c in col]).strip() for col in df.columns.values]\n",
    "    if isinstance(df, (pd.DatetimeIndex, pd.MultiIndex)):\n",
    "        df = df.to_frame(index=False)\n",
    "    return df.reset_index()\n",
    "\n",
    "def change_df_col_names(df, new_colnames):\n",
    "    '''Change all the names of a dataframe by the names in new_colnames. The columns are changed in the same order of new_colnames'''\n",
    "    for nn in new_colnames:\n",
    "        df.rename(columns={df.columns[new_colnames.index(nn)]:nn}, inplace=True) \n",
    "    return df\n",
    " "
   ]
  },
  {
   "cell_type": "code",
   "execution_count": null,
   "id": "7436a82d-3334-484a-b046-b8162a7ce6a9",
   "metadata": {},
   "outputs": [],
   "source": [
    "# open lakes\n",
    "if platform.system()=='Linux':\n",
    "    path_lakes='/home/angelica/Dropbox/Research/LOCSS/other_lakes/Selected_lakes/all_lakes_paper.shp'\n",
    "else:\n",
    "    path_lakes='D:/SWOT_ANGELICA/GDrive_Angelica/copy_db/Dropbox/Research/LOCSS/other_lakes/Selected_lakes/all_lakes_paper.shp'\n",
    "df_sel_lakes=gpd.read_file(path_lakes)\n",
    "\n",
    "# open orbit files for karina and SylvainDennis (this last ones are for evaluation)\n",
    "\n",
    "path_orbits_ka= base_path+'pylocss/data/area_orbits_in_lakes/orbit_length_cross_ka.csv'\n",
    "path_orbits_sd= base_path+'pylocss/data/area_orbits_in_lakes/orbit_length_cross_sd.csv'\n",
    "      \n",
    "\n",
    "df_orbits_ka=pd.read_csv(path_orbits_ka, sep=',')\n",
    "df_orbits_sd=pd.read_csv(path_orbits_sd, sep=',')\n",
    "\n",
    "# open resulting evaluation file \n",
    "# Final results for paper changed comparison__20230503_14_09 which are the old ones by comparison__20240222_11_38\n",
    "path_results_eval='../data/results/comparison__20240222_11_38.csv'\n",
    "df_results=pd.read_csv(path_results_eval, sep=',')\n",
    "df_results.rename(columns={'station':'gauge_id'}, inplace=True)\n",
    "# Mark the dataframe to be part of the evaluation in the paper\n",
    "df_results['section']='eval'\n",
    "\n",
    "# # open TRI resulting file\n",
    "\n",
    "path_TRI_summary_95= base_path+'pylocss/data/results/TRI_stats_95_5km_20230330_12_35.csv'\n",
    "path_TRI_summary_all=base_path+'pylocss/data/results/TRI_stats_all_5km_20230330_12_35.csv'\n",
    "\n",
    "df_TRI_95=pd.read_csv(path_TRI_summary_95, sep=',')\n",
    "df_TRI_all=pd.read_csv(path_TRI_summary_all, sep=',')\n",
    "\n",
    "# # open stations from Karina's work\n",
    "path_results_karina=base_path+'pylocss/data/karina/result_karina/results_karina_US_CA.shp'\n",
    "df_results_ka=gpd.read_file(path_results_karina)\n",
    "df_results_ka['section']='fact' #fact refers to using the dataset only for factor of importance\n",
    "\n",
    "# #open original data from karina\n",
    "path_to_obs_ka=base_path+'pylocss/data/karina/gauge_observations/'\n",
    "gauge_id_fd='gaugeid'\n",
    "folder_sep={'gaugedatUS':{'sep':' ','fields':{'date':'date', 'elev':'elev', 'decimal_time':'time'}, 'location':'US'},\n",
    "            'gaugedatahist':{'sep':',','fields':{'date':'Date', 'elev':'Value', 'decimal_time':'time'}, 'location':'Canada'}}\n",
    "df_gauges_data_ka=get_us_ca_data(df_results_ka, gauge_id_fd, path_to_obs_ka, folder_sep)\n",
    "\n",
    "# # area of water in the surrondings. The folder contains buffers each 1km from 1 to 5km\n",
    "path_to_aw=base_path+'pylocss/data/area_water/'\n",
    "files = [f for f in os.listdir(path_to_aw) if os.path.isfile(os.path.join(path_to_aw, f))&(f.endswith('.csv'))]\n",
    "sep=','         \n",
    "df_bf_wa=pd.DataFrame()\n",
    "for f in files:\n",
    "    f_name=path_to_aw+f\n",
    "    df_file=pd.read_csv(f_name, sep=sep)\n",
    "    bff=f.split('_')[2]\n",
    "    # df_file.columns[5:] = [c+'_'+km for c in df_file.columns.values]\n",
    "    # ren_col=df_file.columns[5:].values\n",
    "    # df_file.rename(columns={c:c.split('_')[0]+'_bff_'+bff for c in ren_col}, inplace=True)\n",
    "    #calculate the ratio of water to total area\n",
    "    water_ratio_fd='water_2_total'\n",
    "    no_water_bff_fd='no_water_bff'\n",
    "    df_file[water_ratio_fd]=df_file['waterArea_PA_km2']/df_file['totalArea_PA_km2']\n",
    "    df_file[no_water_bff_fd]=df_file['totalArea_PA_km2']-df_file['waterArea_PA_km2']\n",
    "    df_melt=pd.melt(df_file, id_vars=['lake_id','lake_name','l_area_org','l_area_wsg','gauge_id'], value_vars=df_file.columns[5:].values,\n",
    "                    var_name='buffer', value_name='area')\n",
    "    df_melt.loc[df_melt['buffer'].str.contains('waterArea'), 'type_pixel']='water'\n",
    "    df_melt.loc[df_melt['buffer'].str.contains('totalArea'), 'type_pixel']='total'\n",
    "    df_melt.loc[df_melt['buffer'].str.contains('water_2_total'), 'type_pixel']='water_2_total'\n",
    "    df_melt.loc[df_melt['buffer'].str.contains('no_water_bff'), 'type_pixel']='no_water_pixel'\n",
    "    df_melt['buffer']=bff\n",
    "    # ic(df_melt)\n",
    "    df_bf_wa=pd.concat([df_bf_wa, df_melt], axis=0)\n",
    "df_bf_wa['type_pixel'].unique()"
   ]
  },
  {
   "cell_type": "code",
   "execution_count": null,
   "id": "987190b3-ffb2-41c6-ba42-9a2bed0c3108",
   "metadata": {},
   "outputs": [],
   "source": [
    "## Process the orbit lengths\n",
    "### 1. Group the orbits by lake_id and orbit number and summarize the length\n",
    "### 2. Plot the length against lake area\n",
    "### 3. Join the orbit with RMSE results and R results \n",
    "### 4. Plot RMSE and R results against orbit length"
   ]
  },
  {
   "cell_type": "code",
   "execution_count": null,
   "id": "6d4cc6d0-1934-4648-86b0-8f9b84624f54",
   "metadata": {},
   "outputs": [],
   "source": [
    "# Calculate orbit length for each projected and not projected orbit but also in Aviso and SylvainDennis orbit\n",
    "\n",
    "\n",
    "output_fields=['orbit','lake_id','lake_area','sat','olength_wgs','olength_proj', 'orbit_count']\n",
    "group_by_fds=['Relative_O', 'lake_id', 'Lake_area','Satellite']\n",
    "sum_dict={'length_cross_wsg': ['sum'], \n",
    "         'length_cross_proj': ['sum'],\n",
    "         'Relative_O': ['count']}\n",
    "df_orbits_length_ka=aggregage_values_by_group(df_orbits_ka, group_by_fds, sum_dict)\n",
    "df_orbits_length_ka=change_df_col_names(df_orbits_length_ka, output_fields)\n",
    "df_orbits_length_ka.loc[df_orbits_length_ka['sat']=='Sentinel-3A', 'sat']= 'S3A'\n",
    "df_orbits_length_ka.loc[df_orbits_length_ka['sat']=='Sentinel-3B', 'sat']= 'S3B'\n",
    "df_orbits_length_ka.loc[df_orbits_length_ka['sat']=='Jason-3', 'sat']= 'J3'\n",
    "# ic(df_orbits_length_ka.loc[df_orbits_length_ka['orbit_count']>1])\n",
    "\n",
    "group_by_fds=['Orbit', 'lake_id','Lake_area', 'mission']\n",
    "sum_dict={'length_cross_wsg': ['sum'], \n",
    "         'length_cross_proj': ['sum'],\n",
    "         'Orbit': ['count']}\n",
    "df_orbits_length_sd=aggregage_values_by_group(df_orbits_sd, group_by_fds, sum_dict)\n",
    "df_orbits_length_sd=change_df_col_names(df_orbits_length_sd, output_fields)\n",
    "df_orbits_length_sd.loc[df_orbits_length_sd['sat']=='sentinel3a', 'sat']= 'S3A'\n",
    "df_orbits_length_sd.loc[df_orbits_length_sd['sat']=='sentinel3b', 'sat']= 'S3B'\n",
    "df_orbits_length_sd.loc[df_orbits_length_sd['sat']=='jason', 'sat']= 'J3'\n",
    "# df_orbits_length_sd.loc[df_orbits_length_sd['orbit_count']>1]\n"
   ]
  },
  {
   "cell_type": "code",
   "execution_count": null,
   "id": "622febba-1115-44d5-989d-13107b624c9c",
   "metadata": {},
   "outputs": [],
   "source": [
    "# Filter only evaluacion results that will be part of the analysis \n",
    "# To filter out\n",
    "# Old numbers before correction 1, 5, 19, 37. These numbers are for file comparison__20230503_14_09.csv\n",
    "# result_id=2 Repeat orbit of Acude Araras [2\t12030\tAÃ§ude Araras\t12030_AlTiS_TimeSeries_Jason-3_GDR_F_0087_S0420]\n",
    "# result_id=5 Shortest time series of the same lake [5\t12036\tAÃ§ude Atalho\t12036_AlTiS_TimeSeries_Jason-3_GDR_FallTest_0163_S0764]\n",
    "# result_id=19 Repeat of lacar lake [20\t2028\tLago Lacar\t2028_AlTiS_TimeSeries_Jason-3_0215_S4017]\n",
    "# result_id=37 repeart time series [38\t19069\tUHE Machadinho\t19069_AlTiS_TimeSeries_Sentinel-3A_0190_S2751]\n",
    "df_results_eval=df_results.loc[~df_results['result_id'].isin([2,5,20, 38])].copy()\n"
   ]
  },
  {
   "cell_type": "code",
   "execution_count": null,
   "id": "4aba0a08-a815-4258-98f9-c59b0124efaa",
   "metadata": {},
   "outputs": [],
   "source": [
    "df_results_eval.loc[df_results_eval['gauge_id'].isin(['6604000', '6903880']), ['gauge_id','R','PR_pvalue', 'RMSE']]"
   ]
  },
  {
   "cell_type": "code",
   "execution_count": null,
   "id": "af9dbce0-3f80-4f67-9138-be3035a208a5",
   "metadata": {},
   "outputs": [],
   "source": [
    "df_results_eval.loc[df_results_eval['PR_pvalue']>=0.05, 'gauge_id'].unique()"
   ]
  },
  {
   "cell_type": "code",
   "execution_count": null,
   "id": "b503b852-a554-4077-85df-cd8987c23622",
   "metadata": {},
   "outputs": [],
   "source": [
    "df_results_eval.loc[df_results_eval['PR_pvalue']<0.05, \"R\"].mean()"
   ]
  },
  {
   "cell_type": "code",
   "execution_count": null,
   "id": "6a15d43e-ab89-42ab-adaf-9e55747d1b8b",
   "metadata": {},
   "outputs": [],
   "source": [
    "# to extract the relevant columns\n",
    "relevant_col_ds=['result_id', 'gauge_id', 'lake_name', 'altis',\n",
    "       'name_altis', 'source', 'method', 'n_obs_altis', 'R', 'PR_pvalue',\n",
    "       'RHO', 'RHO_pvalue', 'NSF', 'RMSE', 'APL', 'ME', 'ME_Bias_Cor', 'VE',\n",
    "       'cv_obs', 'std_obs', 'mean_obs', 'n_obs', 'rb_index', 'std_diff',\n",
    "       'mean_diff', 'sat_min_utcdate', 'sat_max_utcdate', 'grd_min_utcdate',\n",
    "       'grd_max_utcdate']\n",
    "relevant_col_ka=['gaugeid', 'lakeid', 'track', 'sat', 'retracker', 'RMSE', 'nRMSE',\n",
    "       'bias', 'corr', 'nvalid', 'nobs', 'pvalid', 'medSD', 'minOCval',\n",
    "       'maxOCval', 'sigmaObs', 'sigmaRW', 'conv', 'mindist', 'maxdist',\n",
    "       'meandist', 'lat', 'lon', 'myindex', 'class', 'lakearea', 'source',\n",
    "       'layer', 'path', 'geometry']"
   ]
  },
  {
   "cell_type": "code",
   "execution_count": null,
   "id": "210ee919-194d-414d-922f-2ac247494103",
   "metadata": {},
   "outputs": [],
   "source": [
    "#rename cols to unify \n",
    "df_results_ka.rename(columns={'gaugeid':'gauge_id','lakeid':'lake_id', 'corr':'R', 'nobs':'n_v_obs', 'sigmaObs':'VE'}, inplace=True)\n",
    "df_results_eval.rename(columns={'n_obs_altis':'n_v_obs', 'n_obs':'nRMSE'}, inplace=True)"
   ]
  },
  {
   "cell_type": "code",
   "execution_count": null,
   "id": "ed188ffd-8be8-41ef-b674-081390ea77f0",
   "metadata": {},
   "outputs": [],
   "source": [
    "df_results_eval['sat']=[x.split('_')[3] for x in df_results_eval['altis']]\n",
    "df_results_eval.loc[df_results_eval['sat']=='Sentinel-3A', 'sat']= 'S3A'\n",
    "df_results_eval.loc[df_results_eval['sat']=='Sentinel-3B', 'sat']= 'S3B'\n",
    "df_results_eval.loc[df_results_eval['sat']=='Jason-3', 'sat']= 'J3'\n",
    "# df_results_eval['sat']"
   ]
  },
  {
   "cell_type": "code",
   "execution_count": null,
   "id": "43c4c39a-e830-46be-8385-d0135a1543b2",
   "metadata": {},
   "outputs": [],
   "source": [
    "# Calculate the APL and std_obs of the original data in Karina, for station\n",
    "df_gauges_data_ka.columns\n",
    "list_gauges=df_gauges_data_ka['gauge_id'].unique()\n",
    "list_gauges\n",
    "group_by_fds=['gauge_id']\n",
    "sum_dict={'elev': ['max','min','std']}\n",
    "# df_gauges_data_ka.\n",
    "df_variability_obs=aggregage_values_by_group(df_gauges_data_ka,group_by_fds,sum_dict)\n",
    "df_variability_obs['APL']=df_variability_obs['elev_max']-df_variability_obs['elev_min']\n",
    "df_variability_obs.rename(columns={'elev_std':'std_obs'}, inplace=True)\n",
    "# df_variability_obs"
   ]
  },
  {
   "cell_type": "code",
   "execution_count": null,
   "id": "31847fc9-45c0-4cba-876f-1845391a1c6c",
   "metadata": {},
   "outputs": [],
   "source": [
    "#Join lake variability to Karina's result dataset\n",
    "#TO-DO pending to change with other data\n",
    "df_results_ka_var=pd.merge(df_results_ka,df_variability_obs, on='gauge_id', how='right')\n",
    "# df_results_ka_var"
   ]
  },
  {
   "cell_type": "code",
   "execution_count": null,
   "id": "9ca6a898-7d25-40c2-b5a3-99580123936a",
   "metadata": {},
   "outputs": [],
   "source": [
    "# df_results_eval.loc[df_results_eval['source']=='ARHN']\n",
    "df_results_ka_var=df_results_ka_var.rename(columns={'track':'orbit'})"
   ]
  },
  {
   "cell_type": "code",
   "execution_count": null,
   "id": "262c7921-be3f-494f-a069-8aa8989f2b05",
   "metadata": {},
   "outputs": [],
   "source": [
    "# Merge both datasets\n",
    "### 1. Dataset from evaluation RHO pvalue <0.05\n",
    "### 2. Dataset from Karina's work"
   ]
  },
  {
   "cell_type": "code",
   "execution_count": null,
   "id": "6ca43024-6d23-4539-9b05-f1ca4d85f44f",
   "metadata": {},
   "outputs": [],
   "source": [
    "df_results_eval_pv=df_results_eval.loc[df_results_eval['RHO_pvalue']<0.05].copy()"
   ]
  },
  {
   "cell_type": "code",
   "execution_count": null,
   "id": "72bfd773-4fe4-4c61-b585-bb05f456fcaf",
   "metadata": {},
   "outputs": [],
   "source": [
    "# joining results together\n",
    "col_fds=['gauge_id', 'lake_id', 'sat','orbit', 'RMSE','nRMSE', 'R','source','std_obs','APL', 'VE', 'n_v_obs']\n",
    "df_ka=df_results_ka_var[col_fds].copy()\n",
    "df_ka['GDR_Processor']='Nielsen'\n",
    "df_ev=df_results_eval_pv[col_fds].copy()\n",
    "df_ev['GDR_Processor']='Biancamaria'\n"
   ]
  },
  {
   "cell_type": "code",
   "execution_count": null,
   "id": "ce09cae9-db98-46aa-8c3a-4f28a57c2d65",
   "metadata": {},
   "outputs": [],
   "source": [
    "### Correction of orbits (in the mean time)\n",
    "#### 1. Read file with wrong and corrected orbits\n",
    "#### 2. Replace the values in results df"
   ]
  },
  {
   "cell_type": "code",
   "execution_count": null,
   "id": "e6b200bc-eeaa-46ae-8471-dd09987845af",
   "metadata": {},
   "outputs": [],
   "source": [
    "df_correction_tracks=pd.read_csv('../data/results/lakes_with_other_orbit_number.csv', sep=',')\n",
    "dfx=df_correction_tracks.copy()\n",
    "\n",
    "['0'+x[0] for i,x in dfx.iterrows() if ((len(x[0])==7) &(~any(c.isalpha() for c in x[0])))]"
   ]
  },
  {
   "cell_type": "code",
   "execution_count": null,
   "id": "a525d125-0fda-445c-91b6-4e6936c9f267",
   "metadata": {},
   "outputs": [],
   "source": [
    "for i,x in df_correction_tracks.iterrows():\n",
    "    df_results_all.loc[(df_results_all['gauge_id']==x[0])&(df_results_all['lake_id']==x[1])&(df_results_all['sat']==x[2]), 'orbit']=x[4]\n",
    "  \n"
   ]
  },
  {
   "cell_type": "code",
   "execution_count": null,
   "id": "3e9885c0-ef5e-4d78-b945-8ac60916bb7c",
   "metadata": {},
   "outputs": [],
   "source": [
    "### End of correction"
   ]
  },
  {
   "cell_type": "code",
   "execution_count": null,
   "id": "92fe69c8-31c9-4c5f-a3ff-18bb4afb7582",
   "metadata": {},
   "outputs": [],
   "source": [
    "# Merge with TRI, orbit Length, lake_area"
   ]
  },
  {
   "cell_type": "code",
   "execution_count": null,
   "id": "2cecd2ec-73a1-4669-8770-9ac93c91cff0",
   "metadata": {},
   "outputs": [],
   "source": [
    "df=df_TRI_95[['lake_id','50%']].copy()\n",
    "df.rename(columns={'50%':'TRI_median_95'}, inplace=True)\n",
    "\n",
    "# df_orbits_length_sd df_orbits_length_ka\n",
    "df_temp=df_TRI_all[['lake_id','50%']].copy()\n",
    "df_temp.rename(columns={'50%':'TRI_median_all'}, inplace=True)\n",
    "\n",
    "df_all_orbit=pd.merge(df_results_all, df_orbits_length_sd, on=['lake_id', 'sat', 'orbit'], how='left')\n",
    "df_all_TRI95=pd.merge(df_all_orbit, df, on='lake_id', how='left')\n",
    "df_all=pd.merge(df_all_TRI95, df_temp, on='lake_id', how='left')\n",
    "# df_all\n"
   ]
  },
  {
   "cell_type": "code",
   "execution_count": null,
   "id": "e18bb86f-f637-4144-aab1-56bac2b38112",
   "metadata": {},
   "outputs": [],
   "source": [
    "df_results_all.loc[df_results_all['lake_id']==7110017272]\n",
    "df_results_all.loc[df_results_all['lake_id']==7110062262]\n",
    "# dtale.show(df_all_orbit.loc[df_all_orbit['lake_area'].isna()])\n",
    "# df_all_orbit.loc[df_all_orbit['lake_area'].isna()].to_csv('../data/results/temp_df_all_orbit_incorrect.csv', sep=',')"
   ]
  },
  {
   "cell_type": "code",
   "execution_count": null,
   "id": "5ff78960-73c6-4553-a0c0-730894fcf3a1",
   "metadata": {},
   "outputs": [],
   "source": [
    "df_all_orbit.loc[df_all_orbit['gauge_id']=='2234']\n",
    "# df_orbits_length_sd.loc[df_orbits_length_sd['lake_id']==6620000613]\n",
    "# df_results_all.loc[df_results_all['lake_id']==6610149612]\n",
    "# df_results_all.loc[df_results_all['gauge_id']=='2234']\n",
    "# df_orbits_sd['mission'].unique()"
   ]
  },
  {
   "cell_type": "code",
   "execution_count": null,
   "id": "153c629c-3d13-498f-8dcd-9ce5e06201e4",
   "metadata": {},
   "outputs": [],
   "source": [
    "#CFN2\n",
    "df_all.loc[df_all['gauge_id']=='CFN2',['olength_wgs','olength_proj','lake_area']]=[0,0, 3.72]\n",
    "# YSL2\n",
    "df_all.loc[df_all['gauge_id']=='YSL2',['olength_wgs','olength_proj','lake_area']]=[0,0, 0.27]\n"
   ]
  },
  {
   "cell_type": "code",
   "execution_count": null,
   "id": "1134e671-05ea-4598-8447-236e7f7a582d",
   "metadata": {},
   "outputs": [],
   "source": [
    "cols_bff_water=['water','water_2_total','no_water_pixel']\n",
    "bff=['1km','2km','3km','4km','5km']\n",
    "df=df_bf_wa.copy()\n",
    "df_final=df_all.copy()\n",
    "for bf in bff:\n",
    "    for c in cols_bff_water:\n",
    "        df_temp=df.loc[(df['buffer']==bf)&(df['type_pixel']==c), ['lake_id', 'type_pixel', 'area']].copy()\n",
    "        df_temp.rename(columns={'area':c+'_'+bf}, inplace=True)\n",
    "        out_w_2_lake_fd='outwater_to_lake_'+bf\n",
    "        df_final=pd.merge(df_final, df_temp[['lake_id',c+'_'+bf]], on='lake_id', how='left') \n",
    "        df_final[out_w_2_lake_fd]=df_final[c+'_'+bf]/df_final['lake_area']"
   ]
  },
  {
   "cell_type": "code",
   "execution_count": null,
   "id": "72cb6e1c-802c-420c-ac67-dadd1e3a485b",
   "metadata": {},
   "outputs": [],
   "source": [
    "df=df_final.loc[df_final['source'].isin(['RVBR', 'ARHN', 'USGS', 'LOCSS'])].copy()\n",
    "df.gauge_id.unique()"
   ]
  },
  {
   "cell_type": "code",
   "execution_count": null,
   "id": "8374eba1-d3d4-4fae-bc44-cd32fe6e675a",
   "metadata": {},
   "outputs": [],
   "source": [
    "## Plot results only first part paper "
   ]
  },
  {
   "cell_type": "code",
   "execution_count": null,
   "id": "dc8cb164-847e-4c44-ba5e-264e65fb9db5",
   "metadata": {},
   "outputs": [],
   "source": [
    "from matplotlib.ticker import FormatStrFormatter\n",
    "import matplotlib.pyplot as plt\n",
    "sns.set_style('white')\n",
    "\n",
    "plt.style.use('default')\n",
    "plt.rcParams[\"figure.figsize\"] = (15,5)\n",
    "plt.rcParams['font.family']='Arial'\n",
    "# plt.style.use('classic')\n",
    "\n",
    "# print(df.head())\n",
    "# df=df_final.loc[(df_final['lake_area']<=20)|(df_final['source']=='RVBR')].copy()#.sort_values(by=['sat']).copy()\n",
    "df=df_final.loc[df_final['source'].isin(['RVBR', 'ARHN', 'USGS', 'LOCSS'])].copy()#.sort_values(by=['sat']).copy()\n",
    "\n",
    "# df.loc[df['lake_area']<=20, 'labels']='Area <=20 km2'\n",
    "df.loc[df['source']=='RVBR', 'labels']='Reservoirs'\n",
    "df.loc[df['source']=='LOCSS', 'labels']='LOCSS'\n",
    "df.loc[df['source'].isin(['ARHN','USGS']), 'labels']='National Dataset'\n",
    "# df.loc[df['source']=='RVBR', 'labels']='Represas'\n",
    "# df.loc[df['source']=='LOCSS', 'labels']='LOCSS'\n",
    "# df.loc[df['source'].isin(['ARHN','USGS']), 'labels']='Sistema nacional'\n",
    "df=df.sort_values(by='labels')\n",
    "# df=df.loc[df['variable'].isin(['RMSE','lakearea'])]\n",
    "fig, axes = plt.subplots(1,2)\n",
    "x_fd='labels'\n",
    "# y_fd='RHO'\n",
    "# y_label=['$\\\\rho$', 'RMSE (m)']\n",
    "y_fd='R'\n",
    "y_label=['R', 'RMSE (m)']\n",
    "\n",
    "hue='labels'#'method'\n",
    "\n",
    "#     # col='variable'\n",
    "#     # size=\"Lake_area\"\n",
    "pal=sns.color_palette([\"#7570b3\", \"#1b9e77\", \"#d95f02\"], as_cmap=False)\n",
    "# pal=sns.color_palette([\"#7570b3\",  \"#d95f02\"], as_cmap=False)\n",
    "color=[\"#7570b3\", \"#d95f02\",\"#1b9e77\"]\n",
    "# color=[\"#7570b3\", \"#d95f02\"]\n",
    "facet_kws={'sharey': True, 'sharex': False}\n",
    "\n",
    "#     # for i in ['r2', 'RMSE']:\n",
    "#     # df=df.loc[df[col]==i]\n",
    "\n",
    "\n",
    "# g = sns.relplot(data=df,facet_kws=facet_kws,\n",
    "#             x=x_fd, y=y_fd,#palette=pal,\n",
    "#             hue=hue,# col=col,size=size,\n",
    "#             row=row,# col_wrap=2,\n",
    "#             kind=\"scatter\", height=4, aspect=10/4)#,\n",
    "                #join=False)#,\n",
    "            #dodge=True)\n",
    "    #                height=4, aspect=.7)\n",
    "# Iterating through axes and names\n",
    "# names=['Lake area <=20 $km^{2}$', 'Reservoirs']\n",
    "\n",
    "# names=['LOCSS', 'Sistema nacional','Represas']\n",
    "names=['LOCSS', 'National Dataset','Reservoirs']\n",
    "i=0\n",
    "pred=['R','RMSE']\n",
    "\n",
    "# xlabels=df[hue].unique()\n",
    "# print(xlabels)\n",
    "for name, ax in zip(pred, axes.flatten()):\n",
    "    # sns.boxplot(y=name, x= \"a\", data=df, orient='v', ax=ax)\n",
    "    # if type(name)==list:\n",
    "    #     d_to_plot=df.loc[df[row].isin(name)]\n",
    "    # else:\n",
    "    y_fd=name\n",
    "    d_to_plot=df#.loc[df[row].isin([name])]\n",
    "    g = sns.boxplot(data=d_to_plot,#facet_kws=facet_kws,\n",
    "            y=y_fd,\n",
    "            palette=pal,\n",
    "            x=hue,\n",
    "            ax=ax, linewidth=.5)\n",
    "    # if name=='ME':\n",
    "        # g.set(ylim=(-0.01, 0.01))\n",
    "    # else: \n",
    "    sns.stripplot(x=hue, y=y_fd, data=d_to_plot, marker=\"o\", alpha=0.3, color=\"black\", ax=ax)\n",
    "    ax.set_ylabel(y_label[i], fontsize=18)\n",
    "    ax.set_xlabel('', fontsize=18)\n",
    "    # ax.set_xlabel(names[i], fontsize=14)\n",
    "    ax.set_yticklabels(ax.get_yticks(), size = 16)\n",
    "    ax.set_xticklabels(names, size = 16)\n",
    "    ax.yaxis.set_major_formatter(FormatStrFormatter('%.1f'))\n",
    "    i=i+1\n",
    "fig2=plt.gcf()\n",
    "plt.show()"
   ]
  },
  {
   "cell_type": "code",
   "execution_count": null,
   "id": "205a350e-3a62-49f8-b52d-b03daff4d5bd",
   "metadata": {},
   "outputs": [],
   "source": [
    "fig2.savefig('../data/results/Fig2_ResultsSection1_paper_0222_rho_significant.png', dpi=400)"
   ]
  },
  {
   "cell_type": "code",
   "execution_count": null,
   "id": "ced9d7de-2867-445d-8c33-fe4ea8f74449",
   "metadata": {},
   "outputs": [],
   "source": []
  },
  {
   "cell_type": "code",
   "execution_count": 85,
   "id": "158c0213-92e0-427f-86c9-bb6b6e824d82",
   "metadata": {},
   "outputs": [
    {
     "data": {
      "text/plain": [
       "0.25    0.93975\n",
       "0.50    0.98000\n",
       "0.75    0.99300\n",
       "Name: R, dtype: float64"
      ]
     },
     "execution_count": 85,
     "metadata": {},
     "output_type": "execute_result"
    }
   ],
   "source": [
    "df.loc[df['labels']=='Reservoirs', 'R'].quantile([0.25, 0.5, 0.75])\n",
    "# df['labels'].unique()"
   ]
  },
  {
   "cell_type": "code",
   "execution_count": 35,
   "id": "0f633be2-e255-460d-a79a-88c214a0f0ec",
   "metadata": {},
   "outputs": [
    {
     "data": {
      "text/html": [
       "<div>\n",
       "<style scoped>\n",
       "    .dataframe tbody tr th:only-of-type {\n",
       "        vertical-align: middle;\n",
       "    }\n",
       "\n",
       "    .dataframe tbody tr th {\n",
       "        vertical-align: top;\n",
       "    }\n",
       "\n",
       "    .dataframe thead th {\n",
       "        text-align: right;\n",
       "    }\n",
       "</style>\n",
       "<table border=\"1\" class=\"dataframe\">\n",
       "  <thead>\n",
       "    <tr style=\"text-align: right;\">\n",
       "      <th></th>\n",
       "      <th>gauge_id</th>\n",
       "      <th>lake_id</th>\n",
       "      <th>sat</th>\n",
       "      <th>orbit</th>\n",
       "      <th>RMSE</th>\n",
       "      <th>nRMSE</th>\n",
       "      <th>R</th>\n",
       "      <th>source</th>\n",
       "      <th>std_obs</th>\n",
       "      <th>APL</th>\n",
       "      <th>...</th>\n",
       "      <th>no_water_pixel_3km</th>\n",
       "      <th>water_4km</th>\n",
       "      <th>outwater_to_lake_4km</th>\n",
       "      <th>water_2_total_4km</th>\n",
       "      <th>no_water_pixel_4km</th>\n",
       "      <th>water_5km</th>\n",
       "      <th>outwater_to_lake_5km</th>\n",
       "      <th>water_2_total_5km</th>\n",
       "      <th>no_water_pixel_5km</th>\n",
       "      <th>labels</th>\n",
       "    </tr>\n",
       "  </thead>\n",
       "  <tbody>\n",
       "    <tr>\n",
       "      <th>44</th>\n",
       "      <td>12030</td>\n",
       "      <td>12030.0</td>\n",
       "      <td>S3A</td>\n",
       "      <td>131</td>\n",
       "      <td>2.73</td>\n",
       "      <td>78</td>\n",
       "      <td>0.922</td>\n",
       "      <td>RVBR</td>\n",
       "      <td>6.602417</td>\n",
       "      <td>18.239</td>\n",
       "      <td>...</td>\n",
       "      <td>268.098364</td>\n",
       "      <td>0.0</td>\n",
       "      <td>5.132898</td>\n",
       "      <td>0.0</td>\n",
       "      <td>344.109459</td>\n",
       "      <td>0.0</td>\n",
       "      <td>6.347265</td>\n",
       "      <td>0.0</td>\n",
       "      <td>425.52067</td>\n",
       "      <td>Represas</td>\n",
       "    </tr>\n",
       "  </tbody>\n",
       "</table>\n",
       "<p>1 rows × 40 columns</p>\n",
       "</div>"
      ],
      "text/plain": [
       "   gauge_id  lake_id  sat  orbit  RMSE  nRMSE      R source   std_obs     APL  \\\n",
       "44    12030  12030.0  S3A    131  2.73     78  0.922   RVBR  6.602417  18.239   \n",
       "\n",
       "    ...  no_water_pixel_3km  water_4km outwater_to_lake_4km  \\\n",
       "44  ...          268.098364        0.0             5.132898   \n",
       "\n",
       "    water_2_total_4km  no_water_pixel_4km  water_5km  outwater_to_lake_5km  \\\n",
       "44                0.0          344.109459        0.0              6.347265   \n",
       "\n",
       "    water_2_total_5km  no_water_pixel_5km    labels  \n",
       "44                0.0           425.52067  Represas  \n",
       "\n",
       "[1 rows x 40 columns]"
      ]
     },
     "execution_count": 35,
     "metadata": {},
     "output_type": "execute_result"
    }
   ],
   "source": [
    "df.loc[(df['labels']=='Represas')&(df['RMSE']==df['RMSE'].max())]"
   ]
  },
  {
   "cell_type": "code",
   "execution_count": 102,
   "id": "25e5c174-5afc-4c63-8eff-a2ac6c99ab31",
   "metadata": {},
   "outputs": [
    {
     "data": {
      "text/html": [
       "<div>\n",
       "<style scoped>\n",
       "    .dataframe tbody tr th:only-of-type {\n",
       "        vertical-align: middle;\n",
       "    }\n",
       "\n",
       "    .dataframe tbody tr th {\n",
       "        vertical-align: top;\n",
       "    }\n",
       "\n",
       "    .dataframe thead th {\n",
       "        text-align: right;\n",
       "    }\n",
       "</style>\n",
       "<table border=\"1\" class=\"dataframe\">\n",
       "  <thead>\n",
       "    <tr style=\"text-align: right;\">\n",
       "      <th></th>\n",
       "      <th>gauge_id</th>\n",
       "      <th>lake_id</th>\n",
       "      <th>sat</th>\n",
       "      <th>orbit</th>\n",
       "      <th>RMSE</th>\n",
       "      <th>nRMSE</th>\n",
       "      <th>R</th>\n",
       "      <th>source</th>\n",
       "      <th>std_obs</th>\n",
       "      <th>APL</th>\n",
       "      <th>...</th>\n",
       "      <th>no_water_pixel_3km</th>\n",
       "      <th>water_4km</th>\n",
       "      <th>outwater_to_lake_4km</th>\n",
       "      <th>water_2_total_4km</th>\n",
       "      <th>no_water_pixel_4km</th>\n",
       "      <th>water_5km</th>\n",
       "      <th>outwater_to_lake_5km</th>\n",
       "      <th>water_2_total_5km</th>\n",
       "      <th>no_water_pixel_5km</th>\n",
       "      <th>labels</th>\n",
       "    </tr>\n",
       "  </thead>\n",
       "  <tbody>\n",
       "    <tr>\n",
       "      <th>42</th>\n",
       "      <td>12030</td>\n",
       "      <td>12030.0</td>\n",
       "      <td>J3</td>\n",
       "      <td>44</td>\n",
       "      <td>1.016</td>\n",
       "      <td>205</td>\n",
       "      <td>0.990</td>\n",
       "      <td>RVBR</td>\n",
       "      <td>6.755851</td>\n",
       "      <td>23.423</td>\n",
       "      <td>...</td>\n",
       "      <td>268.098364</td>\n",
       "      <td>0.0</td>\n",
       "      <td>5.132898</td>\n",
       "      <td>0.0</td>\n",
       "      <td>344.109459</td>\n",
       "      <td>0.0</td>\n",
       "      <td>6.347265</td>\n",
       "      <td>0.0</td>\n",
       "      <td>425.52067</td>\n",
       "      <td>Reservoirs</td>\n",
       "    </tr>\n",
       "    <tr>\n",
       "      <th>44</th>\n",
       "      <td>12030</td>\n",
       "      <td>12030.0</td>\n",
       "      <td>S3A</td>\n",
       "      <td>131</td>\n",
       "      <td>2.730</td>\n",
       "      <td>78</td>\n",
       "      <td>0.922</td>\n",
       "      <td>RVBR</td>\n",
       "      <td>6.602417</td>\n",
       "      <td>18.239</td>\n",
       "      <td>...</td>\n",
       "      <td>268.098364</td>\n",
       "      <td>0.0</td>\n",
       "      <td>5.132898</td>\n",
       "      <td>0.0</td>\n",
       "      <td>344.109459</td>\n",
       "      <td>0.0</td>\n",
       "      <td>6.347265</td>\n",
       "      <td>0.0</td>\n",
       "      <td>425.52067</td>\n",
       "      <td>Reservoirs</td>\n",
       "    </tr>\n",
       "    <tr>\n",
       "      <th>43</th>\n",
       "      <td>12030</td>\n",
       "      <td>12030.0</td>\n",
       "      <td>S3A</td>\n",
       "      <td>52</td>\n",
       "      <td>1.854</td>\n",
       "      <td>77</td>\n",
       "      <td>0.969</td>\n",
       "      <td>RVBR</td>\n",
       "      <td>6.534899</td>\n",
       "      <td>16.456</td>\n",
       "      <td>...</td>\n",
       "      <td>268.098364</td>\n",
       "      <td>0.0</td>\n",
       "      <td>5.132898</td>\n",
       "      <td>0.0</td>\n",
       "      <td>344.109459</td>\n",
       "      <td>0.0</td>\n",
       "      <td>6.347265</td>\n",
       "      <td>0.0</td>\n",
       "      <td>425.52067</td>\n",
       "      <td>Reservoirs</td>\n",
       "    </tr>\n",
       "  </tbody>\n",
       "</table>\n",
       "<p>3 rows × 40 columns</p>\n",
       "</div>"
      ],
      "text/plain": [
       "   gauge_id  lake_id  sat  orbit   RMSE  nRMSE      R source   std_obs  \\\n",
       "42    12030  12030.0   J3     44  1.016    205  0.990   RVBR  6.755851   \n",
       "44    12030  12030.0  S3A    131  2.730     78  0.922   RVBR  6.602417   \n",
       "43    12030  12030.0  S3A     52  1.854     77  0.969   RVBR  6.534899   \n",
       "\n",
       "       APL  ...  no_water_pixel_3km  water_4km outwater_to_lake_4km  \\\n",
       "42  23.423  ...          268.098364        0.0             5.132898   \n",
       "44  18.239  ...          268.098364        0.0             5.132898   \n",
       "43  16.456  ...          268.098364        0.0             5.132898   \n",
       "\n",
       "    water_2_total_4km  no_water_pixel_4km  water_5km  outwater_to_lake_5km  \\\n",
       "42                0.0          344.109459        0.0              6.347265   \n",
       "44                0.0          344.109459        0.0              6.347265   \n",
       "43                0.0          344.109459        0.0              6.347265   \n",
       "\n",
       "    water_2_total_5km  no_water_pixel_5km      labels  \n",
       "42                0.0           425.52067  Reservoirs  \n",
       "44                0.0           425.52067  Reservoirs  \n",
       "43                0.0           425.52067  Reservoirs  \n",
       "\n",
       "[3 rows x 40 columns]"
      ]
     },
     "execution_count": 103,
     "metadata": {},
     "output_type": "execute_result"
    }
   ],
   "source": [
    "df.loc[df['gauge_id']=='12030]"
   ]
  },
  {
   "cell_type": "code",
   "execution_count": 67,
   "id": "7e0960c9-b44a-4dba-bab1-af5cd693ec9a",
   "metadata": {},
   "outputs": [
    {
     "data": {
      "text/plain": [
       "[0.102, 2.73]"
      ]
     },
     "execution_count": 67,
     "metadata": {},
     "output_type": "execute_result"
    }
   ],
   "source": [
    "[df.loc[df['labels']=='Reservoirs', 'RMSE'].min(),df.loc[df['labels']=='Reservoirs', 'RMSE'].max()]"
   ]
  },
  {
   "cell_type": "code",
   "execution_count": 97,
   "id": "14274c4c-7ca1-485f-9630-5ae76cf9b8ee",
   "metadata": {},
   "outputs": [
    {
     "data": {
      "text/plain": [
       "[0.093, 0.243]"
      ]
     },
     "execution_count": 97,
     "metadata": {},
     "output_type": "execute_result"
    }
   ],
   "source": [
    "[df.loc[df['labels']=='National Dataset', 'RMSE'].min(),df.loc[df['labels']=='National Dataset', 'RMSE'].max()]"
   ]
  },
  {
   "cell_type": "code",
   "execution_count": 98,
   "id": "a565d94e-7b61-418f-b437-a882fa2bcae8",
   "metadata": {},
   "outputs": [
    {
     "data": {
      "text/plain": [
       "[0.068, 0.776]"
      ]
     },
     "execution_count": 98,
     "metadata": {},
     "output_type": "execute_result"
    }
   ],
   "source": [
    "[df.loc[df['labels']=='LOCSS', 'RMSE'].min(),df.loc[df['labels']=='LOCSS', 'RMSE'].max()]"
   ]
  },
  {
   "cell_type": "code",
   "execution_count": 86,
   "id": "e6403609-045b-4323-889f-cc193c99d307",
   "metadata": {},
   "outputs": [
    {
     "data": {
      "text/plain": [
       "0.25    0.804\n",
       "0.50    0.871\n",
       "0.75    0.923\n",
       "Name: R, dtype: float64"
      ]
     },
     "execution_count": 86,
     "metadata": {},
     "output_type": "execute_result"
    }
   ],
   "source": [
    "df.loc[df['labels']=='National Dataset', 'R'].quantile([0.25, 0.5, 0.75])\n"
   ]
  },
  {
   "cell_type": "code",
   "execution_count": 87,
   "id": "f2132378-14cd-48af-9263-51ab1f072825",
   "metadata": {},
   "outputs": [
    {
     "data": {
      "text/plain": [
       "0.25    0.624\n",
       "0.50    0.689\n",
       "0.75    0.833\n",
       "Name: R, dtype: float64"
      ]
     },
     "execution_count": 87,
     "metadata": {},
     "output_type": "execute_result"
    }
   ],
   "source": [
    "df.loc[df['labels']=='LOCSS', 'R'].quantile([0.25, 0.5, 0.75])"
   ]
  },
  {
   "cell_type": "code",
   "execution_count": 94,
   "id": "a374b081-769c-401d-99fc-c7f163af43a7",
   "metadata": {},
   "outputs": [
    {
     "data": {
      "text/plain": [
       "[0.41596428571428573, 0.826714285714286]"
      ]
     },
     "execution_count": 94,
     "metadata": {},
     "output_type": "execute_result"
    }
   ],
   "source": [
    "[df.RMSE.mean(), df.R.mean()]"
   ]
  },
  {
   "cell_type": "code",
   "execution_count": 93,
   "id": "b88c1000-ee6d-4d67-a7c7-76e114513f55",
   "metadata": {},
   "outputs": [
    {
     "data": {
      "text/plain": [
       "0.8148148148148148"
      ]
     },
     "execution_count": 93,
     "metadata": {},
     "output_type": "execute_result"
    }
   ],
   "source": [
    "22/27"
   ]
  },
  {
   "cell_type": "code",
   "execution_count": 33,
   "id": "1d04bba4-53eb-4876-b013-28867efc9978",
   "metadata": {},
   "outputs": [
    {
     "data": {
      "text/plain": [
       "0.5390285714285713"
      ]
     },
     "execution_count": 33,
     "metadata": {},
     "output_type": "execute_result"
    }
   ],
   "source": [
    "df.RMSE.mean()"
   ]
  },
  {
   "cell_type": "code",
   "execution_count": 38,
   "id": "f5fff56c-10d8-4df7-8a60-387be82d88e3",
   "metadata": {},
   "outputs": [
    {
     "data": {
      "text/plain": [
       "54    515190.032\n",
       "55      3107.204\n",
       "66       219.940\n",
       "53     41832.077\n",
       "52     35817.032\n",
       "51       765.480\n",
       "49      2657.227\n",
       "50       187.202\n",
       "63      1605.727\n",
       "64      1524.489\n",
       "72     32959.039\n",
       "65      1314.490\n",
       "74      2477.169\n",
       "62      1607.094\n",
       "68    304783.551\n",
       "60    466025.761\n",
       "61    466060.972\n",
       "59    681607.731\n",
       "57    438449.031\n",
       "56    889704.353\n",
       "71      1078.069\n",
       "73    155338.702\n",
       "58    437287.163\n",
       "67       878.643\n",
       "69        23.529\n",
       "70        31.701\n",
       "42       235.311\n",
       "48        33.293\n",
       "47    110378.841\n",
       "46        96.508\n",
       "45       102.928\n",
       "44       199.799\n",
       "43       206.837\n",
       "75        36.975\n",
       "76       104.674\n",
       "Name: VE, dtype: float64"
      ]
     },
     "execution_count": 38,
     "metadata": {},
     "output_type": "execute_result"
    }
   ],
   "source": [
    "df.VE"
   ]
  },
  {
   "cell_type": "markdown",
   "id": "acf1cbb8-ed94-479f-8b7d-8c3d4696a4ba",
   "metadata": {},
   "source": [
    "### Only lakes less than 20 km2"
   ]
  },
  {
   "cell_type": "code",
   "execution_count": 38,
   "id": "8bb95330-844c-4580-a31e-e676a79b3cbc",
   "metadata": {},
   "outputs": [
    {
     "name": "stderr",
     "output_type": "stream",
     "text": [
      "C:\\Users\\amgomez\\AppData\\Local\\Temp\\ipykernel_23280\\2550677065.py:78: UserWarning: FixedFormatter should only be used together with FixedLocator\n",
      "  ax.set_yticklabels(ax.get_yticks(), size = 16)\n",
      "C:\\Users\\amgomez\\AppData\\Local\\Temp\\ipykernel_23280\\2550677065.py:78: UserWarning: FixedFormatter should only be used together with FixedLocator\n",
      "  ax.set_yticklabels(ax.get_yticks(), size = 16)\n"
     ]
    },
    {
     "data": {
      "image/png": "[encoded data removed]",
      "text/plain": [
       "<Figure size 1200x400 with 2 Axes>"
      ]
     },
     "metadata": {},
     "output_type": "display_data"
    }
   ],
   "source": [
    "from matplotlib.ticker import FormatStrFormatter\n",
    "import matplotlib.pyplot as plt\n",
    "# sns.set_style('white')\n",
    "# plt.style.use('dark_background')\n",
    "plt.style.use('default')\n",
    "plt.rcParams[\"figure.figsize\"] = (12,4)\n",
    "# plt.rcParams['font.family']='Arial'\n",
    "\n",
    "\n",
    "# print(df.head())\n",
    "# df=df_final.loc[(df_final['lake_area']<=20)|(df_final['source']=='RVBR')].copy()#.sort_values(by=['sat']).copy()\n",
    "df=df_final.loc[df_final['lake_area']<=20].copy()#.sort_values(by=['sat']).copy()\n",
    "\n",
    "df.loc[df['lake_area']<=20, 'labels']='Area <=20 km2'\n",
    "# df.loc[df['source']=='RVBR', 'labels']='Reservoirs'\n",
    "# df.loc[df['source']=='LOCSS', 'labels']='LOCSS'\n",
    "# df.loc[df['source'].isin(['ARHN','USGS']), 'labels']='National Dataset'\n",
    "df=df.sort_values(by='labels')\n",
    "# df=df.loc[df['variable'].isin(['RMSE','lakearea'])]\n",
    "fig, axes = plt.subplots(1,2)\n",
    "x_fd='labels'\n",
    "# y_fd='RHO'\n",
    "# y_label=['$\\\\rho$', 'RMSE (m)']\n",
    "y_fd='R'\n",
    "y_label=['R', 'RMSE (m)']\n",
    "\n",
    "hue='labels'#'method'\n",
    "\n",
    "#     # col='variable'\n",
    "#     # size=\"Lake_area\"\n",
    "# pal=sns.color_palette([\"#7570b3\", \"#1b9e77\", \"#d95f02\"], as_cmap=False)\n",
    "pal=sns.color_palette([\"#7570b3\"], as_cmap=False)\n",
    "# pal=sns.color_palette([\"#7570b3\",  \"#d95f02\"], as_cmap=False)\n",
    "# color=[\"#7570b3\", \"#d95f02\",\"#1b9e77\"]\n",
    "# color=[\"#7570b3\", \"#d95f02\"]\n",
    "color=[\"#7570b3\"]\n",
    "facet_kws={'sharey': True, 'sharex': False}\n",
    "\n",
    "#     # for i in ['r2', 'RMSE']:\n",
    "#     # df=df.loc[df[col]==i]\n",
    "\n",
    "\n",
    "# g = sns.relplot(data=df,facet_kws=facet_kws,\n",
    "#             x=x_fd, y=y_fd,#palette=pal,\n",
    "#             hue=hue,# col=col,size=size,\n",
    "#             row=row,# col_wrap=2,\n",
    "#             kind=\"scatter\", height=4, aspect=10/4)#,\n",
    "                #join=False)#,\n",
    "            #dodge=True)\n",
    "    #                height=4, aspect=.7)\n",
    "# Iterating through axes and names\n",
    "# names=['Lake area <=20 $km^{2}$', 'Reservoirs']\n",
    "names=['LOCSS']\n",
    "i=0\n",
    "pred=['R','RMSE']\n",
    "\n",
    "# xlabels=df[hue].unique()\n",
    "# print(xlabels)\n",
    "for name, ax in zip(pred, axes.flatten()):\n",
    "    # sns.boxplot(y=name, x= \"a\", data=df, orient='v', ax=ax)\n",
    "    # if type(name)==list:\n",
    "    #     d_to_plot=df.loc[df[row].isin(name)]\n",
    "    # else:\n",
    "    y_fd=name\n",
    "    d_to_plot=df#.loc[df[row].isin([name])]\n",
    "    g = sns.boxplot(data=d_to_plot,#facet_kws=facet_kws,\n",
    "            y=y_fd,\n",
    "            palette=pal,\n",
    "            x=hue,\n",
    "            ax=ax, linewidth=.5)\n",
    "    # if name=='ME':\n",
    "        # g.set(ylim=(-0.01, 0.01))\n",
    "    # else: \n",
    "    sns.stripplot(x=hue, y=y_fd, data=d_to_plot, marker=\"o\", alpha=0.3, color=\"black\", ax=ax)\n",
    "    ax.set_ylabel(y_label[i], fontsize=18)\n",
    "    ax.set_xlabel('', fontsize=18)\n",
    "    # ax.set_xlabel(names[i], fontsize=14)\n",
    "    ax.set_yticklabels(ax.get_yticks(), size = 16)\n",
    "    ax.set_xticklabels(names, size = 16)\n",
    "    ax.yaxis.set_major_formatter(FormatStrFormatter('%.1f'))\n",
    "    i=i+1\n",
    "fig2=plt.gcf()\n",
    "plt.show()"
   ]
  },
  {
   "cell_type": "markdown",
   "id": "deeb0238-4ac6-4ac2-abf0-6c1e3ad7fd15",
   "metadata": {},
   "source": [
    "## Supplemental figure of figure 2 with all the lakes divided into LOCSS, Additional lakes from National Datasets and Reservoirs\n"
   ]
  },
  {
   "cell_type": "code",
   "execution_count": null,
   "id": "680b0453-4412-497d-9dae-ecb73cc063cf",
   "metadata": {},
   "outputs": [],
   "source": []
  },
  {
   "cell_type": "code",
   "execution_count": 105,
   "id": "c1c40faf-d88c-407a-82ad-c4f930b7b0e7",
   "metadata": {},
   "outputs": [
    {
     "name": "stderr",
     "output_type": "stream",
     "text": [
      "C:\\Users\\amgomez\\AppData\\Local\\Temp\\ipykernel_21120\\3990585435.py:77: UserWarning:\n",
      "\n",
      "set_ticklabels() should only be used with a fixed number of ticks, i.e. after set_ticks() or using a FixedLocator.\n",
      "\n",
      "C:\\Users\\amgomez\\AppData\\Local\\Temp\\ipykernel_21120\\3990585435.py:77: UserWarning:\n",
      "\n",
      "set_ticklabels() should only be used with a fixed number of ticks, i.e. after set_ticks() or using a FixedLocator.\n",
      "\n"
     ]
    },
    {
     "data": {
      "image/png": "[encoded data removed]",
      "text/plain": [
       "<Figure size 2000x500 with 2 Axes>"
      ]
     },
     "metadata": {},
     "output_type": "display_data"
    }
   ],
   "source": [
    "from matplotlib.ticker import FormatStrFormatter\n",
    "import matplotlib.pyplot as plt\n",
    "# sns.set_style('white')\n",
    "# plt.style.use('dark_background')\n",
    "plt.style.use('default')\n",
    "plt.rcParams[\"figure.figsize\"] = (20,5)\n",
    "# plt.rcParams['font.family']='Arial'\n",
    "\n",
    "\n",
    "# print(df.head())\n",
    "df=df_final.copy()#.sort_values(by=['sat']).copy()\n",
    "\n",
    "# df.loc[df['lake_area']<=20, 'labels']='Area <=20 km2'\n",
    "# df.loc[~((df['lake_area']<=20)|(df['source']=='RVBR')), 'labels']='Other additional lakes'\n",
    "df.loc[df['source']=='LOCSS', 'labels']='LOCSS'\n",
    "df.loc[df['source']=='RVBR', 'labels']='Reservoirs'\n",
    "df.loc[~df['source'].isin(['RVBR','LOCSS']), 'labels']='National Datasets'\n",
    "# df.loc[df['source'].isin(['ARHN','USGS']), 'labels']='National Dataset'\n",
    "df=df.sort_values(by='labels')\n",
    "# df=df.loc[df['variable'].isin(['RMSE','lakearea'])]\n",
    "fig, axes = plt.subplots(1,2)\n",
    "x_fd='labels'\n",
    "# y_fd='RHO'\n",
    "# y_label=['$\\\\rho$', 'RMSE (m)']\n",
    "y_fd='R'\n",
    "y_label=['R', 'RMSE (m)']\n",
    "\n",
    "hue='labels'#'method'\n",
    "\n",
    "#     # col='variable'\n",
    "#     # size=\"Lake_area\"\n",
    "pal=sns.color_palette([\"#7570b3\", \"#1b9e77\", \"#d95f02\"], as_cmap=False)\n",
    "# pal=sns.color_palette([\"#7570b3\",  \"#d95f02\"], as_cmap=False)\n",
    "color=[\"#7570b3\", \"#1b9e77\",\"#d95f02\"]\n",
    "# color=[\"#7570b3\", \"#d95f02\"]\n",
    "facet_kws={'sharey': True, 'sharex': False}\n",
    "\n",
    "#     # for i in ['r2', 'RMSE']:\n",
    "#     # df=df.loc[df[col]==i]\n",
    "\n",
    "\n",
    "# g = sns.relplot(data=df,facet_kws=facet_kws,\n",
    "#             x=x_fd, y=y_fd,#palette=pal,\n",
    "#             hue=hue,# col=col,size=size,\n",
    "#             row=row,# col_wrap=2,\n",
    "#             kind=\"scatter\", height=4, aspect=10/4)#,\n",
    "                #join=False)#,\n",
    "            #dodge=True)\n",
    "    #                height=4, aspect=.7)\n",
    "# Iterating through axes and names\n",
    "# names=['Lake area <=20 $km^{2}$','Additional lakes', 'Reservoirs']\n",
    "names=['LOCSS','National Datasets','Reservoirs']\n",
    "i=0\n",
    "pred=['R','RMSE']\n",
    "\n",
    "# xlabels=df[hue].unique()\n",
    "# print(xlabels)\n",
    "for name, ax in zip(pred, axes.flatten()):\n",
    "    # sns.boxplot(y=name, x= \"a\", data=df, orient='v', ax=ax)\n",
    "    # if type(name)==list:\n",
    "    #     d_to_plot=df.loc[df[row].isin(name)]\n",
    "    # else:\n",
    "    y_fd=name\n",
    "    d_to_plot=df#.loc[df[row].isin([name])]\n",
    "    g = sns.boxplot(data=d_to_plot,#facet_kws=facet_kws,\n",
    "            y=y_fd,\n",
    "            palette=pal,\n",
    "            x=hue,\n",
    "            ax=ax, linewidth=.5)\n",
    "    # if name=='ME':\n",
    "        # g.set(ylim=(-0.01, 0.01))\n",
    "    # else: \n",
    "    sns.stripplot(x=hue, y=y_fd, data=d_to_plot, marker=\"o\", alpha=0.3, color=\"black\", ax=ax)\n",
    "    ax.set_ylabel(y_label[i], fontsize=20)\n",
    "    ax.set_xlabel('', fontsize=20)\n",
    "    # ax.set_xlabel(names[i], fontsize=14)\n",
    "    ax.set_yticklabels(ax.get_yticks(), size = 18)\n",
    "    ax.set_xticklabels(names, size = 18)\n",
    "    ax.yaxis.set_major_formatter(FormatStrFormatter('%.1f'))\n",
    "    i=i+1\n",
    "plt.tight_layout()\n",
    "fig2supl=plt.gcf()\n",
    "plt.show()"
   ]
  },
  {
   "cell_type": "code",
   "execution_count": 106,
   "id": "0a127b8a-24b9-420b-9e89-035f75c02d50",
   "metadata": {},
   "outputs": [],
   "source": [
    "fig2supl.savefig('../data/results/Fig_Supplemental_Results_R_RMSE_all_rho_significant.png', dpi=300)"
   ]
  },
  {
   "cell_type": "code",
   "execution_count": 31,
   "id": "c09bf2f3-e506-41f1-b7a4-fa7581b5f449",
   "metadata": {},
   "outputs": [
    {
     "data": {
      "text/html": [
       "<div>\n",
       "<style scoped>\n",
       "    .dataframe tbody tr th:only-of-type {\n",
       "        vertical-align: middle;\n",
       "    }\n",
       "\n",
       "    .dataframe tbody tr th {\n",
       "        vertical-align: top;\n",
       "    }\n",
       "\n",
       "    .dataframe thead th {\n",
       "        text-align: right;\n",
       "    }\n",
       "</style>\n",
       "<table border=\"1\" class=\"dataframe\">\n",
       "  <thead>\n",
       "    <tr style=\"text-align: right;\">\n",
       "      <th></th>\n",
       "      <th>gauge_id</th>\n",
       "      <th>lake_id</th>\n",
       "      <th>sat</th>\n",
       "      <th>orbit</th>\n",
       "      <th>RMSE</th>\n",
       "      <th>nRMSE</th>\n",
       "      <th>R</th>\n",
       "      <th>source</th>\n",
       "      <th>std_obs</th>\n",
       "      <th>APL</th>\n",
       "      <th>...</th>\n",
       "      <th>water_2_total_3km</th>\n",
       "      <th>no_water_pixel_3km</th>\n",
       "      <th>water_4km</th>\n",
       "      <th>outwater_to_lake_4km</th>\n",
       "      <th>water_2_total_4km</th>\n",
       "      <th>no_water_pixel_4km</th>\n",
       "      <th>water_5km</th>\n",
       "      <th>outwater_to_lake_5km</th>\n",
       "      <th>water_2_total_5km</th>\n",
       "      <th>no_water_pixel_5km</th>\n",
       "    </tr>\n",
       "  </thead>\n",
       "  <tbody>\n",
       "    <tr>\n",
       "      <th>60</th>\n",
       "      <td>2234</td>\n",
       "      <td>6.610150e+09</td>\n",
       "      <td>S3A</td>\n",
       "      <td>318</td>\n",
       "      <td>0.123</td>\n",
       "      <td>73</td>\n",
       "      <td>0.658</td>\n",
       "      <td>ARHN</td>\n",
       "      <td>0.117996</td>\n",
       "      <td>0.686</td>\n",
       "      <td>...</td>\n",
       "      <td>0.000187</td>\n",
       "      <td>87.433872</td>\n",
       "      <td>0.016384</td>\n",
       "      <td>13.871792</td>\n",
       "      <td>0.000128</td>\n",
       "      <td>128.452798</td>\n",
       "      <td>0.016384</td>\n",
       "      <td>18.961603</td>\n",
       "      <td>0.000093</td>\n",
       "      <td>175.584446</td>\n",
       "    </tr>\n",
       "    <tr>\n",
       "      <th>61</th>\n",
       "      <td>2234</td>\n",
       "      <td>6.610150e+09</td>\n",
       "      <td>S3A</td>\n",
       "      <td>338</td>\n",
       "      <td>0.175</td>\n",
       "      <td>72</td>\n",
       "      <td>0.560</td>\n",
       "      <td>ARHN</td>\n",
       "      <td>0.113700</td>\n",
       "      <td>1.025</td>\n",
       "      <td>...</td>\n",
       "      <td>0.000187</td>\n",
       "      <td>87.433872</td>\n",
       "      <td>0.016384</td>\n",
       "      <td>13.871792</td>\n",
       "      <td>0.000128</td>\n",
       "      <td>128.452798</td>\n",
       "      <td>0.016384</td>\n",
       "      <td>18.961603</td>\n",
       "      <td>0.000093</td>\n",
       "      <td>175.584446</td>\n",
       "    </tr>\n",
       "  </tbody>\n",
       "</table>\n",
       "<p>2 rows × 39 columns</p>\n",
       "</div>"
      ],
      "text/plain": [
       "   gauge_id       lake_id  sat  orbit   RMSE  nRMSE      R source   std_obs  \\\n",
       "60     2234  6.610150e+09  S3A    318  0.123     73  0.658   ARHN  0.117996   \n",
       "61     2234  6.610150e+09  S3A    338  0.175     72  0.560   ARHN  0.113700   \n",
       "\n",
       "      APL  ...  water_2_total_3km  no_water_pixel_3km water_4km  \\\n",
       "60  0.686  ...           0.000187           87.433872  0.016384   \n",
       "61  1.025  ...           0.000187           87.433872  0.016384   \n",
       "\n",
       "    outwater_to_lake_4km  water_2_total_4km  no_water_pixel_4km  water_5km  \\\n",
       "60             13.871792           0.000128          128.452798   0.016384   \n",
       "61             13.871792           0.000128          128.452798   0.016384   \n",
       "\n",
       "    outwater_to_lake_5km  water_2_total_5km  no_water_pixel_5km  \n",
       "60             18.961603           0.000093          175.584446  \n",
       "61             18.961603           0.000093          175.584446  \n",
       "\n",
       "[2 rows x 39 columns]"
      ]
     },
     "execution_count": 31,
     "metadata": {},
     "output_type": "execute_result"
    }
   ],
   "source": [
    "df_final.loc[df_final['gauge_id']=='2234']"
   ]
  },
  {
   "cell_type": "code",
   "execution_count": null,
   "id": "d9f1c330-0a6f-4571-ade3-6435352b30e4",
   "metadata": {},
   "outputs": [],
   "source": []
  },
  {
   "cell_type": "markdown",
   "id": "8f816602-4745-4e76-b8ed-faf368ab7f3a",
   "metadata": {},
   "source": [
    "### Identifying the variability of RMSE with Lake Variability"
   ]
  },
  {
   "cell_type": "code",
   "execution_count": 109,
   "id": "8bae7ceb-60d8-4c12-8994-058964ae8446",
   "metadata": {},
   "outputs": [],
   "source": [
    "#Only using water at 5k\n",
    "predictors=['std_obs',\t'APL','VE','lake_area','olength_wgs','olength_proj','TRI_median_95', 'TRI_median_all','nRMSE','n_v_obs','water_5km',\n",
    "       'outwater_to_lake_5km', 'water_2_total_5km','no_water_pixel_5km']\n",
    "\n",
    "df_melt=pd.melt(df_final, id_vars=['gauge_id','lake_id','sat','RMSE','R','source','orbit','orbit_count', 'lake_area'],  value_vars=predictors,\n",
    "        var_name='predictors')\n",
    "# df_melt.loc[df_melt['RMSE']!=df_melt['RMSE'].max()]#columns#['predictors'].unique()"
   ]
  },
  {
   "cell_type": "code",
   "execution_count": 44,
   "id": "1751338d-aaef-4fe7-9d50-721484c1e3f3",
   "metadata": {
    "tags": []
   },
   "outputs": [],
   "source": [
    "# #Only for Sylvains analysis detect RMSE\n",
    "# df_melt_area=df_melt.loc[(df_melt['predictors'].isin(['APL', 'std_obs']))&(~df_melt['source'].isin(['K_CA', 'K_US']))].copy()\n",
    "# df_melt_area['WLVar_RMSE']=df_melt_area['value']-df_melt_area['RMSE']\n",
    "# df_melt_area\n",
    "\n",
    "\n",
    "# import plotly.express as px\n",
    "# from plotly.subplots import make_subplots\n",
    "# import plotly.graph_objects as go\n",
    "\n",
    "# x_fd='value'\n",
    "# y_fd='RMSE'\n",
    "# facet='predictors'\n",
    "# color='WLVar_RMSE'\n",
    "\n",
    "# df=df_melt_area.loc[(df_melt_area['predictors']=='APL')]\n",
    "\n",
    "# trace1=go.Scatter3d(x=df['value'], \n",
    "#                     y=df['source'],\n",
    "#                     z=df['RMSE'],\n",
    "#                    mode='markers',\n",
    "#                    marker=dict(\n",
    "#                         size=4,\n",
    "#                         color=df['WLVar_RMSE'],                # set color to an array/list of desired values\n",
    "#                         colorscale='Viridis',   # choose a colorscale\n",
    "#                         opacity=0.8\n",
    "#                         )\n",
    "#                    )\n",
    "# data=[trace1]\n",
    "# layout = go.Layout(\n",
    "    \n",
    "#     scene = dict(\n",
    "#                     xaxis = dict(\n",
    "#                         title='APL (m)'),\n",
    "#                     yaxis = dict(\n",
    "#                         title='Data source'),\n",
    "#                     zaxis = dict(\n",
    "#                         title='RMSE'),),\n",
    "#     margin=dict(\n",
    "#         r=20, b=10, l=10, t=10\n",
    "#     )\n",
    "# )\n",
    "# fig.update_layout(showlegend=True)\n",
    "# fig = go.Figure(data=data, layout=layout)\n",
    "# # fig = px.scatter(df, x=x_fd, y=y_fd, facet_col=facet,color=color,\n",
    "# #                 template=\"simple_white\")\n",
    "# # fig.update_traces(marker=dict(size=5,color='#661666'))\n",
    "# # fig.update_xaxes(matches=None)\n",
    "\n",
    "# # fig.for_each_annotation(lambda a: a.update(text=a.text.split(\"=\")[-1]))\n",
    "# fig.show()"
   ]
  },
  {
   "cell_type": "markdown",
   "id": "47f73165-1c56-4af3-b20c-8fa8eec0088d",
   "metadata": {},
   "source": [
    "## Evaluate the good of the RMSE"
   ]
  },
  {
   "cell_type": "code",
   "execution_count": null,
   "id": "53ce9d06-55f6-4102-b901-6d9093296456",
   "metadata": {},
   "outputs": [],
   "source": []
  },
  {
   "cell_type": "code",
   "execution_count": 110,
   "id": "03988019-ae25-4368-9356-a80a988da1c3",
   "metadata": {},
   "outputs": [
    {
     "data": {
      "application/vnd.plotly.v1+json": {
       "config": {
        "plotlyServerURL": "https://plot.ly"
       },
       "data": [
        {
         "hovertemplate": "labels=Reservoirs<br>value=%{x}<br>RMSE=%{y}<br>WLVar_over_RMSE=%{marker.color}<extra></extra>",
         "legendgroup": "",
         "marker": {
          "color": [
           0.009070109495015527,
           0.012333333333333333,
           0.0070892754101063386,
           0.027579678131902808,
           0.035651869975533025,
           0.09793133802816903,
           0.0611646418098031,
           0.018992493443067738,
           0.21666666666666667
          ],
          "coloraxis": "coloraxis",
          "symbol": "circle"
         },
         "mode": "markers",
         "name": "",
         "orientation": "v",
         "showlegend": false,
         "type": "scatter",
         "x": [
          12.238,
          12,
          12.131,
          15.845,
          2.861,
          4.544,
          4.774,
          11.057,
          0.6
         ],
         "xaxis": "x",
         "y": [
          0.111,
          0.148,
          0.086,
          0.437,
          0.102,
          0.445,
          0.292,
          0.21,
          0.13
         ],
         "yaxis": "y"
        },
        {
         "hovertemplate": "labels=LOCSS<br>value=%{x}<br>RMSE=%{y}<br>WLVar_over_RMSE=%{marker.color}<extra></extra>",
         "legendgroup": "",
         "marker": {
          "color": [
           0.209106239460371,
           0.25,
           0.1390593047034765,
           0.1898066783831283,
           0.3107692307692308,
           0.12040816326530612,
           0.11002731174404992,
           0.23621103117505998
          ],
          "coloraxis": "coloraxis",
          "symbol": "circle"
         },
         "mode": "markers",
         "name": "",
         "orientation": "v",
         "showlegend": false,
         "type": "scatter",
         "x": [
          0.593,
          0.52,
          0.489,
          0.569,
          0.325,
          1.47,
          2.563,
          0.834
         ],
         "xaxis": "x2",
         "y": [
          0.124,
          0.13,
          0.068,
          0.108,
          0.101,
          0.177,
          0.282,
          0.197
         ],
         "yaxis": "y2"
        },
        {
         "hovertemplate": "labels=National Dataset<br>value=%{x}<br>RMSE=%{y}<br>WLVar_over_RMSE=%{marker.color}<extra></extra>",
         "legendgroup": "",
         "marker": {
          "color": [
           0.18127250900360145,
           0.1028243601059135,
           0.06290322580645161,
           0.08101045296167247,
           0.17930029154518948,
           0.17073170731707318,
           0.07759626604434072,
           0.07311827956989247,
           0.14944649446494465
          ],
          "coloraxis": "coloraxis",
          "symbol": "circle"
         },
         "mode": "markers",
         "name": "",
         "orientation": "v",
         "showlegend": false,
         "type": "scatter",
         "x": [
          0.833,
          2.266,
          1.86,
          1.148,
          0.686,
          1.025,
          1.714,
          3.255,
          1.626
         ],
         "xaxis": "x3",
         "y": [
          0.151,
          0.233,
          0.117,
          0.093,
          0.123,
          0.175,
          0.133,
          0.238,
          0.243
         ],
         "yaxis": "y3"
        }
       ],
       "layout": {
        "annotations": [
         {
          "font": {},
          "showarrow": false,
          "text": "Reservoirs",
          "x": 0.15999999999999998,
          "xanchor": "center",
          "xref": "paper",
          "y": 1,
          "yanchor": "bottom",
          "yref": "paper"
         },
         {
          "font": {},
          "showarrow": false,
          "text": "LOCSS",
          "x": 0.49999999999999994,
          "xanchor": "center",
          "xref": "paper",
          "y": 1,
          "yanchor": "bottom",
          "yref": "paper"
         },
         {
          "font": {},
          "showarrow": false,
          "text": "National Dataset",
          "x": 0.8399999999999999,
          "xanchor": "center",
          "xref": "paper",
          "y": 1,
          "yanchor": "bottom",
          "yref": "paper"
         }
        ],
        "coloraxis": {
         "colorbar": {
          "title": {
           "text": "WLVar_over_RMSE"
          }
         },
         "colorscale": [
          [
           0,
           "#440154"
          ],
          [
           0.1111111111111111,
           "#482878"
          ],
          [
           0.2222222222222222,
           "#3e4989"
          ],
          [
           0.3333333333333333,
           "#31688e"
          ],
          [
           0.4444444444444444,
           "#26828e"
          ],
          [
           0.5555555555555556,
           "#1f9e89"
          ],
          [
           0.6666666666666666,
           "#35b779"
          ],
          [
           0.7777777777777778,
           "#6ece58"
          ],
          [
           0.8888888888888888,
           "#b5de2b"
          ],
          [
           1,
           "#fde725"
          ]
         ]
        },
        "height": 300,
        "legend": {
         "tracegroupgap": 0
        },
        "margin": {
         "t": 60
        },
        "template": {
         "data": {
          "bar": [
           {
            "error_x": {
             "color": "rgb(36,36,36)"
            },
            "error_y": {
             "color": "rgb(36,36,36)"
            },
            "marker": {
             "line": {
              "color": "white",
              "width": 0.5
             },
             "pattern": {
              "fillmode": "overlay",
              "size": 10,
              "solidity": 0.2
             }
            },
            "type": "bar"
           }
          ],
          "barpolar": [
           {
            "marker": {
             "line": {
              "color": "white",
              "width": 0.5
             },
             "pattern": {
              "fillmode": "overlay",
              "size": 10,
              "solidity": 0.2
             }
            },
            "type": "barpolar"
           }
          ],
          "carpet": [
           {
            "aaxis": {
             "endlinecolor": "rgb(36,36,36)",
             "gridcolor": "white",
             "linecolor": "white",
             "minorgridcolor": "white",
             "startlinecolor": "rgb(36,36,36)"
            },
            "baxis": {
             "endlinecolor": "rgb(36,36,36)",
             "gridcolor": "white",
             "linecolor": "white",
             "minorgridcolor": "white",
             "startlinecolor": "rgb(36,36,36)"
            },
            "type": "carpet"
           }
          ],
          "choropleth": [
           {
            "colorbar": {
             "outlinewidth": 1,
             "tickcolor": "rgb(36,36,36)",
             "ticks": "outside"
            },
            "type": "choropleth"
           }
          ],
          "contour": [
           {
            "colorbar": {
             "outlinewidth": 1,
             "tickcolor": "rgb(36,36,36)",
             "ticks": "outside"
            },
            "colorscale": [
             [
              0,
              "#440154"
             ],
             [
              0.1111111111111111,
              "#482878"
             ],
             [
              0.2222222222222222,
              "#3e4989"
             ],
             [
              0.3333333333333333,
              "#31688e"
             ],
             [
              0.4444444444444444,
              "#26828e"
             ],
             [
              0.5555555555555556,
              "#1f9e89"
             ],
             [
              0.6666666666666666,
              "#35b779"
             ],
             [
              0.7777777777777778,
              "#6ece58"
             ],
             [
              0.8888888888888888,
              "#b5de2b"
             ],
             [
              1,
              "#fde725"
             ]
            ],
            "type": "contour"
           }
          ],
          "contourcarpet": [
           {
            "colorbar": {
             "outlinewidth": 1,
             "tickcolor": "rgb(36,36,36)",
             "ticks": "outside"
            },
            "type": "contourcarpet"
           }
          ],
          "heatmap": [
           {
            "colorbar": {
             "outlinewidth": 1,
             "tickcolor": "rgb(36,36,36)",
             "ticks": "outside"
            },
            "colorscale": [
             [
              0,
              "#440154"
             ],
             [
              0.1111111111111111,
              "#482878"
             ],
             [
              0.2222222222222222,
              "#3e4989"
             ],
             [
              0.3333333333333333,
              "#31688e"
             ],
             [
              0.4444444444444444,
              "#26828e"
             ],
             [
              0.5555555555555556,
              "#1f9e89"
             ],
             [
              0.6666666666666666,
              "#35b779"
             ],
             [
              0.7777777777777778,
              "#6ece58"
             ],
             [
              0.8888888888888888,
              "#b5de2b"
             ],
             [
              1,
              "#fde725"
             ]
            ],
            "type": "heatmap"
           }
          ],
          "heatmapgl": [
           {
            "colorbar": {
             "outlinewidth": 1,
             "tickcolor": "rgb(36,36,36)",
             "ticks": "outside"
            },
            "colorscale": [
             [
              0,
              "#440154"
             ],
             [
              0.1111111111111111,
              "#482878"
             ],
             [
              0.2222222222222222,
              "#3e4989"
             ],
             [
              0.3333333333333333,
              "#31688e"
             ],
             [
              0.4444444444444444,
              "#26828e"
             ],
             [
              0.5555555555555556,
              "#1f9e89"
             ],
             [
              0.6666666666666666,
              "#35b779"
             ],
             [
              0.7777777777777778,
              "#6ece58"
             ],
             [
              0.8888888888888888,
              "#b5de2b"
             ],
             [
              1,
              "#fde725"
             ]
            ],
            "type": "heatmapgl"
           }
          ],
          "histogram": [
           {
            "marker": {
             "line": {
              "color": "white",
              "width": 0.6
             }
            },
            "type": "histogram"
           }
          ],
          "histogram2d": [
           {
            "colorbar": {
             "outlinewidth": 1,
             "tickcolor": "rgb(36,36,36)",
             "ticks": "outside"
            },
            "colorscale": [
             [
              0,
              "#440154"
             ],
             [
              0.1111111111111111,
              "#482878"
             ],
             [
              0.2222222222222222,
              "#3e4989"
             ],
             [
              0.3333333333333333,
              "#31688e"
             ],
             [
              0.4444444444444444,
              "#26828e"
             ],
             [
              0.5555555555555556,
              "#1f9e89"
             ],
             [
              0.6666666666666666,
              "#35b779"
             ],
             [
              0.7777777777777778,
              "#6ece58"
             ],
             [
              0.8888888888888888,
              "#b5de2b"
             ],
             [
              1,
              "#fde725"
             ]
            ],
            "type": "histogram2d"
           }
          ],
          "histogram2dcontour": [
           {
            "colorbar": {
             "outlinewidth": 1,
             "tickcolor": "rgb(36,36,36)",
             "ticks": "outside"
            },
            "colorscale": [
             [
              0,
              "#440154"
             ],
             [
              0.1111111111111111,
              "#482878"
             ],
             [
              0.2222222222222222,
              "#3e4989"
             ],
             [
              0.3333333333333333,
              "#31688e"
             ],
             [
              0.4444444444444444,
              "#26828e"
             ],
             [
              0.5555555555555556,
              "#1f9e89"
             ],
             [
              0.6666666666666666,
              "#35b779"
             ],
             [
              0.7777777777777778,
              "#6ece58"
             ],
             [
              0.8888888888888888,
              "#b5de2b"
             ],
             [
              1,
              "#fde725"
             ]
            ],
            "type": "histogram2dcontour"
           }
          ],
          "mesh3d": [
           {
            "colorbar": {
             "outlinewidth": 1,
             "tickcolor": "rgb(36,36,36)",
             "ticks": "outside"
            },
            "type": "mesh3d"
           }
          ],
          "parcoords": [
           {
            "line": {
             "colorbar": {
              "outlinewidth": 1,
              "tickcolor": "rgb(36,36,36)",
              "ticks": "outside"
             }
            },
            "type": "parcoords"
           }
          ],
          "pie": [
           {
            "automargin": true,
            "type": "pie"
           }
          ],
          "scatter": [
           {
            "fillpattern": {
             "fillmode": "overlay",
             "size": 10,
             "solidity": 0.2
            },
            "type": "scatter"
           }
          ],
          "scatter3d": [
           {
            "line": {
             "colorbar": {
              "outlinewidth": 1,
              "tickcolor": "rgb(36,36,36)",
              "ticks": "outside"
             }
            },
            "marker": {
             "colorbar": {
              "outlinewidth": 1,
              "tickcolor": "rgb(36,36,36)",
              "ticks": "outside"
             }
            },
            "type": "scatter3d"
           }
          ],
          "scattercarpet": [
           {
            "marker": {
             "colorbar": {
              "outlinewidth": 1,
              "tickcolor": "rgb(36,36,36)",
              "ticks": "outside"
             }
            },
            "type": "scattercarpet"
           }
          ],
          "scattergeo": [
           {
            "marker": {
             "colorbar": {
              "outlinewidth": 1,
              "tickcolor": "rgb(36,36,36)",
              "ticks": "outside"
             }
            },
            "type": "scattergeo"
           }
          ],
          "scattergl": [
           {
            "marker": {
             "colorbar": {
              "outlinewidth": 1,
              "tickcolor": "rgb(36,36,36)",
              "ticks": "outside"
             }
            },
            "type": "scattergl"
           }
          ],
          "scattermapbox": [
           {
            "marker": {
             "colorbar": {
              "outlinewidth": 1,
              "tickcolor": "rgb(36,36,36)",
              "ticks": "outside"
             }
            },
            "type": "scattermapbox"
           }
          ],
          "scatterpolar": [
           {
            "marker": {
             "colorbar": {
              "outlinewidth": 1,
              "tickcolor": "rgb(36,36,36)",
              "ticks": "outside"
             }
            },
            "type": "scatterpolar"
           }
          ],
          "scatterpolargl": [
           {
            "marker": {
             "colorbar": {
              "outlinewidth": 1,
              "tickcolor": "rgb(36,36,36)",
              "ticks": "outside"
             }
            },
            "type": "scatterpolargl"
           }
          ],
          "scatterternary": [
           {
            "marker": {
             "colorbar": {
              "outlinewidth": 1,
              "tickcolor": "rgb(36,36,36)",
              "ticks": "outside"
             }
            },
            "type": "scatterternary"
           }
          ],
          "surface": [
           {
            "colorbar": {
             "outlinewidth": 1,
             "tickcolor": "rgb(36,36,36)",
             "ticks": "outside"
            },
            "colorscale": [
             [
              0,
              "#440154"
             ],
             [
              0.1111111111111111,
              "#482878"
             ],
             [
              0.2222222222222222,
              "#3e4989"
             ],
             [
              0.3333333333333333,
              "#31688e"
             ],
             [
              0.4444444444444444,
              "#26828e"
             ],
             [
              0.5555555555555556,
              "#1f9e89"
             ],
             [
              0.6666666666666666,
              "#35b779"
             ],
             [
              0.7777777777777778,
              "#6ece58"
             ],
             [
              0.8888888888888888,
              "#b5de2b"
             ],
             [
              1,
              "#fde725"
             ]
            ],
            "type": "surface"
           }
          ],
          "table": [
           {
            "cells": {
             "fill": {
              "color": "rgb(237,237,237)"
             },
             "line": {
              "color": "white"
             }
            },
            "header": {
             "fill": {
              "color": "rgb(217,217,217)"
             },
             "line": {
              "color": "white"
             }
            },
            "type": "table"
           }
          ]
         },
         "layout": {
          "annotationdefaults": {
           "arrowhead": 0,
           "arrowwidth": 1
          },
          "autotypenumbers": "strict",
          "coloraxis": {
           "colorbar": {
            "outlinewidth": 1,
            "tickcolor": "rgb(36,36,36)",
            "ticks": "outside"
           }
          },
          "colorscale": {
           "diverging": [
            [
             0,
             "rgb(103,0,31)"
            ],
            [
             0.1,
             "rgb(178,24,43)"
            ],
            [
             0.2,
             "rgb(214,96,77)"
            ],
            [
             0.3,
             "rgb(244,165,130)"
            ],
            [
             0.4,
             "rgb(253,219,199)"
            ],
            [
             0.5,
             "rgb(247,247,247)"
            ],
            [
             0.6,
             "rgb(209,229,240)"
            ],
            [
             0.7,
             "rgb(146,197,222)"
            ],
            [
             0.8,
             "rgb(67,147,195)"
            ],
            [
             0.9,
             "rgb(33,102,172)"
            ],
            [
             1,
             "rgb(5,48,97)"
            ]
           ],
           "sequential": [
            [
             0,
             "#440154"
            ],
            [
             0.1111111111111111,
             "#482878"
            ],
            [
             0.2222222222222222,
             "#3e4989"
            ],
            [
             0.3333333333333333,
             "#31688e"
            ],
            [
             0.4444444444444444,
             "#26828e"
            ],
            [
             0.5555555555555556,
             "#1f9e89"
            ],
            [
             0.6666666666666666,
             "#35b779"
            ],
            [
             0.7777777777777778,
             "#6ece58"
            ],
            [
             0.8888888888888888,
             "#b5de2b"
            ],
            [
             1,
             "#fde725"
            ]
           ],
           "sequentialminus": [
            [
             0,
             "#440154"
            ],
            [
             0.1111111111111111,
             "#482878"
            ],
            [
             0.2222222222222222,
             "#3e4989"
            ],
            [
             0.3333333333333333,
             "#31688e"
            ],
            [
             0.4444444444444444,
             "#26828e"
            ],
            [
             0.5555555555555556,
             "#1f9e89"
            ],
            [
             0.6666666666666666,
             "#35b779"
            ],
            [
             0.7777777777777778,
             "#6ece58"
            ],
            [
             0.8888888888888888,
             "#b5de2b"
            ],
            [
             1,
             "#fde725"
            ]
           ]
          },
          "colorway": [
           "#1F77B4",
           "#FF7F0E",
           "#2CA02C",
           "#D62728",
           "#9467BD",
           "#8C564B",
           "#E377C2",
           "#7F7F7F",
           "#BCBD22",
           "#17BECF"
          ],
          "font": {
           "color": "rgb(36,36,36)"
          },
          "geo": {
           "bgcolor": "white",
           "lakecolor": "white",
           "landcolor": "white",
           "showlakes": true,
           "showland": true,
           "subunitcolor": "white"
          },
          "hoverlabel": {
           "align": "left"
          },
          "hovermode": "closest",
          "mapbox": {
           "style": "light"
          },
          "paper_bgcolor": "white",
          "plot_bgcolor": "white",
          "polar": {
           "angularaxis": {
            "gridcolor": "rgb(232,232,232)",
            "linecolor": "rgb(36,36,36)",
            "showgrid": false,
            "showline": true,
            "ticks": "outside"
           },
           "bgcolor": "white",
           "radialaxis": {
            "gridcolor": "rgb(232,232,232)",
            "linecolor": "rgb(36,36,36)",
            "showgrid": false,
            "showline": true,
            "ticks": "outside"
           }
          },
          "scene": {
           "xaxis": {
            "backgroundcolor": "white",
            "gridcolor": "rgb(232,232,232)",
            "gridwidth": 2,
            "linecolor": "rgb(36,36,36)",
            "showbackground": true,
            "showgrid": false,
            "showline": true,
            "ticks": "outside",
            "zeroline": false,
            "zerolinecolor": "rgb(36,36,36)"
           },
           "yaxis": {
            "backgroundcolor": "white",
            "gridcolor": "rgb(232,232,232)",
            "gridwidth": 2,
            "linecolor": "rgb(36,36,36)",
            "showbackground": true,
            "showgrid": false,
            "showline": true,
            "ticks": "outside",
            "zeroline": false,
            "zerolinecolor": "rgb(36,36,36)"
           },
           "zaxis": {
            "backgroundcolor": "white",
            "gridcolor": "rgb(232,232,232)",
            "gridwidth": 2,
            "linecolor": "rgb(36,36,36)",
            "showbackground": true,
            "showgrid": false,
            "showline": true,
            "ticks": "outside",
            "zeroline": false,
            "zerolinecolor": "rgb(36,36,36)"
           }
          },
          "shapedefaults": {
           "fillcolor": "black",
           "line": {
            "width": 0
           },
           "opacity": 0.3
          },
          "ternary": {
           "aaxis": {
            "gridcolor": "rgb(232,232,232)",
            "linecolor": "rgb(36,36,36)",
            "showgrid": false,
            "showline": true,
            "ticks": "outside"
           },
           "baxis": {
            "gridcolor": "rgb(232,232,232)",
            "linecolor": "rgb(36,36,36)",
            "showgrid": false,
            "showline": true,
            "ticks": "outside"
           },
           "bgcolor": "white",
           "caxis": {
            "gridcolor": "rgb(232,232,232)",
            "linecolor": "rgb(36,36,36)",
            "showgrid": false,
            "showline": true,
            "ticks": "outside"
           }
          },
          "title": {
           "x": 0.05
          },
          "xaxis": {
           "automargin": true,
           "gridcolor": "rgb(232,232,232)",
           "linecolor": "rgb(36,36,36)",
           "showgrid": false,
           "showline": true,
           "ticks": "outside",
           "title": {
            "standoff": 15
           },
           "zeroline": false,
           "zerolinecolor": "rgb(36,36,36)"
          },
          "yaxis": {
           "automargin": true,
           "gridcolor": "rgb(232,232,232)",
           "linecolor": "rgb(36,36,36)",
           "showgrid": false,
           "showline": true,
           "ticks": "outside",
           "title": {
            "standoff": 15
           },
           "zeroline": false,
           "zerolinecolor": "rgb(36,36,36)"
          }
         }
        },
        "width": 700,
        "xaxis": {
         "anchor": "y",
         "autorange": true,
         "domain": [
          0,
          0.31999999999999995
         ],
         "range": [
          -0.7721357112147372,
          17.217135711214738
         ],
         "title": {
          "text": "value"
         },
         "type": "linear"
        },
        "xaxis2": {
         "anchor": "y2",
         "autorange": true,
         "domain": [
          0.33999999999999997,
          0.6599999999999999
         ],
         "range": [
          0.12356741740252011,
          2.7644325825974803
         ],
         "title": {
          "text": "value"
         },
         "type": "linear"
        },
        "xaxis3": {
         "anchor": "y3",
         "autorange": true,
         "domain": [
          0.6799999999999999,
          0.9999999999999999
         ],
         "range": [
          0.4547755564374773,
          3.4862244435625227
         ],
         "title": {
          "text": "value"
         },
         "type": "linear"
        },
        "yaxis": {
         "anchor": "x",
         "autorange": true,
         "domain": [
          0,
          1
         ],
         "range": [
          0.03554761904761905,
          0.47745238095238096
         ],
         "title": {
          "text": "RMSE"
         },
         "type": "linear"
        },
        "yaxis2": {
         "anchor": "x2",
         "autorange": true,
         "domain": [
          0,
          1
         ],
         "matches": "y",
         "range": [
          0.03554761904761905,
          0.47745238095238096
         ],
         "showticklabels": false,
         "type": "linear"
        },
        "yaxis3": {
         "anchor": "x3",
         "autorange": true,
         "domain": [
          0,
          1
         ],
         "matches": "y",
         "range": [
          0.03554761904761905,
          0.47745238095238096
         ],
         "showticklabels": false,
         "type": "linear"
        }
       }
      },
      "image/png": "[encoded data removed]",
      "text/html": [
       "<div>                            <div id=\"cb2dcbd6-dec2-4eb4-a975-d53619aa23b0\" class=\"plotly-graph-div\" style=\"height:300px; width:700px;\"></div>            <script type=\"text/javascript\">                require([\"plotly\"], function(Plotly) {                    window.PLOTLYENV=window.PLOTLYENV || {};                                    if (document.getElementById(\"cb2dcbd6-dec2-4eb4-a975-d53619aa23b0\")) {                    Plotly.newPlot(                        \"cb2dcbd6-dec2-4eb4-a975-d53619aa23b0\",                        [{\"hovertemplate\":\"labels=Reservoirs<br>value=%{x}<br>RMSE=%{y}<br>WLVar_over_RMSE=%{marker.color}<extra></extra>\",\"legendgroup\":\"\",\"marker\":{\"color\":[0.009070109495015527,0.012333333333333333,0.0070892754101063386,0.027579678131902808,0.035651869975533025,0.09793133802816903,0.0611646418098031,0.018992493443067738,0.21666666666666667],\"coloraxis\":\"coloraxis\",\"symbol\":\"circle\"},\"mode\":\"markers\",\"name\":\"\",\"orientation\":\"v\",\"showlegend\":false,\"x\":[12.238,12.0,12.131,15.845,2.861,4.544,4.774,11.057,0.6],\"xaxis\":\"x\",\"y\":[0.111,0.148,0.086,0.437,0.102,0.445,0.292,0.21,0.13],\"yaxis\":\"y\",\"type\":\"scatter\"},{\"hovertemplate\":\"labels=LOCSS<br>value=%{x}<br>RMSE=%{y}<br>WLVar_over_RMSE=%{marker.color}<extra></extra>\",\"legendgroup\":\"\",\"marker\":{\"color\":[0.209106239460371,0.25,0.1390593047034765,0.1898066783831283,0.3107692307692308,0.12040816326530612,0.11002731174404992,0.23621103117505998],\"coloraxis\":\"coloraxis\",\"symbol\":\"circle\"},\"mode\":\"markers\",\"name\":\"\",\"orientation\":\"v\",\"showlegend\":false,\"x\":[0.593,0.52,0.489,0.569,0.325,1.47,2.563,0.834],\"xaxis\":\"x2\",\"y\":[0.124,0.13,0.068,0.108,0.101,0.177,0.282,0.197],\"yaxis\":\"y2\",\"type\":\"scatter\"},{\"hovertemplate\":\"labels=National Dataset<br>value=%{x}<br>RMSE=%{y}<br>WLVar_over_RMSE=%{marker.color}<extra></extra>\",\"legendgroup\":\"\",\"marker\":{\"color\":[0.18127250900360145,0.1028243601059135,0.06290322580645161,0.08101045296167247,0.17930029154518948,0.17073170731707318,0.07759626604434072,0.07311827956989247,0.14944649446494465],\"coloraxis\":\"coloraxis\",\"symbol\":\"circle\"},\"mode\":\"markers\",\"name\":\"\",\"orientation\":\"v\",\"showlegend\":false,\"x\":[0.833,2.266,1.86,1.148,0.686,1.025,1.714,3.255,1.626],\"xaxis\":\"x3\",\"y\":[0.151,0.233,0.117,0.093,0.123,0.175,0.133,0.238,0.243],\"yaxis\":\"y3\",\"type\":\"scatter\"}],                        {\"template\":{\"data\":{\"barpolar\":[{\"marker\":{\"line\":{\"color\":\"white\",\"width\":0.5},\"pattern\":{\"fillmode\":\"overlay\",\"size\":10,\"solidity\":0.2}},\"type\":\"barpolar\"}],\"bar\":[{\"error_x\":{\"color\":\"rgb(36,36,36)\"},\"error_y\":{\"color\":\"rgb(36,36,36)\"},\"marker\":{\"line\":{\"color\":\"white\",\"width\":0.5},\"pattern\":{\"fillmode\":\"overlay\",\"size\":10,\"solidity\":0.2}},\"type\":\"bar\"}],\"carpet\":[{\"aaxis\":{\"endlinecolor\":\"rgb(36,36,36)\",\"gridcolor\":\"white\",\"linecolor\":\"white\",\"minorgridcolor\":\"white\",\"startlinecolor\":\"rgb(36,36,36)\"},\"baxis\":{\"endlinecolor\":\"rgb(36,36,36)\",\"gridcolor\":\"white\",\"linecolor\":\"white\",\"minorgridcolor\":\"white\",\"startlinecolor\":\"rgb(36,36,36)\"},\"type\":\"carpet\"}],\"choropleth\":[{\"colorbar\":{\"outlinewidth\":1,\"tickcolor\":\"rgb(36,36,36)\",\"ticks\":\"outside\"},\"type\":\"choropleth\"}],\"contourcarpet\":[{\"colorbar\":{\"outlinewidth\":1,\"tickcolor\":\"rgb(36,36,36)\",\"ticks\":\"outside\"},\"type\":\"contourcarpet\"}],\"contour\":[{\"colorbar\":{\"outlinewidth\":1,\"tickcolor\":\"rgb(36,36,36)\",\"ticks\":\"outside\"},\"colorscale\":[[0.0,\"#440154\"],[0.1111111111111111,\"#482878\"],[0.2222222222222222,\"#3e4989\"],[0.3333333333333333,\"#31688e\"],[0.4444444444444444,\"#26828e\"],[0.5555555555555556,\"#1f9e89\"],[0.6666666666666666,\"#35b779\"],[0.7777777777777778,\"#6ece58\"],[0.8888888888888888,\"#b5de2b\"],[1.0,\"#fde725\"]],\"type\":\"contour\"}],\"heatmapgl\":[{\"colorbar\":{\"outlinewidth\":1,\"tickcolor\":\"rgb(36,36,36)\",\"ticks\":\"outside\"},\"colorscale\":[[0.0,\"#440154\"],[0.1111111111111111,\"#482878\"],[0.2222222222222222,\"#3e4989\"],[0.3333333333333333,\"#31688e\"],[0.4444444444444444,\"#26828e\"],[0.5555555555555556,\"#1f9e89\"],[0.6666666666666666,\"#35b779\"],[0.7777777777777778,\"#6ece58\"],[0.8888888888888888,\"#b5de2b\"],[1.0,\"#fde725\"]],\"type\":\"heatmapgl\"}],\"heatmap\":[{\"colorbar\":{\"outlinewidth\":1,\"tickcolor\":\"rgb(36,36,36)\",\"ticks\":\"outside\"},\"colorscale\":[[0.0,\"#440154\"],[0.1111111111111111,\"#482878\"],[0.2222222222222222,\"#3e4989\"],[0.3333333333333333,\"#31688e\"],[0.4444444444444444,\"#26828e\"],[0.5555555555555556,\"#1f9e89\"],[0.6666666666666666,\"#35b779\"],[0.7777777777777778,\"#6ece58\"],[0.8888888888888888,\"#b5de2b\"],[1.0,\"#fde725\"]],\"type\":\"heatmap\"}],\"histogram2dcontour\":[{\"colorbar\":{\"outlinewidth\":1,\"tickcolor\":\"rgb(36,36,36)\",\"ticks\":\"outside\"},\"colorscale\":[[0.0,\"#440154\"],[0.1111111111111111,\"#482878\"],[0.2222222222222222,\"#3e4989\"],[0.3333333333333333,\"#31688e\"],[0.4444444444444444,\"#26828e\"],[0.5555555555555556,\"#1f9e89\"],[0.6666666666666666,\"#35b779\"],[0.7777777777777778,\"#6ece58\"],[0.8888888888888888,\"#b5de2b\"],[1.0,\"#fde725\"]],\"type\":\"histogram2dcontour\"}],\"histogram2d\":[{\"colorbar\":{\"outlinewidth\":1,\"tickcolor\":\"rgb(36,36,36)\",\"ticks\":\"outside\"},\"colorscale\":[[0.0,\"#440154\"],[0.1111111111111111,\"#482878\"],[0.2222222222222222,\"#3e4989\"],[0.3333333333333333,\"#31688e\"],[0.4444444444444444,\"#26828e\"],[0.5555555555555556,\"#1f9e89\"],[0.6666666666666666,\"#35b779\"],[0.7777777777777778,\"#6ece58\"],[0.8888888888888888,\"#b5de2b\"],[1.0,\"#fde725\"]],\"type\":\"histogram2d\"}],\"histogram\":[{\"marker\":{\"line\":{\"color\":\"white\",\"width\":0.6}},\"type\":\"histogram\"}],\"mesh3d\":[{\"colorbar\":{\"outlinewidth\":1,\"tickcolor\":\"rgb(36,36,36)\",\"ticks\":\"outside\"},\"type\":\"mesh3d\"}],\"parcoords\":[{\"line\":{\"colorbar\":{\"outlinewidth\":1,\"tickcolor\":\"rgb(36,36,36)\",\"ticks\":\"outside\"}},\"type\":\"parcoords\"}],\"pie\":[{\"automargin\":true,\"type\":\"pie\"}],\"scatter3d\":[{\"line\":{\"colorbar\":{\"outlinewidth\":1,\"tickcolor\":\"rgb(36,36,36)\",\"ticks\":\"outside\"}},\"marker\":{\"colorbar\":{\"outlinewidth\":1,\"tickcolor\":\"rgb(36,36,36)\",\"ticks\":\"outside\"}},\"type\":\"scatter3d\"}],\"scattercarpet\":[{\"marker\":{\"colorbar\":{\"outlinewidth\":1,\"tickcolor\":\"rgb(36,36,36)\",\"ticks\":\"outside\"}},\"type\":\"scattercarpet\"}],\"scattergeo\":[{\"marker\":{\"colorbar\":{\"outlinewidth\":1,\"tickcolor\":\"rgb(36,36,36)\",\"ticks\":\"outside\"}},\"type\":\"scattergeo\"}],\"scattergl\":[{\"marker\":{\"colorbar\":{\"outlinewidth\":1,\"tickcolor\":\"rgb(36,36,36)\",\"ticks\":\"outside\"}},\"type\":\"scattergl\"}],\"scattermapbox\":[{\"marker\":{\"colorbar\":{\"outlinewidth\":1,\"tickcolor\":\"rgb(36,36,36)\",\"ticks\":\"outside\"}},\"type\":\"scattermapbox\"}],\"scatterpolargl\":[{\"marker\":{\"colorbar\":{\"outlinewidth\":1,\"tickcolor\":\"rgb(36,36,36)\",\"ticks\":\"outside\"}},\"type\":\"scatterpolargl\"}],\"scatterpolar\":[{\"marker\":{\"colorbar\":{\"outlinewidth\":1,\"tickcolor\":\"rgb(36,36,36)\",\"ticks\":\"outside\"}},\"type\":\"scatterpolar\"}],\"scatter\":[{\"fillpattern\":{\"fillmode\":\"overlay\",\"size\":10,\"solidity\":0.2},\"type\":\"scatter\"}],\"scatterternary\":[{\"marker\":{\"colorbar\":{\"outlinewidth\":1,\"tickcolor\":\"rgb(36,36,36)\",\"ticks\":\"outside\"}},\"type\":\"scatterternary\"}],\"surface\":[{\"colorbar\":{\"outlinewidth\":1,\"tickcolor\":\"rgb(36,36,36)\",\"ticks\":\"outside\"},\"colorscale\":[[0.0,\"#440154\"],[0.1111111111111111,\"#482878\"],[0.2222222222222222,\"#3e4989\"],[0.3333333333333333,\"#31688e\"],[0.4444444444444444,\"#26828e\"],[0.5555555555555556,\"#1f9e89\"],[0.6666666666666666,\"#35b779\"],[0.7777777777777778,\"#6ece58\"],[0.8888888888888888,\"#b5de2b\"],[1.0,\"#fde725\"]],\"type\":\"surface\"}],\"table\":[{\"cells\":{\"fill\":{\"color\":\"rgb(237,237,237)\"},\"line\":{\"color\":\"white\"}},\"header\":{\"fill\":{\"color\":\"rgb(217,217,217)\"},\"line\":{\"color\":\"white\"}},\"type\":\"table\"}]},\"layout\":{\"annotationdefaults\":{\"arrowhead\":0,\"arrowwidth\":1},\"autotypenumbers\":\"strict\",\"coloraxis\":{\"colorbar\":{\"outlinewidth\":1,\"tickcolor\":\"rgb(36,36,36)\",\"ticks\":\"outside\"}},\"colorscale\":{\"diverging\":[[0.0,\"rgb(103,0,31)\"],[0.1,\"rgb(178,24,43)\"],[0.2,\"rgb(214,96,77)\"],[0.3,\"rgb(244,165,130)\"],[0.4,\"rgb(253,219,199)\"],[0.5,\"rgb(247,247,247)\"],[0.6,\"rgb(209,229,240)\"],[0.7,\"rgb(146,197,222)\"],[0.8,\"rgb(67,147,195)\"],[0.9,\"rgb(33,102,172)\"],[1.0,\"rgb(5,48,97)\"]],\"sequential\":[[0.0,\"#440154\"],[0.1111111111111111,\"#482878\"],[0.2222222222222222,\"#3e4989\"],[0.3333333333333333,\"#31688e\"],[0.4444444444444444,\"#26828e\"],[0.5555555555555556,\"#1f9e89\"],[0.6666666666666666,\"#35b779\"],[0.7777777777777778,\"#6ece58\"],[0.8888888888888888,\"#b5de2b\"],[1.0,\"#fde725\"]],\"sequentialminus\":[[0.0,\"#440154\"],[0.1111111111111111,\"#482878\"],[0.2222222222222222,\"#3e4989\"],[0.3333333333333333,\"#31688e\"],[0.4444444444444444,\"#26828e\"],[0.5555555555555556,\"#1f9e89\"],[0.6666666666666666,\"#35b779\"],[0.7777777777777778,\"#6ece58\"],[0.8888888888888888,\"#b5de2b\"],[1.0,\"#fde725\"]]},\"colorway\":[\"#1F77B4\",\"#FF7F0E\",\"#2CA02C\",\"#D62728\",\"#9467BD\",\"#8C564B\",\"#E377C2\",\"#7F7F7F\",\"#BCBD22\",\"#17BECF\"],\"font\":{\"color\":\"rgb(36,36,36)\"},\"geo\":{\"bgcolor\":\"white\",\"lakecolor\":\"white\",\"landcolor\":\"white\",\"showlakes\":true,\"showland\":true,\"subunitcolor\":\"white\"},\"hoverlabel\":{\"align\":\"left\"},\"hovermode\":\"closest\",\"mapbox\":{\"style\":\"light\"},\"paper_bgcolor\":\"white\",\"plot_bgcolor\":\"white\",\"polar\":{\"angularaxis\":{\"gridcolor\":\"rgb(232,232,232)\",\"linecolor\":\"rgb(36,36,36)\",\"showgrid\":false,\"showline\":true,\"ticks\":\"outside\"},\"bgcolor\":\"white\",\"radialaxis\":{\"gridcolor\":\"rgb(232,232,232)\",\"linecolor\":\"rgb(36,36,36)\",\"showgrid\":false,\"showline\":true,\"ticks\":\"outside\"}},\"scene\":{\"xaxis\":{\"backgroundcolor\":\"white\",\"gridcolor\":\"rgb(232,232,232)\",\"gridwidth\":2,\"linecolor\":\"rgb(36,36,36)\",\"showbackground\":true,\"showgrid\":false,\"showline\":true,\"ticks\":\"outside\",\"zeroline\":false,\"zerolinecolor\":\"rgb(36,36,36)\"},\"yaxis\":{\"backgroundcolor\":\"white\",\"gridcolor\":\"rgb(232,232,232)\",\"gridwidth\":2,\"linecolor\":\"rgb(36,36,36)\",\"showbackground\":true,\"showgrid\":false,\"showline\":true,\"ticks\":\"outside\",\"zeroline\":false,\"zerolinecolor\":\"rgb(36,36,36)\"},\"zaxis\":{\"backgroundcolor\":\"white\",\"gridcolor\":\"rgb(232,232,232)\",\"gridwidth\":2,\"linecolor\":\"rgb(36,36,36)\",\"showbackground\":true,\"showgrid\":false,\"showline\":true,\"ticks\":\"outside\",\"zeroline\":false,\"zerolinecolor\":\"rgb(36,36,36)\"}},\"shapedefaults\":{\"fillcolor\":\"black\",\"line\":{\"width\":0},\"opacity\":0.3},\"ternary\":{\"aaxis\":{\"gridcolor\":\"rgb(232,232,232)\",\"linecolor\":\"rgb(36,36,36)\",\"showgrid\":false,\"showline\":true,\"ticks\":\"outside\"},\"baxis\":{\"gridcolor\":\"rgb(232,232,232)\",\"linecolor\":\"rgb(36,36,36)\",\"showgrid\":false,\"showline\":true,\"ticks\":\"outside\"},\"bgcolor\":\"white\",\"caxis\":{\"gridcolor\":\"rgb(232,232,232)\",\"linecolor\":\"rgb(36,36,36)\",\"showgrid\":false,\"showline\":true,\"ticks\":\"outside\"}},\"title\":{\"x\":0.05},\"xaxis\":{\"automargin\":true,\"gridcolor\":\"rgb(232,232,232)\",\"linecolor\":\"rgb(36,36,36)\",\"showgrid\":false,\"showline\":true,\"ticks\":\"outside\",\"title\":{\"standoff\":15},\"zeroline\":false,\"zerolinecolor\":\"rgb(36,36,36)\"},\"yaxis\":{\"automargin\":true,\"gridcolor\":\"rgb(232,232,232)\",\"linecolor\":\"rgb(36,36,36)\",\"showgrid\":false,\"showline\":true,\"ticks\":\"outside\",\"title\":{\"standoff\":15},\"zeroline\":false,\"zerolinecolor\":\"rgb(36,36,36)\"}}},\"xaxis\":{\"anchor\":\"y\",\"domain\":[0.0,0.31999999999999995],\"title\":{\"text\":\"value\"}},\"yaxis\":{\"anchor\":\"x\",\"domain\":[0.0,1.0],\"title\":{\"text\":\"RMSE\"}},\"xaxis2\":{\"anchor\":\"y2\",\"domain\":[0.33999999999999997,0.6599999999999999],\"title\":{\"text\":\"value\"}},\"yaxis2\":{\"anchor\":\"x2\",\"domain\":[0.0,1.0],\"matches\":\"y\",\"showticklabels\":false},\"xaxis3\":{\"anchor\":\"y3\",\"domain\":[0.6799999999999999,0.9999999999999999],\"title\":{\"text\":\"value\"}},\"yaxis3\":{\"anchor\":\"x3\",\"domain\":[0.0,1.0],\"matches\":\"y\",\"showticklabels\":false},\"annotations\":[{\"font\":{},\"showarrow\":false,\"text\":\"Reservoirs\",\"x\":0.15999999999999998,\"xanchor\":\"center\",\"xref\":\"paper\",\"y\":1.0,\"yanchor\":\"bottom\",\"yref\":\"paper\"},{\"font\":{},\"showarrow\":false,\"text\":\"LOCSS\",\"x\":0.49999999999999994,\"xanchor\":\"center\",\"xref\":\"paper\",\"y\":1.0,\"yanchor\":\"bottom\",\"yref\":\"paper\"},{\"font\":{},\"showarrow\":false,\"text\":\"National Dataset\",\"x\":0.8399999999999999,\"xanchor\":\"center\",\"xref\":\"paper\",\"y\":1.0,\"yanchor\":\"bottom\",\"yref\":\"paper\"}],\"coloraxis\":{\"colorbar\":{\"title\":{\"text\":\"WLVar_over_RMSE\"}},\"colorscale\":[[0.0,\"#440154\"],[0.1111111111111111,\"#482878\"],[0.2222222222222222,\"#3e4989\"],[0.3333333333333333,\"#31688e\"],[0.4444444444444444,\"#26828e\"],[0.5555555555555556,\"#1f9e89\"],[0.6666666666666666,\"#35b779\"],[0.7777777777777778,\"#6ece58\"],[0.8888888888888888,\"#b5de2b\"],[1.0,\"#fde725\"]]},\"legend\":{\"tracegroupgap\":0},\"margin\":{\"t\":60},\"height\":300,\"width\":700},                        {\"responsive\": true}                    ).then(function(){\n",
       "                            \n",
       "var gd = document.getElementById('cb2dcbd6-dec2-4eb4-a975-d53619aa23b0');\n",
       "var x = new MutationObserver(function (mutations, observer) {{\n",
       "        var display = window.getComputedStyle(gd).display;\n",
       "        if (!display || display === 'none') {{\n",
       "            console.log([gd, 'removed!']);\n",
       "            Plotly.purge(gd);\n",
       "            observer.disconnect();\n",
       "        }}\n",
       "}});\n",
       "\n",
       "// Listen for the removal of the full notebook cells\n",
       "var notebookContainer = gd.closest('#notebook-container');\n",
       "if (notebookContainer) {{\n",
       "    x.observe(notebookContainer, {childList: true});\n",
       "}}\n",
       "\n",
       "// Listen for the clearing of the current output cell\n",
       "var outputEl = gd.closest('.output');\n",
       "if (outputEl) {{\n",
       "    x.observe(outputEl, {childList: true});\n",
       "}}\n",
       "\n",
       "                        })                };                });            </script>        </div>"
      ]
     },
     "metadata": {},
     "output_type": "display_data"
    }
   ],
   "source": [
    "\n",
    "df_melt_area=df_melt.loc[(~df_melt['source'].isin(['K_CA', 'K_US']))&(df_melt['predictors'].isin(['APL']))].copy()\n",
    "df_melt_area['WLVar_over_RMSE']=df_melt_area['RMSE']/df_melt_area['value']\n",
    "df_melt_area.loc[df_melt_area['source'].isin(['ARHN','USGS']), 'labels']='National Dataset'\n",
    "df_melt_area.loc[df_melt_area['source']=='LOCSS', 'labels']='LOCSS'\n",
    "df_melt_area.loc[df_melt_area['source']=='RVBR', 'labels']='Reservoirs'\n",
    "\n",
    "\n",
    "import plotly.express as px\n",
    "\n",
    "df=df_melt_area\n",
    "x_fd='value'\n",
    "y_fd='RMSE'\n",
    "facet_col='labels'#'predictors'\n",
    "facet_row='labels'\n",
    "color='WLVar_over_RMSE'\n",
    "fig = px.scatter(df.loc[df['RMSE']<.5], x=x_fd, y=y_fd, facet_col=facet_col,color=color,#facet_row=facet_row,\n",
    "                template=\"simple_white\", width=700, height=300)\n",
    "# fig.update_traces(marker=dict(size=5,color='#661666'))\n",
    "fig.update_xaxes(matches=None)\n",
    "\n",
    "fig.for_each_annotation(lambda a: a.update(text=a.text.split(\"=\")[-1]))\n",
    "fig.show()\n",
    "# del df_melt_area"
   ]
  },
  {
   "cell_type": "code",
   "execution_count": 66,
   "id": "562e4df1-427b-4290-b9e3-1cc89fc887c6",
   "metadata": {},
   "outputs": [
    {
     "data": {
      "text/html": [
       "<div>\n",
       "<style scoped>\n",
       "    .dataframe tbody tr th:only-of-type {\n",
       "        vertical-align: middle;\n",
       "    }\n",
       "\n",
       "    .dataframe tbody tr th {\n",
       "        vertical-align: top;\n",
       "    }\n",
       "\n",
       "    .dataframe thead th {\n",
       "        text-align: right;\n",
       "    }\n",
       "</style>\n",
       "<table border=\"1\" class=\"dataframe\">\n",
       "  <thead>\n",
       "    <tr style=\"text-align: right;\">\n",
       "      <th></th>\n",
       "      <th>gauge_id</th>\n",
       "      <th>lake_id</th>\n",
       "      <th>sat</th>\n",
       "      <th>RMSE</th>\n",
       "      <th>R</th>\n",
       "      <th>source</th>\n",
       "      <th>orbit</th>\n",
       "      <th>orbit_count</th>\n",
       "      <th>lake_area</th>\n",
       "      <th>predictors</th>\n",
       "      <th>value</th>\n",
       "      <th>WLVar_over_RMSE</th>\n",
       "      <th>labels</th>\n",
       "    </tr>\n",
       "  </thead>\n",
       "  <tbody>\n",
       "    <tr>\n",
       "      <th>135</th>\n",
       "      <td>SLL2</td>\n",
       "      <td>1.052865e+06</td>\n",
       "      <td>S3B</td>\n",
       "      <td>0.197</td>\n",
       "      <td>0.624</td>\n",
       "      <td>LOCSS</td>\n",
       "      <td>275</td>\n",
       "      <td>1.0</td>\n",
       "      <td>0.24</td>\n",
       "      <td>APL</td>\n",
       "      <td>0.834</td>\n",
       "      <td>0.236211</td>\n",
       "      <td>LOCSS</td>\n",
       "    </tr>\n",
       "    <tr>\n",
       "      <th>120</th>\n",
       "      <td>HMT2</td>\n",
       "      <td>8.651200e+05</td>\n",
       "      <td>S3A</td>\n",
       "      <td>0.068</td>\n",
       "      <td>0.887</td>\n",
       "      <td>LOCSS</td>\n",
       "      <td>176</td>\n",
       "      <td>1.0</td>\n",
       "      <td>0.37</td>\n",
       "      <td>APL</td>\n",
       "      <td>0.489</td>\n",
       "      <td>0.139059</td>\n",
       "      <td>LOCSS</td>\n",
       "    </tr>\n",
       "    <tr>\n",
       "      <th>119</th>\n",
       "      <td>CFN2</td>\n",
       "      <td>7.320417e+09</td>\n",
       "      <td>S3A</td>\n",
       "      <td>0.130</td>\n",
       "      <td>0.608</td>\n",
       "      <td>LOCSS</td>\n",
       "      <td>18</td>\n",
       "      <td>NaN</td>\n",
       "      <td>3.72</td>\n",
       "      <td>APL</td>\n",
       "      <td>0.520</td>\n",
       "      <td>0.250000</td>\n",
       "      <td>LOCSS</td>\n",
       "    </tr>\n",
       "    <tr>\n",
       "      <th>118</th>\n",
       "      <td>BTN2</td>\n",
       "      <td>7.320429e+09</td>\n",
       "      <td>S3B</td>\n",
       "      <td>0.124</td>\n",
       "      <td>0.625</td>\n",
       "      <td>LOCSS</td>\n",
       "      <td>346</td>\n",
       "      <td>1.0</td>\n",
       "      <td>5.77</td>\n",
       "      <td>APL</td>\n",
       "      <td>0.593</td>\n",
       "      <td>0.209106</td>\n",
       "      <td>LOCSS</td>\n",
       "    </tr>\n",
       "    <tr>\n",
       "      <th>126</th>\n",
       "      <td>2234</td>\n",
       "      <td>6.610150e+09</td>\n",
       "      <td>S3A</td>\n",
       "      <td>0.175</td>\n",
       "      <td>0.560</td>\n",
       "      <td>ARHN</td>\n",
       "      <td>338</td>\n",
       "      <td>1.0</td>\n",
       "      <td>9.26</td>\n",
       "      <td>APL</td>\n",
       "      <td>1.025</td>\n",
       "      <td>0.170732</td>\n",
       "      <td>National Dataset</td>\n",
       "    </tr>\n",
       "    <tr>\n",
       "      <th>125</th>\n",
       "      <td>2234</td>\n",
       "      <td>6.610150e+09</td>\n",
       "      <td>S3A</td>\n",
       "      <td>0.123</td>\n",
       "      <td>0.658</td>\n",
       "      <td>ARHN</td>\n",
       "      <td>318</td>\n",
       "      <td>1.0</td>\n",
       "      <td>9.26</td>\n",
       "      <td>APL</td>\n",
       "      <td>0.686</td>\n",
       "      <td>0.179300</td>\n",
       "      <td>National Dataset</td>\n",
       "    </tr>\n",
       "    <tr>\n",
       "      <th>131</th>\n",
       "      <td>WEW2</td>\n",
       "      <td>7.820034e+09</td>\n",
       "      <td>S3A</td>\n",
       "      <td>0.282</td>\n",
       "      <td>0.833</td>\n",
       "      <td>LOCSS</td>\n",
       "      <td>319</td>\n",
       "      <td>1.0</td>\n",
       "      <td>9.53</td>\n",
       "      <td>APL</td>\n",
       "      <td>2.563</td>\n",
       "      <td>0.110027</td>\n",
       "      <td>LOCSS</td>\n",
       "    </tr>\n",
       "    <tr>\n",
       "      <th>130</th>\n",
       "      <td>2464800</td>\n",
       "      <td>7.320103e+09</td>\n",
       "      <td>S3A</td>\n",
       "      <td>0.133</td>\n",
       "      <td>0.871</td>\n",
       "      <td>USGS</td>\n",
       "      <td>97</td>\n",
       "      <td>1.0</td>\n",
       "      <td>18.05</td>\n",
       "      <td>APL</td>\n",
       "      <td>1.714</td>\n",
       "      <td>0.077596</td>\n",
       "      <td>National Dataset</td>\n",
       "    </tr>\n",
       "    <tr>\n",
       "      <th>129</th>\n",
       "      <td>SAW2</td>\n",
       "      <td>7.830177e+09</td>\n",
       "      <td>S3A</td>\n",
       "      <td>0.177</td>\n",
       "      <td>0.754</td>\n",
       "      <td>LOCSS</td>\n",
       "      <td>13</td>\n",
       "      <td>1.0</td>\n",
       "      <td>19.05</td>\n",
       "      <td>APL</td>\n",
       "      <td>1.470</td>\n",
       "      <td>0.120408</td>\n",
       "      <td>LOCSS</td>\n",
       "    </tr>\n",
       "    <tr>\n",
       "      <th>116</th>\n",
       "      <td>12036</td>\n",
       "      <td>1.203600e+04</td>\n",
       "      <td>S3B</td>\n",
       "      <td>0.437</td>\n",
       "      <td>0.999</td>\n",
       "      <td>RVBR</td>\n",
       "      <td>223</td>\n",
       "      <td>1.0</td>\n",
       "      <td>20.44</td>\n",
       "      <td>APL</td>\n",
       "      <td>15.845</td>\n",
       "      <td>0.027580</td>\n",
       "      <td>Reservoirs</td>\n",
       "    </tr>\n",
       "    <tr>\n",
       "      <th>115</th>\n",
       "      <td>12036</td>\n",
       "      <td>1.203600e+04</td>\n",
       "      <td>J3</td>\n",
       "      <td>0.962</td>\n",
       "      <td>0.986</td>\n",
       "      <td>RVBR</td>\n",
       "      <td>82</td>\n",
       "      <td>1.0</td>\n",
       "      <td>20.44</td>\n",
       "      <td>APL</td>\n",
       "      <td>13.516</td>\n",
       "      <td>0.071175</td>\n",
       "      <td>Reservoirs</td>\n",
       "    </tr>\n",
       "    <tr>\n",
       "      <th>117</th>\n",
       "      <td>12327</td>\n",
       "      <td>1.232700e+04</td>\n",
       "      <td>S3A</td>\n",
       "      <td>0.102</td>\n",
       "      <td>0.994</td>\n",
       "      <td>RVBR</td>\n",
       "      <td>380</td>\n",
       "      <td>1.0</td>\n",
       "      <td>20.44</td>\n",
       "      <td>APL</td>\n",
       "      <td>2.861</td>\n",
       "      <td>0.035652</td>\n",
       "      <td>Reservoirs</td>\n",
       "    </tr>\n",
       "    <tr>\n",
       "      <th>136</th>\n",
       "      <td>6604000</td>\n",
       "      <td>7.420497e+09</td>\n",
       "      <td>S3B</td>\n",
       "      <td>0.243</td>\n",
       "      <td>0.810</td>\n",
       "      <td>USGS</td>\n",
       "      <td>240</td>\n",
       "      <td>1.0</td>\n",
       "      <td>21.27</td>\n",
       "      <td>APL</td>\n",
       "      <td>1.626</td>\n",
       "      <td>0.149446</td>\n",
       "      <td>National Dataset</td>\n",
       "    </tr>\n",
       "    <tr>\n",
       "      <th>124</th>\n",
       "      <td>1824</td>\n",
       "      <td>6.610143e+09</td>\n",
       "      <td>S3A</td>\n",
       "      <td>0.093</td>\n",
       "      <td>0.937</td>\n",
       "      <td>ARHN</td>\n",
       "      <td>281</td>\n",
       "      <td>1.0</td>\n",
       "      <td>37.04</td>\n",
       "      <td>APL</td>\n",
       "      <td>1.148</td>\n",
       "      <td>0.081010</td>\n",
       "      <td>National Dataset</td>\n",
       "    </tr>\n",
       "    <tr>\n",
       "      <th>122</th>\n",
       "      <td>2028</td>\n",
       "      <td>6.620001e+09</td>\n",
       "      <td>S3A</td>\n",
       "      <td>0.117</td>\n",
       "      <td>0.973</td>\n",
       "      <td>ARHN</td>\n",
       "      <td>375</td>\n",
       "      <td>1.0</td>\n",
       "      <td>51.34</td>\n",
       "      <td>APL</td>\n",
       "      <td>1.860</td>\n",
       "      <td>0.062903</td>\n",
       "      <td>National Dataset</td>\n",
       "    </tr>\n",
       "    <tr>\n",
       "      <th>123</th>\n",
       "      <td>2028</td>\n",
       "      <td>6.620001e+09</td>\n",
       "      <td>J3</td>\n",
       "      <td>0.233</td>\n",
       "      <td>0.906</td>\n",
       "      <td>ARHN</td>\n",
       "      <td>108</td>\n",
       "      <td>1.0</td>\n",
       "      <td>51.34</td>\n",
       "      <td>APL</td>\n",
       "      <td>2.266</td>\n",
       "      <td>0.102824</td>\n",
       "      <td>National Dataset</td>\n",
       "    </tr>\n",
       "    <tr>\n",
       "      <th>134</th>\n",
       "      <td>6903880</td>\n",
       "      <td>7.420464e+09</td>\n",
       "      <td>S3A</td>\n",
       "      <td>0.238</td>\n",
       "      <td>0.923</td>\n",
       "      <td>USGS</td>\n",
       "      <td>318</td>\n",
       "      <td>1.0</td>\n",
       "      <td>52.94</td>\n",
       "      <td>APL</td>\n",
       "      <td>3.255</td>\n",
       "      <td>0.073118</td>\n",
       "      <td>National Dataset</td>\n",
       "    </tr>\n",
       "    <tr>\n",
       "      <th>139</th>\n",
       "      <td>19126</td>\n",
       "      <td>1.912600e+04</td>\n",
       "      <td>S3A</td>\n",
       "      <td>0.130</td>\n",
       "      <td>0.594</td>\n",
       "      <td>RVBR</td>\n",
       "      <td>280</td>\n",
       "      <td>1.0</td>\n",
       "      <td>62.36</td>\n",
       "      <td>APL</td>\n",
       "      <td>0.600</td>\n",
       "      <td>0.216667</td>\n",
       "      <td>Reservoirs</td>\n",
       "    </tr>\n",
       "    <tr>\n",
       "      <th>128</th>\n",
       "      <td>PHN2</td>\n",
       "      <td>7.320415e+09</td>\n",
       "      <td>S3A</td>\n",
       "      <td>0.101</td>\n",
       "      <td>0.479</td>\n",
       "      <td>LOCSS</td>\n",
       "      <td>75</td>\n",
       "      <td>1.0</td>\n",
       "      <td>63.55</td>\n",
       "      <td>APL</td>\n",
       "      <td>0.325</td>\n",
       "      <td>0.310769</td>\n",
       "      <td>LOCSS</td>\n",
       "    </tr>\n",
       "    <tr>\n",
       "      <th>138</th>\n",
       "      <td>19069</td>\n",
       "      <td>1.906900e+04</td>\n",
       "      <td>S3A</td>\n",
       "      <td>0.210</td>\n",
       "      <td>0.997</td>\n",
       "      <td>RVBR</td>\n",
       "      <td>95</td>\n",
       "      <td>1.0</td>\n",
       "      <td>64.98</td>\n",
       "      <td>APL</td>\n",
       "      <td>11.057</td>\n",
       "      <td>0.018992</td>\n",
       "      <td>Reservoirs</td>\n",
       "    </tr>\n",
       "    <tr>\n",
       "      <th>137</th>\n",
       "      <td>TAB2</td>\n",
       "      <td>2.200000e+01</td>\n",
       "      <td>S3A</td>\n",
       "      <td>0.776</td>\n",
       "      <td>0.852</td>\n",
       "      <td>LOCSS</td>\n",
       "      <td>97</td>\n",
       "      <td>1.0</td>\n",
       "      <td>66.10</td>\n",
       "      <td>APL</td>\n",
       "      <td>4.589</td>\n",
       "      <td>0.169100</td>\n",
       "      <td>LOCSS</td>\n",
       "    </tr>\n",
       "    <tr>\n",
       "      <th>114</th>\n",
       "      <td>12030</td>\n",
       "      <td>1.203000e+04</td>\n",
       "      <td>S3A</td>\n",
       "      <td>2.730</td>\n",
       "      <td>0.922</td>\n",
       "      <td>RVBR</td>\n",
       "      <td>131</td>\n",
       "      <td>1.0</td>\n",
       "      <td>67.04</td>\n",
       "      <td>APL</td>\n",
       "      <td>18.239</td>\n",
       "      <td>0.149679</td>\n",
       "      <td>Reservoirs</td>\n",
       "    </tr>\n",
       "    <tr>\n",
       "      <th>113</th>\n",
       "      <td>12030</td>\n",
       "      <td>1.203000e+04</td>\n",
       "      <td>S3A</td>\n",
       "      <td>1.854</td>\n",
       "      <td>0.969</td>\n",
       "      <td>RVBR</td>\n",
       "      <td>52</td>\n",
       "      <td>1.0</td>\n",
       "      <td>67.04</td>\n",
       "      <td>APL</td>\n",
       "      <td>16.456</td>\n",
       "      <td>0.112664</td>\n",
       "      <td>Reservoirs</td>\n",
       "    </tr>\n",
       "    <tr>\n",
       "      <th>112</th>\n",
       "      <td>12030</td>\n",
       "      <td>1.203000e+04</td>\n",
       "      <td>J3</td>\n",
       "      <td>1.016</td>\n",
       "      <td>0.990</td>\n",
       "      <td>RVBR</td>\n",
       "      <td>44</td>\n",
       "      <td>1.0</td>\n",
       "      <td>67.04</td>\n",
       "      <td>APL</td>\n",
       "      <td>23.423</td>\n",
       "      <td>0.043376</td>\n",
       "      <td>Reservoirs</td>\n",
       "    </tr>\n",
       "    <tr>\n",
       "      <th>132</th>\n",
       "      <td>19060</td>\n",
       "      <td>1.906000e+04</td>\n",
       "      <td>S3A</td>\n",
       "      <td>0.292</td>\n",
       "      <td>0.974</td>\n",
       "      <td>RVBR</td>\n",
       "      <td>38</td>\n",
       "      <td>1.0</td>\n",
       "      <td>74.07</td>\n",
       "      <td>APL</td>\n",
       "      <td>4.774</td>\n",
       "      <td>0.061165</td>\n",
       "      <td>Reservoirs</td>\n",
       "    </tr>\n",
       "    <tr>\n",
       "      <th>133</th>\n",
       "      <td>19060</td>\n",
       "      <td>1.906000e+04</td>\n",
       "      <td>J3</td>\n",
       "      <td>0.445</td>\n",
       "      <td>0.930</td>\n",
       "      <td>RVBR</td>\n",
       "      <td>6</td>\n",
       "      <td>1.0</td>\n",
       "      <td>74.07</td>\n",
       "      <td>APL</td>\n",
       "      <td>4.544</td>\n",
       "      <td>0.097931</td>\n",
       "      <td>Reservoirs</td>\n",
       "    </tr>\n",
       "    <tr>\n",
       "      <th>121</th>\n",
       "      <td>2316</td>\n",
       "      <td>6.530065e+09</td>\n",
       "      <td>S3B</td>\n",
       "      <td>0.151</td>\n",
       "      <td>0.804</td>\n",
       "      <td>ARHN</td>\n",
       "      <td>10</td>\n",
       "      <td>1.0</td>\n",
       "      <td>82.24</td>\n",
       "      <td>APL</td>\n",
       "      <td>0.833</td>\n",
       "      <td>0.181273</td>\n",
       "      <td>National Dataset</td>\n",
       "    </tr>\n",
       "    <tr>\n",
       "      <th>127</th>\n",
       "      <td>VCN2</td>\n",
       "      <td>7.320415e+09</td>\n",
       "      <td>S3B</td>\n",
       "      <td>0.108</td>\n",
       "      <td>0.689</td>\n",
       "      <td>LOCSS</td>\n",
       "      <td>11</td>\n",
       "      <td>1.0</td>\n",
       "      <td>158.36</td>\n",
       "      <td>APL</td>\n",
       "      <td>0.569</td>\n",
       "      <td>0.189807</td>\n",
       "      <td>LOCSS</td>\n",
       "    </tr>\n",
       "  </tbody>\n",
       "</table>\n",
       "</div>"
      ],
      "text/plain": [
       "    gauge_id       lake_id  sat   RMSE      R source  orbit  orbit_count  \\\n",
       "135     SLL2  1.052865e+06  S3B  0.197  0.624  LOCSS    275          1.0   \n",
       "120     HMT2  8.651200e+05  S3A  0.068  0.887  LOCSS    176          1.0   \n",
       "119     CFN2  7.320417e+09  S3A  0.130  0.608  LOCSS     18          NaN   \n",
       "118     BTN2  7.320429e+09  S3B  0.124  0.625  LOCSS    346          1.0   \n",
       "126     2234  6.610150e+09  S3A  0.175  0.560   ARHN    338          1.0   \n",
       "125     2234  6.610150e+09  S3A  0.123  0.658   ARHN    318          1.0   \n",
       "131     WEW2  7.820034e+09  S3A  0.282  0.833  LOCSS    319          1.0   \n",
       "130  2464800  7.320103e+09  S3A  0.133  0.871   USGS     97          1.0   \n",
       "129     SAW2  7.830177e+09  S3A  0.177  0.754  LOCSS     13          1.0   \n",
       "116    12036  1.203600e+04  S3B  0.437  0.999   RVBR    223          1.0   \n",
       "115    12036  1.203600e+04   J3  0.962  0.986   RVBR     82          1.0   \n",
       "117    12327  1.232700e+04  S3A  0.102  0.994   RVBR    380          1.0   \n",
       "136  6604000  7.420497e+09  S3B  0.243  0.810   USGS    240          1.0   \n",
       "124     1824  6.610143e+09  S3A  0.093  0.937   ARHN    281          1.0   \n",
       "122     2028  6.620001e+09  S3A  0.117  0.973   ARHN    375          1.0   \n",
       "123     2028  6.620001e+09   J3  0.233  0.906   ARHN    108          1.0   \n",
       "134  6903880  7.420464e+09  S3A  0.238  0.923   USGS    318          1.0   \n",
       "139    19126  1.912600e+04  S3A  0.130  0.594   RVBR    280          1.0   \n",
       "128     PHN2  7.320415e+09  S3A  0.101  0.479  LOCSS     75          1.0   \n",
       "138    19069  1.906900e+04  S3A  0.210  0.997   RVBR     95          1.0   \n",
       "137     TAB2  2.200000e+01  S3A  0.776  0.852  LOCSS     97          1.0   \n",
       "114    12030  1.203000e+04  S3A  2.730  0.922   RVBR    131          1.0   \n",
       "113    12030  1.203000e+04  S3A  1.854  0.969   RVBR     52          1.0   \n",
       "112    12030  1.203000e+04   J3  1.016  0.990   RVBR     44          1.0   \n",
       "132    19060  1.906000e+04  S3A  0.292  0.974   RVBR     38          1.0   \n",
       "133    19060  1.906000e+04   J3  0.445  0.930   RVBR      6          1.0   \n",
       "121     2316  6.530065e+09  S3B  0.151  0.804   ARHN     10          1.0   \n",
       "127     VCN2  7.320415e+09  S3B  0.108  0.689  LOCSS     11          1.0   \n",
       "\n",
       "     lake_area predictors   value  WLVar_over_RMSE            labels  \n",
       "135       0.24        APL   0.834         0.236211             LOCSS  \n",
       "120       0.37        APL   0.489         0.139059             LOCSS  \n",
       "119       3.72        APL   0.520         0.250000             LOCSS  \n",
       "118       5.77        APL   0.593         0.209106             LOCSS  \n",
       "126       9.26        APL   1.025         0.170732  National Dataset  \n",
       "125       9.26        APL   0.686         0.179300  National Dataset  \n",
       "131       9.53        APL   2.563         0.110027             LOCSS  \n",
       "130      18.05        APL   1.714         0.077596  National Dataset  \n",
       "129      19.05        APL   1.470         0.120408             LOCSS  \n",
       "116      20.44        APL  15.845         0.027580        Reservoirs  \n",
       "115      20.44        APL  13.516         0.071175        Reservoirs  \n",
       "117      20.44        APL   2.861         0.035652        Reservoirs  \n",
       "136      21.27        APL   1.626         0.149446  National Dataset  \n",
       "124      37.04        APL   1.148         0.081010  National Dataset  \n",
       "122      51.34        APL   1.860         0.062903  National Dataset  \n",
       "123      51.34        APL   2.266         0.102824  National Dataset  \n",
       "134      52.94        APL   3.255         0.073118  National Dataset  \n",
       "139      62.36        APL   0.600         0.216667        Reservoirs  \n",
       "128      63.55        APL   0.325         0.310769             LOCSS  \n",
       "138      64.98        APL  11.057         0.018992        Reservoirs  \n",
       "137      66.10        APL   4.589         0.169100             LOCSS  \n",
       "114      67.04        APL  18.239         0.149679        Reservoirs  \n",
       "113      67.04        APL  16.456         0.112664        Reservoirs  \n",
       "112      67.04        APL  23.423         0.043376        Reservoirs  \n",
       "132      74.07        APL   4.774         0.061165        Reservoirs  \n",
       "133      74.07        APL   4.544         0.097931        Reservoirs  \n",
       "121      82.24        APL   0.833         0.181273  National Dataset  \n",
       "127     158.36        APL   0.569         0.189807             LOCSS  "
      ]
     },
     "execution_count": 66,
     "metadata": {},
     "output_type": "execute_result"
    }
   ],
   "source": [
    "df.sort_values('lake_area')"
   ]
  },
  {
   "cell_type": "code",
   "execution_count": 87,
   "id": "1165c3b8-fee6-4c27-b595-61af8df23c23",
   "metadata": {},
   "outputs": [
    {
     "data": {
      "text/plain": [
       "(21, 12)"
      ]
     },
     "execution_count": 87,
     "metadata": {},
     "output_type": "execute_result"
    }
   ],
   "source": [
    "#Amount of lakes that have RMSE/std greater than 1\n",
    "df_melt_area.loc[(df_melt_area['predictors']=='std_obs')&(df_melt_area['WLVar_over_RMSE']>1)].shape\n",
    "df_melt_area.loc[(df_melt_area['predictors']=='std_obs')].shape"
   ]
  },
  {
   "cell_type": "code",
   "execution_count": 90,
   "id": "54443047-85db-4f4b-afec-422beb9f248b",
   "metadata": {},
   "outputs": [
    {
     "data": {
      "text/plain": [
       "(9, 12)"
      ]
     },
     "execution_count": 90,
     "metadata": {},
     "output_type": "execute_result"
    }
   ],
   "source": [
    "df_melt_area.loc[(df_melt_area['predictors']=='std_obs')&(df_melt_area['WLVar_over_RMSE']>1)\n",
    "                &((df_melt_area['WLVar_over_RMSE']<1.5))].shape\n"
   ]
  },
  {
   "cell_type": "code",
   "execution_count": 93,
   "id": "9742ab2b-066d-4ed6-8ede-6087a0de628b",
   "metadata": {},
   "outputs": [
    {
     "data": {
      "text/plain": [
       "(2, 12)"
      ]
     },
     "execution_count": 93,
     "metadata": {},
     "output_type": "execute_result"
    }
   ],
   "source": [
    "#Amount of lakes that have RMSE/std greater than 1\n",
    "df_melt_area.loc[(df_melt_area['predictors']=='APL')&(df_melt_area['WLVar_over_RMSE']>1)].shape\n",
    "# df_melt_area.loc[(df_melt_area['predictors']=='APL')].shape"
   ]
  },
  {
   "cell_type": "code",
   "execution_count": 94,
   "id": "4737a8ab-ef75-44b4-8a68-ea07ffc48ef9",
   "metadata": {},
   "outputs": [
    {
     "data": {
      "text/plain": [
       "(2, 12)"
      ]
     },
     "execution_count": 94,
     "metadata": {},
     "output_type": "execute_result"
    }
   ],
   "source": [
    "df_melt_area.loc[(df_melt_area['predictors']=='APL')&(df_melt_area['WLVar_over_RMSE']>1)\n",
    "                &((df_melt_area['WLVar_over_RMSE']<1.5))].shape"
   ]
  },
  {
   "cell_type": "code",
   "execution_count": null,
   "id": "00da7a76-1f3d-47df-b57d-43a104f75104",
   "metadata": {},
   "outputs": [],
   "source": [
    "df_melt_area=df_melt.loc[(df_melt['predictors'].isin(['APL', 'std_obs']))]#&(~df_melt['source'].isin(['K_CA', 'K_US']))].copy()\n",
    "df_melt_area['WLVar_RMSE']=df_melt_area['value']-df_melt_area['RMSE']\n",
    "df_melt_area\n",
    "\n",
    "\n",
    "import plotly.express as px\n",
    "df=df_melt_area\n",
    "x_fd='value'\n",
    "y_fd='RMSE'\n",
    "facet='predictors'\n",
    "color='WLVar_RMSE'\n",
    "fig = px.scatter(df.loc[df['RMSE']<.5], x=x_fd, y=y_fd, facet_col=facet,color=color,\n",
    "                template=\"simple_white\")\n",
    "# fig.update_traces(marker=dict(size=5,color='#661666'))\n",
    "fig.update_xaxes(matches=None)\n",
    "\n",
    "fig.for_each_annotation(lambda a: a.update(text=a.text.split(\"=\")[-1]))\n",
    "fig.show()\n",
    "del df_melt_area"
   ]
  },
  {
   "cell_type": "code",
   "execution_count": 42,
   "id": "27c3751c-cc91-414a-8b85-54d86d45cd90",
   "metadata": {},
   "outputs": [
    {
     "data": {
      "text/html": [
       "<div>\n",
       "<style scoped>\n",
       "    .dataframe tbody tr th:only-of-type {\n",
       "        vertical-align: middle;\n",
       "    }\n",
       "\n",
       "    .dataframe tbody tr th {\n",
       "        vertical-align: top;\n",
       "    }\n",
       "\n",
       "    .dataframe thead th {\n",
       "        text-align: right;\n",
       "    }\n",
       "</style>\n",
       "<table border=\"1\" class=\"dataframe\">\n",
       "  <thead>\n",
       "    <tr style=\"text-align: right;\">\n",
       "      <th></th>\n",
       "      <th>gauge_id</th>\n",
       "      <th>lake_id</th>\n",
       "      <th>sat</th>\n",
       "      <th>RMSE</th>\n",
       "      <th>R</th>\n",
       "      <th>source</th>\n",
       "      <th>orbit</th>\n",
       "      <th>orbit_count</th>\n",
       "      <th>lake_area</th>\n",
       "      <th>predictors</th>\n",
       "      <th>value</th>\n",
       "      <th>WLVar_RMSE</th>\n",
       "    </tr>\n",
       "  </thead>\n",
       "  <tbody>\n",
       "    <tr>\n",
       "      <th>72</th>\n",
       "      <td>12030</td>\n",
       "      <td>1.203000e+04</td>\n",
       "      <td>J3</td>\n",
       "      <td>1.016</td>\n",
       "      <td>0.990</td>\n",
       "      <td>RVBR</td>\n",
       "      <td>44</td>\n",
       "      <td>1.0</td>\n",
       "      <td>67.04</td>\n",
       "      <td>std_obs</td>\n",
       "      <td>6.755851</td>\n",
       "      <td>5.739851</td>\n",
       "    </tr>\n",
       "    <tr>\n",
       "      <th>73</th>\n",
       "      <td>12030</td>\n",
       "      <td>1.203000e+04</td>\n",
       "      <td>S3A</td>\n",
       "      <td>1.854</td>\n",
       "      <td>0.969</td>\n",
       "      <td>RVBR</td>\n",
       "      <td>52</td>\n",
       "      <td>1.0</td>\n",
       "      <td>67.04</td>\n",
       "      <td>std_obs</td>\n",
       "      <td>6.534899</td>\n",
       "      <td>4.680899</td>\n",
       "    </tr>\n",
       "    <tr>\n",
       "      <th>74</th>\n",
       "      <td>12030</td>\n",
       "      <td>1.203000e+04</td>\n",
       "      <td>S3A</td>\n",
       "      <td>2.730</td>\n",
       "      <td>0.922</td>\n",
       "      <td>RVBR</td>\n",
       "      <td>131</td>\n",
       "      <td>1.0</td>\n",
       "      <td>67.04</td>\n",
       "      <td>std_obs</td>\n",
       "      <td>6.602417</td>\n",
       "      <td>3.872417</td>\n",
       "    </tr>\n",
       "    <tr>\n",
       "      <th>75</th>\n",
       "      <td>12036</td>\n",
       "      <td>1.203600e+04</td>\n",
       "      <td>J3</td>\n",
       "      <td>0.962</td>\n",
       "      <td>0.986</td>\n",
       "      <td>RVBR</td>\n",
       "      <td>82</td>\n",
       "      <td>1.0</td>\n",
       "      <td>20.44</td>\n",
       "      <td>std_obs</td>\n",
       "      <td>4.970555</td>\n",
       "      <td>4.008555</td>\n",
       "    </tr>\n",
       "    <tr>\n",
       "      <th>76</th>\n",
       "      <td>12036</td>\n",
       "      <td>1.203600e+04</td>\n",
       "      <td>S3B</td>\n",
       "      <td>0.437</td>\n",
       "      <td>0.999</td>\n",
       "      <td>RVBR</td>\n",
       "      <td>223</td>\n",
       "      <td>1.0</td>\n",
       "      <td>20.44</td>\n",
       "      <td>std_obs</td>\n",
       "      <td>5.961666</td>\n",
       "      <td>5.524666</td>\n",
       "    </tr>\n",
       "    <tr>\n",
       "      <th>...</th>\n",
       "      <td>...</td>\n",
       "      <td>...</td>\n",
       "      <td>...</td>\n",
       "      <td>...</td>\n",
       "      <td>...</td>\n",
       "      <td>...</td>\n",
       "      <td>...</td>\n",
       "      <td>...</td>\n",
       "      <td>...</td>\n",
       "      <td>...</td>\n",
       "      <td>...</td>\n",
       "      <td>...</td>\n",
       "    </tr>\n",
       "    <tr>\n",
       "      <th>209</th>\n",
       "      <td>SLL2</td>\n",
       "      <td>1.052865e+06</td>\n",
       "      <td>S3B</td>\n",
       "      <td>0.197</td>\n",
       "      <td>0.624</td>\n",
       "      <td>LOCSS</td>\n",
       "      <td>275</td>\n",
       "      <td>1.0</td>\n",
       "      <td>0.24</td>\n",
       "      <td>APL</td>\n",
       "      <td>0.834000</td>\n",
       "      <td>0.637000</td>\n",
       "    </tr>\n",
       "    <tr>\n",
       "      <th>210</th>\n",
       "      <td>6604000</td>\n",
       "      <td>7.420497e+09</td>\n",
       "      <td>S3B</td>\n",
       "      <td>0.243</td>\n",
       "      <td>0.810</td>\n",
       "      <td>USGS</td>\n",
       "      <td>240</td>\n",
       "      <td>1.0</td>\n",
       "      <td>21.27</td>\n",
       "      <td>APL</td>\n",
       "      <td>1.626000</td>\n",
       "      <td>1.383000</td>\n",
       "    </tr>\n",
       "    <tr>\n",
       "      <th>211</th>\n",
       "      <td>TAB2</td>\n",
       "      <td>2.200000e+01</td>\n",
       "      <td>S3A</td>\n",
       "      <td>0.776</td>\n",
       "      <td>0.852</td>\n",
       "      <td>LOCSS</td>\n",
       "      <td>97</td>\n",
       "      <td>1.0</td>\n",
       "      <td>66.10</td>\n",
       "      <td>APL</td>\n",
       "      <td>4.589000</td>\n",
       "      <td>3.813000</td>\n",
       "    </tr>\n",
       "    <tr>\n",
       "      <th>212</th>\n",
       "      <td>19069</td>\n",
       "      <td>1.906900e+04</td>\n",
       "      <td>S3A</td>\n",
       "      <td>0.210</td>\n",
       "      <td>0.997</td>\n",
       "      <td>RVBR</td>\n",
       "      <td>95</td>\n",
       "      <td>1.0</td>\n",
       "      <td>64.98</td>\n",
       "      <td>APL</td>\n",
       "      <td>11.057000</td>\n",
       "      <td>10.847000</td>\n",
       "    </tr>\n",
       "    <tr>\n",
       "      <th>213</th>\n",
       "      <td>19126</td>\n",
       "      <td>1.912600e+04</td>\n",
       "      <td>S3A</td>\n",
       "      <td>0.130</td>\n",
       "      <td>0.594</td>\n",
       "      <td>RVBR</td>\n",
       "      <td>280</td>\n",
       "      <td>1.0</td>\n",
       "      <td>62.36</td>\n",
       "      <td>APL</td>\n",
       "      <td>0.600000</td>\n",
       "      <td>0.470000</td>\n",
       "    </tr>\n",
       "  </tbody>\n",
       "</table>\n",
       "<p>70 rows × 12 columns</p>\n",
       "</div>"
      ],
      "text/plain": [
       "    gauge_id       lake_id  sat   RMSE      R source  orbit  orbit_count  \\\n",
       "72     12030  1.203000e+04   J3  1.016  0.990   RVBR     44          1.0   \n",
       "73     12030  1.203000e+04  S3A  1.854  0.969   RVBR     52          1.0   \n",
       "74     12030  1.203000e+04  S3A  2.730  0.922   RVBR    131          1.0   \n",
       "75     12036  1.203600e+04   J3  0.962  0.986   RVBR     82          1.0   \n",
       "76     12036  1.203600e+04  S3B  0.437  0.999   RVBR    223          1.0   \n",
       "..       ...           ...  ...    ...    ...    ...    ...          ...   \n",
       "209     SLL2  1.052865e+06  S3B  0.197  0.624  LOCSS    275          1.0   \n",
       "210  6604000  7.420497e+09  S3B  0.243  0.810   USGS    240          1.0   \n",
       "211     TAB2  2.200000e+01  S3A  0.776  0.852  LOCSS     97          1.0   \n",
       "212    19069  1.906900e+04  S3A  0.210  0.997   RVBR     95          1.0   \n",
       "213    19126  1.912600e+04  S3A  0.130  0.594   RVBR    280          1.0   \n",
       "\n",
       "     lake_area predictors      value  WLVar_RMSE  \n",
       "72       67.04    std_obs   6.755851    5.739851  \n",
       "73       67.04    std_obs   6.534899    4.680899  \n",
       "74       67.04    std_obs   6.602417    3.872417  \n",
       "75       20.44    std_obs   4.970555    4.008555  \n",
       "76       20.44    std_obs   5.961666    5.524666  \n",
       "..         ...        ...        ...         ...  \n",
       "209       0.24        APL   0.834000    0.637000  \n",
       "210      21.27        APL   1.626000    1.383000  \n",
       "211      66.10        APL   4.589000    3.813000  \n",
       "212      64.98        APL  11.057000   10.847000  \n",
       "213      62.36        APL   0.600000    0.470000  \n",
       "\n",
       "[70 rows x 12 columns]"
      ]
     },
     "execution_count": 42,
     "metadata": {},
     "output_type": "execute_result"
    }
   ],
   "source": [
    "df_melt_area"
   ]
  },
  {
   "cell_type": "code",
   "execution_count": 23,
   "id": "3a0450ae-1575-4375-bf31-d5100c6447b9",
   "metadata": {
    "collapsed": true,
    "jupyter": {
     "outputs_hidden": true
    },
    "tags": []
   },
   "outputs": [
    {
     "name": "stderr",
     "output_type": "stream",
     "text": [
      "/tmp/ipykernel_1994609/800550747.py:64: UserWarning:\n",
      "\n",
      "FixedFormatter should only be used together with FixedLocator\n",
      "\n",
      "/tmp/ipykernel_1994609/800550747.py:64: UserWarning:\n",
      "\n",
      "FixedFormatter should only be used together with FixedLocator\n",
      "\n",
      "/tmp/ipykernel_1994609/800550747.py:64: UserWarning:\n",
      "\n",
      "FixedFormatter should only be used together with FixedLocator\n",
      "\n"
     ]
    },
    {
     "data": {
      "image/png": "[encoded data removed]",
      "text/plain": [
       "<Figure size 1500x500 with 3 Axes>"
      ]
     },
     "metadata": {},
     "output_type": "display_data"
    }
   ],
   "source": [
    "from matplotlib.ticker import FormatStrFormatter\n",
    "import matplotlib.pyplot as plt\n",
    "sns.set_style('white')\n",
    "plt.rcParams[\"figure.figsize\"] = (15,5)\n",
    "# plt.rcParams['font.family']='Arial'\n",
    "\n",
    "\n",
    "# print(df.head())\n",
    "df=df_final.loc[df_final['source'].isin(['LOCSS', 'RVBR','ARHN','USGS'])].copy()#.sort_values(by=['sat']).copy()\n",
    "\n",
    "df.loc[df['source']=='LOCSS', 'labels']='LOCSS'\n",
    "df.loc[df['source']=='RVBR', 'labels']='Reservoirs'\n",
    "df.loc[df['source'].isin(['ARHN','USGS']), 'labels']='National Dataset'\n",
    "\n",
    "# df=df.loc[df['variable'].isin(['RMSE','lakearea'])]\n",
    "fig, axes = plt.subplots(1,3)\n",
    "x_fd='source'\n",
    "y_fd='n_v_obs'\n",
    "y_label='n_v_obs'\n",
    "hue='labels'#'method'\n",
    "#     # col='variable'\n",
    "#     # size=\"Lake_area\"\n",
    "pal=sns.color_palette([\"#7570b3\", \"#1b9e77\", \"#d95f02\"], as_cmap=False)\n",
    "color=[\"#7570b3\", \"#d95f02\",\"#1b9e77\"]\n",
    "facet_kws={'sharey': True, 'sharex': False}\n",
    "row='source'\n",
    "#     # for i in ['r2', 'RMSE']:\n",
    "#     # df=df.loc[df[col]==i]\n",
    "\n",
    "\n",
    "# g = sns.relplot(data=df,facet_kws=facet_kws,\n",
    "#             x=x_fd, y=y_fd,#palette=pal,\n",
    "#             hue=hue,# col=col,size=size,\n",
    "#             row=row,# col_wrap=2,\n",
    "#             kind=\"scatter\", height=4, aspect=10/4)#,\n",
    "                #join=False)#,\n",
    "            #dodge=True)\n",
    "    #                height=4, aspect=.7)\n",
    "# Iterating through axes and names\n",
    "names=['LOCSS', 'Reservoirs','National Dataset']\n",
    "i=0\n",
    "pred=['std_obs','APL','lake_area','olength_wgs','TRI_median_all','nRMSE','n_v_obs','water_2_total_5km']\n",
    "# datasets=['LOCSS', 'RVBR',['ARHN','USGS']]\n",
    "# xlabels=df[hue].unique()\n",
    "# print(xlabels)\n",
    "for name, ax in zip(pred, axes.flatten()):\n",
    "    # sns.boxplot(y=name, x= \"a\", data=df, orient='v', ax=ax)\n",
    "    # if type(name)==list:\n",
    "    #     d_to_plot=df.loc[df[row].isin(name)]\n",
    "    # else:\n",
    "    y_fd=name\n",
    "    d_to_plot=df#.loc[df[row].isin([name])]\n",
    "    g = sns.boxplot(data=d_to_plot,#facet_kws=facet_kws,\n",
    "            y=y_fd,palette=pal,\n",
    "            x=hue,\n",
    "            ax=ax, linewidth=.5)\n",
    "    # if name=='ME':\n",
    "        # g.set(ylim=(-0.01, 0.01))\n",
    "    # else: \n",
    "    sns.stripplot(x=hue, y=y_fd, data=d_to_plot, marker=\"o\", alpha=0.3, color=\"black\", ax=ax)\n",
    "    ax.set_ylabel(y_label, fontsize=14)\n",
    "    ax.set_xlabel('', fontsize=14)\n",
    "    ax.set_xlabel(names[i], fontsize=14)\n",
    "    ax.set_yticklabels(ax.get_yticks(), size = 12)\n",
    "    # ax.set_xticklabels(xlabels, size = 14)\n",
    "    ax.yaxis.set_major_formatter(FormatStrFormatter('%.1f'))\n",
    "    i=i+1\n",
    "    "
   ]
  },
  {
   "cell_type": "raw",
   "id": "0a5b9f98-7795-4c3e-b464-94f60f883bd1",
   "metadata": {},
   "source": []
  },
  {
   "cell_type": "code",
   "execution_count": 107,
   "id": "afce647c-68cc-44b1-be83-3d7722a7797b",
   "metadata": {},
   "outputs": [],
   "source": [
    "df_final.to_csv('../data/results/order_importance_02_22_24.csv', sep=',')"
   ]
  }
 ],
 "metadata": {
  "kernelspec": {
   "display_name": "Python 3 (ipykernel)",
   "language": "python",
   "name": "python3"
  },
  "language_info": {
   "codemirror_mode": {
    "name": "ipython",
    "version": 3
   },
   "file_extension": ".py",
   "mimetype": "text/x-python",
   "name": "python",
   "nbconvert_exporter": "python",
   "pygments_lexer": "ipython3",
   "version": "3.9.18"
  }
 },
 "nbformat": 4,
 "nbformat_minor": 5
}
